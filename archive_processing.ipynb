{
 "cells": [
  {
   "cell_type": "code",
   "execution_count": 3,
   "metadata": {},
   "outputs": [
    {
     "name": "stdout",
     "output_type": "stream",
     "text": [
      "2018-05-18T13_43_48.204Z.html\n",
      "2018-05-17T18_00_02.859Z.html\n",
      "2018-05-17T18_18_26.208Z.html\n",
      "2018-05-17T18_00_04.193Z.html\n",
      "2018-05-17T17_12_35.293Z.html\n",
      "2018-05-18T05_28_36.491Z.html\n",
      "2018-05-17T18_17_37.327Z.html\n",
      "Project.html\n"
     ]
    }
   ],
   "source": [
    "import os, re\n",
    "from bs4 import BeautifulSoup\n",
    "read_data = []\n",
    "for file in os.listdir('Keep'):\n",
    "    if file[-4:] == 'html':\n",
    "        print(file)\n",
    "        with open('Keep/' + file, 'r') as f:\n",
    "            read_data.append(f.read())\n",
    "        f.closed\n",
    "    "
   ]
  },
  {
   "cell_type": "code",
   "execution_count": 100,
   "metadata": {},
   "outputs": [
    {
     "name": "stdout",
     "output_type": "stream",
     "text": [
      "{\"source\":Gkeep_arc\"user_id\":\"my\", \"date\":\"1526640228.0\", \"body\":\"['go to sleep', <br/>]\"}\n",
      "{\"source\":Gkeep_arc\"user_id\":\"my\", \"date\":\"1526569202.0\", \"body\":\"[]\"}\n",
      "{\"source\":Gkeep_arc\"user_id\":\"my\", \"date\":\"1526570306.0\", \"body\":\"['имени М.В. Ломоносова', <br/>, '.столовые диетического.nni atwi. Ml. ฯ', <br/>, 'КАССОВЫЙ ЧЕК', <br/>, 'РИХОД', <br/>, '1) Curl Phi6НЫЙ (семга)', <br/>, '1.000本45.00 45.00', <br/>, '4.09', <br/>, 'HAC 10/110', <br/>, '2) Каша пшеничная с ГРибами', <br/>, '1.000 + 45.00 45.00', <br/>, ', 09', <br/>, '3) Треска с пониаоРом запеченная (ФИ', <br/>, '1.000 * 85.00 85.00', <br/>, '7.73', <br/>, '04', <br/>, 'НАС 10/110', <br/>, 'H且C', <br/>, '10// 1 10', <br/>, 'тога,', <br/>, '三175.00', <br/>, '15.91', <br/>, 'CuMma HAC 10/110', <br/>, 'ЭЛЕКТРОННЫМИ', <br/>, 'CHO:', <br/>, '#175.00', <br/>, '#175 .00', <br/>, 'OCH', <br/>, 'ользоватепь:', <br/>, 'ELEPAílbi IOE ГОСУ РСТВЕННОЕ ЬЮАХЕТНОЕ', <br/>, \"БРАЗОВАНИЯ 'МОСКОВСКИЙ Í 0C91ї АРСТВЕНН\"]\"}\n",
      "{\"source\":Gkeep_arc\"user_id\":\"my\", \"date\":\"1526569204.0\", \"body\":\"[<br/>, <br/>, 'I just finished my supper without meat']\"}\n",
      "{\"source\":Gkeep_arc\"user_id\":\"my\", \"date\":\"1526566355.0\", \"body\":\"['okay thanks login to Google Keep']\"}\n",
      "{\"source\":Gkeep_arc\"user_id\":\"my\", \"date\":\"1526610516.0\", \"body\":\"['первая идея:', <br/>, 'научить людей выигрывать и математике']\"}\n",
      "{\"source\":Gkeep_arc\"user_id\":\"my\", \"date\":\"1526570257.0\", \"body\":\"[]\"}\n",
      "{\"source\":Gkeep_arc\"user_id\":\"my\", \"date\":\"1526566026.0\", \"body\":\"['First of all we need logging - formalize my life or state of environment to optimize late  ']\"}\n",
      "\n"
     ]
    }
   ],
   "source": [
    "def log_from_keep(data_html):\n",
    "    log = ''\n",
    "    for data in data_html:\n",
    "        soup = BeautifulSoup(data, 'html.parser')\n",
    "        date = keep_date_normalize(soup.title)\n",
    "        if not date:\n",
    "            date = keep_date_normalize(soup.div)\n",
    "        body = soup.find_all(attrs={\"class\": \"content\"})\n",
    "        body = body[0]\n",
    "        log += add_to_log(source='Gkeep_arc', id='my', date=date, body=body.contents)\n",
    "    return log\n",
    "print(log_from_keep(read_data))"
   ]
  },
  {
   "cell_type": "code",
   "execution_count": 93,
   "metadata": {},
   "outputs": [],
   "source": [
    "def add_to_log(source, id, date, body):\n",
    "    log = ('{\"source\":' + source + \n",
    "            '\"user_id\":\"' + str(id) + \n",
    "            '\", \"date\":\"' + str(date) +\n",
    "            '\", \"body\":\"' + str(body) +\n",
    "          '\"}\\n')\n",
    "    return log\n",
    "    #write_log(file='Log_raw/Log_raw.txt', log=log)"
   ]
  },
  {
   "cell_type": "code",
   "execution_count": 89,
   "metadata": {},
   "outputs": [
    {
     "name": "stdout",
     "output_type": "stream",
     "text": [
      "1526640228.0\n",
      "['go to sleep', <br/>]\n",
      "\n",
      "1526569202.0\n",
      "[]\n",
      "\n",
      "1526570306.0\n",
      "['имени М.В. Ломоносова', <br/>, '.столовые диетического.nni atwi. Ml. ฯ', <br/>, 'КАССОВЫЙ ЧЕК', <br/>, 'РИХОД', <br/>, '1) Curl Phi6НЫЙ (семга)', <br/>, '1.000本45.00 45.00', <br/>, '4.09', <br/>, 'HAC 10/110', <br/>, '2) Каша пшеничная с ГРибами', <br/>, '1.000 + 45.00 45.00', <br/>, ', 09', <br/>, '3) Треска с пониаоРом запеченная (ФИ', <br/>, '1.000 * 85.00 85.00', <br/>, '7.73', <br/>, '04', <br/>, 'НАС 10/110', <br/>, 'H且C', <br/>, '10// 1 10', <br/>, 'тога,', <br/>, '三175.00', <br/>, '15.91', <br/>, 'CuMma HAC 10/110', <br/>, 'ЭЛЕКТРОННЫМИ', <br/>, 'CHO:', <br/>, '#175.00', <br/>, '#175 .00', <br/>, 'OCH', <br/>, 'ользоватепь:', <br/>, 'ELEPAílbi IOE ГОСУ РСТВЕННОЕ ЬЮАХЕТНОЕ', <br/>, \"БРАЗОВАНИЯ 'МОСКОВСКИЙ Í 0C91ї АРСТВЕНН\"]\n",
      "\n",
      "1526569204.0\n",
      "[<br/>, <br/>, 'I just finished my supper without meat']\n",
      "\n",
      "1526566355.0\n",
      "['okay thanks login to Google Keep']\n",
      "\n",
      "1526610516.0\n",
      "['первая идея:', <br/>, 'научить людей выигрывать и математике']\n",
      "\n",
      "1526570257.0\n",
      "[]\n",
      "\n",
      "1526566026.0\n",
      "['First of all we need logging - formalize my life or state of environment to optimize late  ']\n",
      "\n"
     ]
    }
   ],
   "source": [
    "read_data[0]\n",
    "for data in read_data:\n",
    "    soup = BeautifulSoup(data, 'html.parser')\n",
    "    date = keep_date_normalize(soup.title)\n",
    "    if not date:\n",
    "        date = keep_date_normalize(soup.div)\n",
    "    body = soup.find_all(attrs={\"class\": \"content\"})\n",
    "    body = body[0]\n",
    "    print(date)\n",
    "    print(body.contents)\n",
    "    \n",
    "    #print(soup.title)\n",
    "    #print(soup.find_all(attrs={\"class\":\"meta-icons\"}))\n",
    "    #print(soup.find_all(attrs={\"class\": \"content\"}))\n",
    "    print()"
   ]
  },
  {
   "cell_type": "code",
   "execution_count": null,
   "metadata": {
    "collapsed": true
   },
   "outputs": [],
   "source": [
    "def "
   ]
  },
  {
   "cell_type": "code",
   "execution_count": 78,
   "metadata": {},
   "outputs": [],
   "source": [
    "body = soup.find_all(attrs={\"class\": \"content\"})"
   ]
  },
  {
   "cell_type": "code",
   "execution_count": 87,
   "metadata": {},
   "outputs": [],
   "source": [
    "body = body[0]"
   ]
  },
  {
   "cell_type": "code",
   "execution_count": 88,
   "metadata": {},
   "outputs": [
    {
     "data": {
      "text/plain": [
       "['First of all we need logging - formalize my life or state of environment to optimize late  ']"
      ]
     },
     "execution_count": 88,
     "metadata": {},
     "output_type": "execute_result"
    }
   ],
   "source": [
    "body.contents"
   ]
  },
  {
   "cell_type": "code",
   "execution_count": 81,
   "metadata": {},
   "outputs": [
    {
     "ename": "TypeError",
     "evalue": "expected string or bytes-like object",
     "output_type": "error",
     "traceback": [
      "\u001b[0;31m---------------------------------------------------------------------------\u001b[0m",
      "\u001b[0;31mTypeError\u001b[0m                                 Traceback (most recent call last)",
      "\u001b[0;32m<ipython-input-81-35d6a908c46a>\u001b[0m in \u001b[0;36m<module>\u001b[0;34m()\u001b[0m\n\u001b[0;32m----> 1\u001b[0;31m \u001b[0mre\u001b[0m\u001b[0;34m.\u001b[0m\u001b[0msearch\u001b[0m\u001b[0;34m(\u001b[0m\u001b[0mstring\u001b[0m\u001b[0;34m=\u001b[0m\u001b[0mbody\u001b[0m\u001b[0;34m[\u001b[0m\u001b[0;36m0\u001b[0m\u001b[0;34m]\u001b[0m\u001b[0;34m,\u001b[0m \u001b[0mpattern\u001b[0m\u001b[0;34m=\u001b[0m\u001b[0;34m'div class=\"content\">'\u001b[0m\u001b[0;34m)\u001b[0m\u001b[0;34m\u001b[0m\u001b[0m\n\u001b[0m",
      "\u001b[0;32m/home/denis/anaconda3/lib/python3.5/re.py\u001b[0m in \u001b[0;36msearch\u001b[0;34m(pattern, string, flags)\u001b[0m\n\u001b[1;32m    171\u001b[0m     \"\"\"Scan through string looking for a match to the pattern, returning\n\u001b[1;32m    172\u001b[0m     a match object, or None if no match was found.\"\"\"\n\u001b[0;32m--> 173\u001b[0;31m     \u001b[0;32mreturn\u001b[0m \u001b[0m_compile\u001b[0m\u001b[0;34m(\u001b[0m\u001b[0mpattern\u001b[0m\u001b[0;34m,\u001b[0m \u001b[0mflags\u001b[0m\u001b[0;34m)\u001b[0m\u001b[0;34m.\u001b[0m\u001b[0msearch\u001b[0m\u001b[0;34m(\u001b[0m\u001b[0mstring\u001b[0m\u001b[0;34m)\u001b[0m\u001b[0;34m\u001b[0m\u001b[0m\n\u001b[0m\u001b[1;32m    174\u001b[0m \u001b[0;34m\u001b[0m\u001b[0m\n\u001b[1;32m    175\u001b[0m \u001b[0;32mdef\u001b[0m \u001b[0msub\u001b[0m\u001b[0;34m(\u001b[0m\u001b[0mpattern\u001b[0m\u001b[0;34m,\u001b[0m \u001b[0mrepl\u001b[0m\u001b[0;34m,\u001b[0m \u001b[0mstring\u001b[0m\u001b[0;34m,\u001b[0m \u001b[0mcount\u001b[0m\u001b[0;34m=\u001b[0m\u001b[0;36m0\u001b[0m\u001b[0;34m,\u001b[0m \u001b[0mflags\u001b[0m\u001b[0;34m=\u001b[0m\u001b[0;36m0\u001b[0m\u001b[0;34m)\u001b[0m\u001b[0;34m:\u001b[0m\u001b[0;34m\u001b[0m\u001b[0m\n",
      "\u001b[0;31mTypeError\u001b[0m: expected string or bytes-like object"
     ]
    }
   ],
   "source": [
    "re.search(string=body[0], pattern='div class=\"content\">')"
   ]
  },
  {
   "cell_type": "code",
   "execution_count": 75,
   "metadata": {},
   "outputs": [
    {
     "data": {
      "text/plain": [
       "1526566026.0"
      ]
     },
     "execution_count": 75,
     "metadata": {},
     "output_type": "execute_result"
    }
   ],
   "source": [
    "import time\n",
    "import datetime\n",
    "DATES = {'января':1, 'февраля':2,'марта':3,'апреля':4,'мая':5,'июня':6,\n",
    " 'июля':7,'августа':8,'сентября':9,'октября':10,'ноября':11,'декабря':12}\n",
    "\n",
    "\n",
    "def Find_time_at_keep(data):\n",
    "    soup = BeautifulSoup(data, 'html.parser')\n",
    "    \n",
    "    date = re.findall(string=str(soup.div), pattern='\\d.*\\d+:\\d+:\\d+')\n",
    "    date = date[0].split()\n",
    "    date = (str(date[0]) + '/' + str(DATES[date[1]]) +  '/' + str(date[2]) +\n",
    "             '/' + str(date[4])\n",
    "           )\n",
    "    dtime = time.mktime(datetime.datetime.strptime(date, \"%d/%m/%Y/%H:%M:%S\").timetuple())\n",
    "    return dtime\n",
    "\n",
    "def keep_date_normalize(lines_with_date):\n",
    "    date = re.findall(string=str(lines_with_date), pattern='\\d.*\\d+:\\d+:\\d+')\n",
    "    if len(date) == 0:\n",
    "        return None\n",
    "    date = date[0].split()\n",
    "    date = (str(date[0]) + '/' + str(DATES[date[1]]) +  '/' + str(date[2]) +\n",
    "             '/' + str(date[4])\n",
    "           )\n",
    "    dtime = time.mktime(datetime.datetime.strptime(date, \"%d/%m/%Y/%H:%M:%S\").timetuple())\n",
    "    return dtime\n",
    "    \n",
    "\n",
    "\n",
    "\n",
    "#get back to readable\n",
    "#datetime.datetime.fromtimestamp(dtime).strftime('%Y-%m-%d %H:%M:%S')\n",
    "Find_time_at_keep(read_data[-1])"
   ]
  },
  {
   "cell_type": "code",
   "execution_count": 47,
   "metadata": {},
   "outputs": [],
   "source": [
    "soup = BeautifulSoup(read_data[-1], 'html.parser')\n",
    "date = re.findall(string=str(soup.div), pattern='\\d.*\\d+:\\d+:\\d+')\n",
    "date = date[0].split()\n",
    "date = str(date[0]) + '/' + str(dates[date[1]]) +  '/' + str(date[2]) + '/' + str(date[4])\n"
   ]
  },
  {
   "cell_type": "code",
   "execution_count": 48,
   "metadata": {},
   "outputs": [
    {
     "data": {
      "text/plain": [
       "'17/5/2018/17:07:06'"
      ]
     },
     "execution_count": 48,
     "metadata": {},
     "output_type": "execute_result"
    }
   ],
   "source": [
    "date"
   ]
  },
  {
   "cell_type": "code",
   "execution_count": 63,
   "metadata": {},
   "outputs": [],
   "source": [
    "import time\n",
    "import datetime\n",
    "s = date#\"01/12/2011\"\n",
    "dtime = time.mktime(datetime.datetime.strptime(s, \"%d/%m/%Y/%H:%M:%S\").timetuple())"
   ]
  },
  {
   "cell_type": "code",
   "execution_count": 64,
   "metadata": {},
   "outputs": [
    {
     "data": {
      "text/plain": [
       "1526566026.0"
      ]
     },
     "execution_count": 64,
     "metadata": {},
     "output_type": "execute_result"
    }
   ],
   "source": [
    "dtime"
   ]
  },
  {
   "cell_type": "code",
   "execution_count": null,
   "metadata": {
    "collapsed": true
   },
   "outputs": [],
   "source": []
  },
  {
   "cell_type": "code",
   "execution_count": 66,
   "metadata": {},
   "outputs": [
    {
     "data": {
      "text/plain": [
       "'2018-05-17 17:07:06'"
      ]
     },
     "execution_count": 66,
     "metadata": {},
     "output_type": "execute_result"
    }
   ],
   "source": []
  },
  {
   "cell_type": "code",
   "execution_count": null,
   "metadata": {
    "collapsed": true
   },
   "outputs": [],
   "source": [
    "day = re.findall(string=date[0],\n",
    "month =\n",
    "year\n",
    "time"
   ]
  },
  {
   "cell_type": "code",
   "execution_count": 43,
   "metadata": {
    "collapsed": true
   },
   "outputs": [],
   "source": []
  },
  {
   "cell_type": "code",
   "execution_count": null,
   "metadata": {
    "collapsed": true
   },
   "outputs": [],
   "source": [
    "<title> "
   ]
  },
  {
   "cell_type": "code",
   "execution_count": 35,
   "metadata": {},
   "outputs": [
    {
     "data": {
      "text/plain": [
       "False"
      ]
     },
     "execution_count": 35,
     "metadata": {},
     "output_type": "execute_result"
    }
   ],
   "source": [
    "'2018-05-18T13_43_48.204Z.html' == r'\\..*html'"
   ]
  },
  {
   "cell_type": "code",
   "execution_count": 85,
   "metadata": {
    "collapsed": true
   },
   "outputs": [],
   "source": [
    "from bs4 import BeautifulSoup\n",
    "soup = BeautifulSoup(read_data[-1], 'html.parser')\n",
    "\n",
    "#print(soup.prettify())"
   ]
  },
  {
   "cell_type": "code",
   "execution_count": 53,
   "metadata": {},
   "outputs": [
    {
     "data": {
      "text/plain": [
       "<title>18 мая 2018 г., 13:43:48</title>"
      ]
     },
     "execution_count": 53,
     "metadata": {},
     "output_type": "execute_result"
    }
   ],
   "source": [
    "soup.title"
   ]
  },
  {
   "cell_type": "code",
   "execution_count": 87,
   "metadata": {},
   "outputs": [
    {
     "data": {
      "text/plain": [
       "<div class=\"note\"><div class=\"heading\"><div class=\"meta-icons\">\n",
       "</div>\n",
       "17 мая 2018 г., 17:07:06</div>\n",
       "<div class=\"title\">Project</div>\n",
       "<div class=\"content\">First of all we need logging - formalize my life or state of environment to optimize late  </div>\n",
       "</div>"
      ]
     },
     "execution_count": 87,
     "metadata": {},
     "output_type": "execute_result"
    }
   ],
   "source": [
    "soup.div#find_all('div' 'class=\"content\"')"
   ]
  },
  {
   "cell_type": "code",
   "execution_count": 79,
   "metadata": {},
   "outputs": [
    {
     "name": "stdout",
     "output_type": "stream",
     "text": [
      "re.compile('^[a-zA-Z0-9][-.a-zA-Z0-9:_]*$')\n",
      "re.compile('^[a-zA-Z0-9][-.a-zA-Z0-9:_]*$')\n",
      "re.compile('^[a-zA-Z0-9][-.a-zA-Z0-9:_]*$')\n",
      "re.compile('^[a-zA-Z0-9][-.a-zA-Z0-9:_]*$')\n",
      "re.compile('^[a-zA-Z0-9][-.a-zA-Z0-9:_]*$')\n"
     ]
    }
   ],
   "source": [
    "for i in soup.div.children:\n",
    "    print (i)"
   ]
  },
  {
   "cell_type": "code",
   "execution_count": 80,
   "metadata": {},
   "outputs": [
    {
     "data": {
      "text/plain": [
       "[<div class=\"content\">go to sleep<br/></div>]"
      ]
     },
     "execution_count": 80,
     "metadata": {},
     "output_type": "execute_result"
    }
   ],
   "source": [
    "\n"
   ]
  }
 ],
 "metadata": {
  "kernelspec": {
   "display_name": "Python [conda env:anaconda3]",
   "language": "python",
   "name": "conda-env-anaconda3-py"
  },
  "language_info": {
   "codemirror_mode": {
    "name": "ipython",
    "version": 3
   },
   "file_extension": ".py",
   "mimetype": "text/x-python",
   "name": "python",
   "nbconvert_exporter": "python",
   "pygments_lexer": "ipython3",
   "version": "3.5.3"
  }
 },
 "nbformat": 4,
 "nbformat_minor": 2
}
