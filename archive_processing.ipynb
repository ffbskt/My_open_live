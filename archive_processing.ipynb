{
 "cells": [
  {
   "cell_type": "code",
   "execution_count": 27,
   "metadata": {},
   "outputs": [],
   "source": [
    "import os, re\n",
    "from bs4 import BeautifulSoup\n",
    "import json\n",
    "\n",
    "def find_archive(name):\n",
    "    read_data = []\n",
    "    for file in os.listdir(name):\n",
    "        if file[-4:] == 'html':\n",
    "            print(file)\n",
    "            with open('Keep/' + file, 'r') as f:\n",
    "                read_data.append(f.read())\n",
    "            f.closed\n",
    "    return read_data\n",
    "#find_archive('Keep')"
   ]
  },
  {
   "cell_type": "code",
   "execution_count": 25,
   "metadata": {
    "collapsed": true
   },
   "outputs": [],
   "source": [
    "def add_to_log(source, id, date, body):\n",
    "    log = ({\"source\":source, \"user_id\":str(id), \"date\":date, \n",
    "            \"body\":str(body)})\n",
    "    return log\n",
    "    #write_log(file='Log_raw/Log_raw.txt', log=log)"
   ]
  },
  {
   "cell_type": "code",
   "execution_count": 9,
   "metadata": {},
   "outputs": [],
   "source": [
    "import time\n",
    "import datetime\n",
    "DATES = {'января':1, 'февраля':2,'марта':3,'апреля':4,'мая':5,'июня':6,\n",
    " 'июля':7,'августа':8,'сентября':9,'октября':10,'ноября':11,'декабря':12}\n",
    "\n",
    "\n",
    "#def find_time_at_keep(data):\n",
    "#    soup = BeautifulSoup(data, 'html.parser')\n",
    "    \n",
    "#    date = re.findall(string=str(soup.div), pattern='\\d.*\\d+:\\d+:\\d+')\n",
    "#    date = date[0].split()\n",
    "#    date = (str(date[0]) + '/' + str(DATES[date[1]]) +  '/' + str(date[2]) +\n",
    "#             '/' + str(date[4])\n",
    "#           )\n",
    "#    dtime = time.mktime(datetime.datetime.strptime(date, \"%d/%m/%Y/%H:%M:%S\").timetuple())\n",
    "#    return dtime\n",
    "\n",
    "def keep_date_normalize(lines_with_date):\n",
    "    date = re.findall(string=str(lines_with_date), pattern='\\d.*\\d+:\\d+:\\d+')\n",
    "    if len(date) == 0:\n",
    "        return None\n",
    "    date = date[0].split()\n",
    "    date = (str(date[0]) + '/' + str(DATES[date[1]]) +  '/' + str(date[2]) +\n",
    "             '/' + str(date[4])\n",
    "           )\n",
    "    dtime = time.mktime(datetime.datetime.strptime(date, \"%d/%m/%Y/%H:%M:%S\").timetuple())\n",
    "    return dtime\n",
    "    \n",
    "\n",
    "\n",
    "\n",
    "#get back to readable\n",
    "#datetime.datetime.fromtimestamp(dtime).strftime('%Y-%m-%d %H:%M:%S')\n",
    "#find_time_at_keep(read_data[-1])"
   ]
  },
  {
   "cell_type": "code",
   "execution_count": 8,
   "metadata": {},
   "outputs": [
    {
     "name": "stdout",
     "output_type": "stream",
     "text": [
      "[{'user_id': 'my', 'body': \"['go to sleep', <br/>]\", 'source': 'Gkeep_arc', 'date': '1526640228.0'}, {'user_id': 'my', 'body': '[]', 'source': 'Gkeep_arc', 'date': '1526569202.0'}, {'user_id': 'my', 'body': '[\\'имени М.В. Ломоносова\\', <br/>, \\'.столовые диетического.nni atwi. Ml. ฯ\\', <br/>, \\'КАССОВЫЙ ЧЕК\\', <br/>, \\'РИХОД\\', <br/>, \\'1) Curl Phi6НЫЙ (семга)\\', <br/>, \\'1.000本45.00 45.00\\', <br/>, \\'4.09\\', <br/>, \\'HAC 10/110\\', <br/>, \\'2) Каша пшеничная с ГРибами\\', <br/>, \\'1.000 + 45.00 45.00\\', <br/>, \\', 09\\', <br/>, \\'3) Треска с пониаоРом запеченная (ФИ\\', <br/>, \\'1.000 * 85.00 85.00\\', <br/>, \\'7.73\\', <br/>, \\'04\\', <br/>, \\'НАС 10/110\\', <br/>, \\'H且C\\', <br/>, \\'10// 1 10\\', <br/>, \\'тога,\\', <br/>, \\'三175.00\\', <br/>, \\'15.91\\', <br/>, \\'CuMma HAC 10/110\\', <br/>, \\'ЭЛЕКТРОННЫМИ\\', <br/>, \\'CHO:\\', <br/>, \\'#175.00\\', <br/>, \\'#175 .00\\', <br/>, \\'OCH\\', <br/>, \\'ользоватепь:\\', <br/>, \\'ELEPAílbi IOE ГОСУ РСТВЕННОЕ ЬЮАХЕТНОЕ\\', <br/>, \"БРАЗОВАНИЯ \\'МОСКОВСКИЙ Í 0C91ї АРСТВЕНН\"]', 'source': 'Gkeep_arc', 'date': '1526570306.0'}, {'user_id': 'my', 'body': \"[<br/>, <br/>, 'I just finished my supper without meat']\", 'source': 'Gkeep_arc', 'date': '1526569204.0'}, {'user_id': 'my', 'body': \"['okay thanks login to Google Keep']\", 'source': 'Gkeep_arc', 'date': '1526566355.0'}, {'user_id': 'my', 'body': \"['первая идея:', <br/>, 'научить людей выигрывать и математике']\", 'source': 'Gkeep_arc', 'date': '1526610516.0'}, {'user_id': 'my', 'body': '[]', 'source': 'Gkeep_arc', 'date': '1526570257.0'}, {'user_id': 'my', 'body': \"['First of all we need logging - formalize my life or state of environment to optimize late  ']\", 'source': 'Gkeep_arc', 'date': '1526566026.0'}]\n"
     ]
    }
   ],
   "source": [
    "def log_from_keep(data_html):\n",
    "    log = []\n",
    "    for data in data_html:\n",
    "        soup = BeautifulSoup(data, 'html.parser')\n",
    "        date = keep_date_normalize(soup.title)\n",
    "        if not date:\n",
    "            date = keep_date_normalize(soup.div)\n",
    "        body = soup.find_all(attrs={\"class\": \"content\"})\n",
    "        body = body[0]\n",
    "        log.append(add_to_log(source='Gkeep_arc', id='my', date=date, \n",
    "                              body=body.contents)\n",
    "                  )\n",
    "    return log\n",
    "print(str(log_from_keep(read_data)))"
   ]
  },
  {
   "cell_type": "code",
   "execution_count": 12,
   "metadata": {
    "collapsed": true
   },
   "outputs": [],
   "source": [
    "def get_all_message(file='Log_raw/Gkeep_arc.txt'):\n",
    "    with open(file, 'r') as dt:\n",
    "        all_mes = dt.read()\n",
    "        dt.close()\n",
    "        return all_mes\n",
    "# text = get_last_message()"
   ]
  },
  {
   "cell_type": "code",
   "execution_count": 23,
   "metadata": {
    "collapsed": true
   },
   "outputs": [],
   "source": [
    "def get_last_date(file='Log_raw/Gkeep_arc.txt'):\n",
    "    try:\n",
    "        last_line = (get_all_message(file=file).split('\\n')[-2])\n",
    "        return json.loads(last_line)['date']\n",
    "    except IndexError:\n",
    "        return 0"
   ]
  },
  {
   "cell_type": "code",
   "execution_count": 20,
   "metadata": {},
   "outputs": [],
   "source": [
    "\n",
    "def write_log_new(file='Log_raw/Gkeep_arc.txt', logs=None, new_t=0):\n",
    "    with open(file, 'a') as dt:\n",
    "        for log in logs:\n",
    "            if log['date'] > new_t:\n",
    "                dt.write(json.dumps(log, sort_keys=True) + '\\n')\n",
    "        dt.close()\n"
   ]
  },
  {
   "cell_type": "markdown",
   "metadata": {},
   "source": [
    "# Final function"
   ]
  },
  {
   "cell_type": "code",
   "execution_count": 28,
   "metadata": {},
   "outputs": [
    {
     "name": "stdout",
     "output_type": "stream",
     "text": [
      "2018-05-18T13_43_48.204Z.html\n",
      "2018-05-17T18_00_02.859Z.html\n",
      "2018-05-17T18_18_26.208Z.html\n",
      "2018-05-17T18_00_04.193Z.html\n",
      "2018-05-17T17_12_35.293Z.html\n",
      "2018-05-18T05_28_36.491Z.html\n",
      "2018-05-17T18_17_37.327Z.html\n",
      "Project.html\n"
     ]
    }
   ],
   "source": [
    "log = log_from_keep(find_archive('Keep'))\n",
    "write_log_new(file='Log_raw/Gkeep_arc.txt', logs=log, new_t=get_last_date('Log_raw/Gkeep_arc.txt'))"
   ]
  },
  {
   "cell_type": "code",
   "execution_count": 89,
   "metadata": {},
   "outputs": [
    {
     "name": "stdout",
     "output_type": "stream",
     "text": [
      "1526640228.0\n",
      "['go to sleep', <br/>]\n",
      "\n",
      "1526569202.0\n",
      "[]\n",
      "\n",
      "1526570306.0\n",
      "['имени М.В. Ломоносова', <br/>, '.столовые диетического.nni atwi. Ml. ฯ', <br/>, 'КАССОВЫЙ ЧЕК', <br/>, 'РИХОД', <br/>, '1) Curl Phi6НЫЙ (семга)', <br/>, '1.000本45.00 45.00', <br/>, '4.09', <br/>, 'HAC 10/110', <br/>, '2) Каша пшеничная с ГРибами', <br/>, '1.000 + 45.00 45.00', <br/>, ', 09', <br/>, '3) Треска с пониаоРом запеченная (ФИ', <br/>, '1.000 * 85.00 85.00', <br/>, '7.73', <br/>, '04', <br/>, 'НАС 10/110', <br/>, 'H且C', <br/>, '10// 1 10', <br/>, 'тога,', <br/>, '三175.00', <br/>, '15.91', <br/>, 'CuMma HAC 10/110', <br/>, 'ЭЛЕКТРОННЫМИ', <br/>, 'CHO:', <br/>, '#175.00', <br/>, '#175 .00', <br/>, 'OCH', <br/>, 'ользоватепь:', <br/>, 'ELEPAílbi IOE ГОСУ РСТВЕННОЕ ЬЮАХЕТНОЕ', <br/>, \"БРАЗОВАНИЯ 'МОСКОВСКИЙ Í 0C91ї АРСТВЕНН\"]\n",
      "\n",
      "1526569204.0\n",
      "[<br/>, <br/>, 'I just finished my supper without meat']\n",
      "\n",
      "1526566355.0\n",
      "['okay thanks login to Google Keep']\n",
      "\n",
      "1526610516.0\n",
      "['первая идея:', <br/>, 'научить людей выигрывать и математике']\n",
      "\n",
      "1526570257.0\n",
      "[]\n",
      "\n",
      "1526566026.0\n",
      "['First of all we need logging - formalize my life or state of environment to optimize late  ']\n",
      "\n"
     ]
    }
   ],
   "source": [
    "read_data[0]\n",
    "for data in read_data:\n",
    "    soup = BeautifulSoup(data, 'html.parser')\n",
    "    date = keep_date_normalize(soup.title)\n",
    "    if not date:\n",
    "        date = keep_date_normalize(soup.div)\n",
    "    body = soup.find_all(attrs={\"class\": \"content\"})\n",
    "    body = body[0]\n",
    "    print(date)\n",
    "    print(body.contents)\n",
    "    \n",
    "    #print(soup.title)\n",
    "    #print(soup.find_all(attrs={\"class\":\"meta-icons\"}))\n",
    "    #print(soup.find_all(attrs={\"class\": \"content\"}))\n",
    "    print()"
   ]
  },
  {
   "cell_type": "code",
   "execution_count": 47,
   "metadata": {
    "collapsed": true
   },
   "outputs": [],
   "source": [
    "soup = BeautifulSoup(read_data[-1], 'html.parser')\n",
    "date = re.findall(string=str(soup.div), pattern='\\d.*\\d+:\\d+:\\d+')\n",
    "date = date[0].split()\n",
    "date = str(date[0]) + '/' + str(dates[date[1]]) +  '/' + str(date[2]) + '/' + str(date[4])\n"
   ]
  },
  {
   "cell_type": "code",
   "execution_count": 48,
   "metadata": {},
   "outputs": [
    {
     "data": {
      "text/plain": [
       "'17/5/2018/17:07:06'"
      ]
     },
     "execution_count": 48,
     "metadata": {},
     "output_type": "execute_result"
    }
   ],
   "source": [
    "date"
   ]
  },
  {
   "cell_type": "code",
   "execution_count": 63,
   "metadata": {
    "collapsed": true
   },
   "outputs": [],
   "source": [
    "import time\n",
    "import datetime\n",
    "s = date#\"01/12/2011\"\n",
    "dtime = time.mktime(datetime.datetime.strptime(s, \"%d/%m/%Y/%H:%M:%S\").timetuple())"
   ]
  },
  {
   "cell_type": "code",
   "execution_count": 64,
   "metadata": {},
   "outputs": [
    {
     "data": {
      "text/plain": [
       "1526566026.0"
      ]
     },
     "execution_count": 64,
     "metadata": {},
     "output_type": "execute_result"
    }
   ],
   "source": [
    "dtime"
   ]
  },
  {
   "cell_type": "code",
   "execution_count": null,
   "metadata": {
    "collapsed": true
   },
   "outputs": [],
   "source": []
  },
  {
   "cell_type": "code",
   "execution_count": 66,
   "metadata": {},
   "outputs": [
    {
     "data": {
      "text/plain": [
       "'2018-05-17 17:07:06'"
      ]
     },
     "execution_count": 66,
     "metadata": {},
     "output_type": "execute_result"
    }
   ],
   "source": []
  },
  {
   "cell_type": "code",
   "execution_count": null,
   "metadata": {
    "collapsed": true
   },
   "outputs": [],
   "source": [
    "day = re.findall(string=date[0],\n",
    "month =\n",
    "year\n",
    "time"
   ]
  },
  {
   "cell_type": "code",
   "execution_count": 43,
   "metadata": {
    "collapsed": true
   },
   "outputs": [],
   "source": []
  },
  {
   "cell_type": "code",
   "execution_count": null,
   "metadata": {
    "collapsed": true
   },
   "outputs": [],
   "source": [
    "<title> "
   ]
  },
  {
   "cell_type": "code",
   "execution_count": 35,
   "metadata": {},
   "outputs": [
    {
     "data": {
      "text/plain": [
       "False"
      ]
     },
     "execution_count": 35,
     "metadata": {},
     "output_type": "execute_result"
    }
   ],
   "source": [
    "'2018-05-18T13_43_48.204Z.html' == r'\\..*html'"
   ]
  },
  {
   "cell_type": "code",
   "execution_count": 85,
   "metadata": {
    "collapsed": true
   },
   "outputs": [],
   "source": [
    "from bs4 import BeautifulSoup\n",
    "soup = BeautifulSoup(read_data[-1], 'html.parser')\n",
    "\n",
    "#print(soup.prettify())"
   ]
  },
  {
   "cell_type": "code",
   "execution_count": 53,
   "metadata": {},
   "outputs": [
    {
     "data": {
      "text/plain": [
       "<title>18 мая 2018 г., 13:43:48</title>"
      ]
     },
     "execution_count": 53,
     "metadata": {},
     "output_type": "execute_result"
    }
   ],
   "source": [
    "soup.title"
   ]
  },
  {
   "cell_type": "code",
   "execution_count": 87,
   "metadata": {},
   "outputs": [
    {
     "data": {
      "text/plain": [
       "<div class=\"note\"><div class=\"heading\"><div class=\"meta-icons\">\n",
       "</div>\n",
       "17 мая 2018 г., 17:07:06</div>\n",
       "<div class=\"title\">Project</div>\n",
       "<div class=\"content\">First of all we need logging - formalize my life or state of environment to optimize late  </div>\n",
       "</div>"
      ]
     },
     "execution_count": 87,
     "metadata": {},
     "output_type": "execute_result"
    }
   ],
   "source": [
    "soup.div#find_all('div' 'class=\"content\"')"
   ]
  },
  {
   "cell_type": "code",
   "execution_count": 79,
   "metadata": {},
   "outputs": [
    {
     "name": "stdout",
     "output_type": "stream",
     "text": [
      "re.compile('^[a-zA-Z0-9][-.a-zA-Z0-9:_]*$')\n",
      "re.compile('^[a-zA-Z0-9][-.a-zA-Z0-9:_]*$')\n",
      "re.compile('^[a-zA-Z0-9][-.a-zA-Z0-9:_]*$')\n",
      "re.compile('^[a-zA-Z0-9][-.a-zA-Z0-9:_]*$')\n",
      "re.compile('^[a-zA-Z0-9][-.a-zA-Z0-9:_]*$')\n"
     ]
    }
   ],
   "source": [
    "for i in soup.div.children:\n",
    "    print (i)"
   ]
  },
  {
   "cell_type": "code",
   "execution_count": 80,
   "metadata": {},
   "outputs": [
    {
     "data": {
      "text/plain": [
       "[<div class=\"content\">go to sleep<br/></div>]"
      ]
     },
     "execution_count": 80,
     "metadata": {},
     "output_type": "execute_result"
    }
   ],
   "source": [
    "\n"
   ]
  }
 ],
 "metadata": {
  "kernelspec": {
   "display_name": "Python [conda env:anaconda3]",
   "language": "python",
   "name": "conda-env-anaconda3-py"
  },
  "language_info": {
   "codemirror_mode": {
    "name": "ipython",
    "version": 3
   },
   "file_extension": ".py",
   "mimetype": "text/x-python",
   "name": "python",
   "nbconvert_exporter": "python",
   "pygments_lexer": "ipython3",
   "version": "3.5.3"
  }
 },
 "nbformat": 4,
 "nbformat_minor": 2
}
