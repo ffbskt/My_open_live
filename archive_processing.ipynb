{
 "cells": [
  {
   "cell_type": "code",
   "execution_count": 1,
   "metadata": {
    "collapsed": true
   },
   "outputs": [],
   "source": [
    "import os, re\n",
    "from bs4 import BeautifulSoup\n",
    "import json\n",
    "\n",
    "def find_archive(name):\n",
    "    read_data = []\n",
    "    for file in os.listdir(name):\n",
    "        if file[-4:] == 'html':\n",
    "            print(file)\n",
    "            with open('Keep/' + file, 'r') as f:\n",
    "                read_data.append(f.read())\n",
    "            f.closed\n",
    "    return read_data\n",
    "#find_archive('Keep')"
   ]
  },
  {
   "cell_type": "code",
   "execution_count": 25,
   "metadata": {
    "collapsed": true
   },
   "outputs": [],
   "source": [
    "def add_to_log(source, id, date, body):\n",
    "    log = ({\"source\":source, \"user_id\":str(id), \"date\":date, \n",
    "            \"body\":str(body)})\n",
    "    return log\n",
    "    #write_log(file='Log_raw/Log_raw.txt', log=log)"
   ]
  },
  {
   "cell_type": "code",
   "execution_count": 11,
   "metadata": {
    "collapsed": true
   },
   "outputs": [],
   "source": [
    "import time\n",
    "import datetime\n",
    "DATES = {'января':1, 'февраля':2,'марта':3,'апреля':4,'мая':5,'июня':6,\n",
    " 'июля':7,'августа':8,'сентября':9,'октября':10,'ноября':11,'декабря':12}\n",
    "\n",
    "\n",
    "#def find_time_at_keep(data):\n",
    "#    soup = BeautifulSoup(data, 'html.parser')\n",
    "    \n",
    "#    date = re.findall(string=str(soup.div), pattern='\\d.*\\d+:\\d+:\\d+')\n",
    "#    date = date[0].split()\n",
    "#    date = (str(date[0]) + '/' + str(DATES[date[1]]) +  '/' + str(date[2]) +\n",
    "#             '/' + str(date[4])\n",
    "#           )\n",
    "#    dtime = time.mktime(datetime.datetime.strptime(date, \"%d/%m/%Y/%H:%M:%S\").timetuple())\n",
    "#    return dtime\n",
    "\n",
    "def keep_date_normalize(lines_with_date):\n",
    "    date = re.findall(string=str(lines_with_date), pattern='\\d.*\\d+:\\d+:\\d+')\n",
    "    if len(date) == 0:\n",
    "        return None\n",
    "    date = date[0].split()\n",
    "    date = (str(date[0]) + '/' + str(DATES[date[1]]) +  '/' + str(date[2]) +\n",
    "             '/' + str(date[4])\n",
    "           )\n",
    "    dtime = time.mktime(datetime.datetime.strptime(date, \"%d/%m/%Y/%H:%M:%S\").timetuple())\n",
    "    return dtime\n",
    "    \n",
    "\n",
    "\n",
    "\n",
    "#get back to readable\n",
    "#datetime.datetime.fromtimestamp(dtime).strftime('%Y-%m-%d %H:%M:%S')\n",
    "#find_time_at_keep(read_data[-1])"
   ]
  },
  {
   "cell_type": "code",
   "execution_count": 8,
   "metadata": {},
   "outputs": [
    {
     "name": "stdout",
     "output_type": "stream",
     "text": [
      "[{'user_id': 'my', 'body': \"['go to sleep', <br/>]\", 'source': 'Gkeep_arc', 'date': '1526640228.0'}, {'user_id': 'my', 'body': '[]', 'source': 'Gkeep_arc', 'date': '1526569202.0'}, {'user_id': 'my', 'body': '[\\'имени М.В. Ломоносова\\', <br/>, \\'.столовые диетического.nni atwi. Ml. ฯ\\', <br/>, \\'КАССОВЫЙ ЧЕК\\', <br/>, \\'РИХОД\\', <br/>, \\'1) Curl Phi6НЫЙ (семга)\\', <br/>, \\'1.000本45.00 45.00\\', <br/>, \\'4.09\\', <br/>, \\'HAC 10/110\\', <br/>, \\'2) Каша пшеничная с ГРибами\\', <br/>, \\'1.000 + 45.00 45.00\\', <br/>, \\', 09\\', <br/>, \\'3) Треска с пониаоРом запеченная (ФИ\\', <br/>, \\'1.000 * 85.00 85.00\\', <br/>, \\'7.73\\', <br/>, \\'04\\', <br/>, \\'НАС 10/110\\', <br/>, \\'H且C\\', <br/>, \\'10// 1 10\\', <br/>, \\'тога,\\', <br/>, \\'三175.00\\', <br/>, \\'15.91\\', <br/>, \\'CuMma HAC 10/110\\', <br/>, \\'ЭЛЕКТРОННЫМИ\\', <br/>, \\'CHO:\\', <br/>, \\'#175.00\\', <br/>, \\'#175 .00\\', <br/>, \\'OCH\\', <br/>, \\'ользоватепь:\\', <br/>, \\'ELEPAílbi IOE ГОСУ РСТВЕННОЕ ЬЮАХЕТНОЕ\\', <br/>, \"БРАЗОВАНИЯ \\'МОСКОВСКИЙ Í 0C91ї АРСТВЕНН\"]', 'source': 'Gkeep_arc', 'date': '1526570306.0'}, {'user_id': 'my', 'body': \"[<br/>, <br/>, 'I just finished my supper without meat']\", 'source': 'Gkeep_arc', 'date': '1526569204.0'}, {'user_id': 'my', 'body': \"['okay thanks login to Google Keep']\", 'source': 'Gkeep_arc', 'date': '1526566355.0'}, {'user_id': 'my', 'body': \"['первая идея:', <br/>, 'научить людей выигрывать и математике']\", 'source': 'Gkeep_arc', 'date': '1526610516.0'}, {'user_id': 'my', 'body': '[]', 'source': 'Gkeep_arc', 'date': '1526570257.0'}, {'user_id': 'my', 'body': \"['First of all we need logging - formalize my life or state of environment to optimize late  ']\", 'source': 'Gkeep_arc', 'date': '1526566026.0'}]\n"
     ]
    }
   ],
   "source": [
    "def log_from_keep(data_html):\n",
    "    log = []\n",
    "    for data in data_html:\n",
    "        soup = BeautifulSoup(data, 'html.parser')\n",
    "        date = keep_date_normalize(soup.title)\n",
    "        if not date:\n",
    "            date = keep_date_normalize(soup.div)\n",
    "        body = soup.find_all(attrs={\"class\": \"content\"})\n",
    "        body = body[0]\n",
    "        log.append(add_to_log(source='Gkeep_arc', id='my', date=date, \n",
    "                              body=body.contents)\n",
    "                  )\n",
    "    return log\n",
    "print(str(log_from_keep(read_data)))"
   ]
  },
  {
   "cell_type": "code",
   "execution_count": 12,
   "metadata": {
    "collapsed": true
   },
   "outputs": [],
   "source": [
    "def get_all_message(file='Log_raw/Gkeep_arc.txt'):\n",
    "    with open(file, 'r') as dt:\n",
    "        all_mes = dt.read()\n",
    "        dt.close()\n",
    "        return all_mes\n",
    "# text = get_last_message()"
   ]
  },
  {
   "cell_type": "code",
   "execution_count": 23,
   "metadata": {
    "collapsed": true
   },
   "outputs": [],
   "source": [
    "def get_last_date(file='Log_raw/Gkeep_arc.txt'):\n",
    "    try:\n",
    "        last_line = (get_all_message(file=file).split('\\n')[-2])\n",
    "        return json.loads(last_line)['date']\n",
    "    except IndexError:\n",
    "        return 0"
   ]
  },
  {
   "cell_type": "code",
   "execution_count": 20,
   "metadata": {
    "collapsed": true
   },
   "outputs": [],
   "source": [
    "\n",
    "def write_log_new(file='Log_raw/Gkeep_arc.txt', logs=None, new_t=0):\n",
    "    with open(file, 'a') as dt:\n",
    "        for log in logs:\n",
    "            if log['date'] > new_t:\n",
    "                dt.write(json.dumps(log, sort_keys=True) + '\\n')\n",
    "        dt.close()\n"
   ]
  },
  {
   "cell_type": "markdown",
   "metadata": {},
   "source": [
    "# Final function Keep"
   ]
  },
  {
   "cell_type": "code",
   "execution_count": 28,
   "metadata": {},
   "outputs": [
    {
     "name": "stdout",
     "output_type": "stream",
     "text": [
      "2018-05-18T13_43_48.204Z.html\n",
      "2018-05-17T18_00_02.859Z.html\n",
      "2018-05-17T18_18_26.208Z.html\n",
      "2018-05-17T18_00_04.193Z.html\n",
      "2018-05-17T17_12_35.293Z.html\n",
      "2018-05-18T05_28_36.491Z.html\n",
      "2018-05-17T18_17_37.327Z.html\n",
      "Project.html\n"
     ]
    }
   ],
   "source": [
    "log = log_from_keep(find_archive('Keep'))\n",
    "write_log_new(file='Log_raw/Gkeep_arc.txt', logs=log, new_t=get_last_date('Log_raw/Gkeep_arc.txt'))"
   ]
  },
  {
   "cell_type": "code",
   "execution_count": 89,
   "metadata": {},
   "outputs": [
    {
     "name": "stdout",
     "output_type": "stream",
     "text": [
      "1526640228.0\n",
      "['go to sleep', <br/>]\n",
      "\n",
      "1526569202.0\n",
      "[]\n",
      "\n",
      "1526570306.0\n",
      "['имени М.В. Ломоносова', <br/>, '.столовые диетического.nni atwi. Ml. ฯ', <br/>, 'КАССОВЫЙ ЧЕК', <br/>, 'РИХОД', <br/>, '1) Curl Phi6НЫЙ (семга)', <br/>, '1.000本45.00 45.00', <br/>, '4.09', <br/>, 'HAC 10/110', <br/>, '2) Каша пшеничная с ГРибами', <br/>, '1.000 + 45.00 45.00', <br/>, ', 09', <br/>, '3) Треска с пониаоРом запеченная (ФИ', <br/>, '1.000 * 85.00 85.00', <br/>, '7.73', <br/>, '04', <br/>, 'НАС 10/110', <br/>, 'H且C', <br/>, '10// 1 10', <br/>, 'тога,', <br/>, '三175.00', <br/>, '15.91', <br/>, 'CuMma HAC 10/110', <br/>, 'ЭЛЕКТРОННЫМИ', <br/>, 'CHO:', <br/>, '#175.00', <br/>, '#175 .00', <br/>, 'OCH', <br/>, 'ользоватепь:', <br/>, 'ELEPAílbi IOE ГОСУ РСТВЕННОЕ ЬЮАХЕТНОЕ', <br/>, \"БРАЗОВАНИЯ 'МОСКОВСКИЙ Í 0C91ї АРСТВЕНН\"]\n",
      "\n",
      "1526569204.0\n",
      "[<br/>, <br/>, 'I just finished my supper without meat']\n",
      "\n",
      "1526566355.0\n",
      "['okay thanks login to Google Keep']\n",
      "\n",
      "1526610516.0\n",
      "['первая идея:', <br/>, 'научить людей выигрывать и математике']\n",
      "\n",
      "1526570257.0\n",
      "[]\n",
      "\n",
      "1526566026.0\n",
      "['First of all we need logging - formalize my life or state of environment to optimize late  ']\n",
      "\n"
     ]
    }
   ],
   "source": [
    "read_data[0]\n",
    "for data in read_data:\n",
    "    soup = BeautifulSoup(data, 'html.parser')\n",
    "    date = keep_date_normalize(soup.title)\n",
    "    if not date:\n",
    "        date = keep_date_normalize(soup.div)\n",
    "    body = soup.find_all(attrs={\"class\": \"content\"})\n",
    "    body = body[0]\n",
    "    print(date)\n",
    "    print(body.contents)\n",
    "    \n",
    "    #print(soup.title)\n",
    "    #print(soup.find_all(attrs={\"class\":\"meta-icons\"}))\n",
    "    #print(soup.find_all(attrs={\"class\": \"content\"}))\n",
    "    print()"
   ]
  },
  {
   "cell_type": "code",
   "execution_count": 47,
   "metadata": {
    "collapsed": true
   },
   "outputs": [],
   "source": [
    "soup = BeautifulSoup(read_data[-1], 'html.parser')\n",
    "date = re.findall(string=str(soup.div), pattern='\\d.*\\d+:\\d+:\\d+')\n",
    "date = date[0].split()\n",
    "date = str(date[0]) + '/' + str(dates[date[1]]) +  '/' + str(date[2]) + '/' + str(date[4])\n"
   ]
  },
  {
   "cell_type": "code",
   "execution_count": 48,
   "metadata": {},
   "outputs": [
    {
     "data": {
      "text/plain": [
       "'17/5/2018/17:07:06'"
      ]
     },
     "execution_count": 48,
     "metadata": {},
     "output_type": "execute_result"
    }
   ],
   "source": [
    "date"
   ]
  },
  {
   "cell_type": "code",
   "execution_count": 63,
   "metadata": {
    "collapsed": true
   },
   "outputs": [],
   "source": [
    "import time\n",
    "import datetime\n",
    "s = date#\"01/12/2011\"\n",
    "dtime = time.mktime(datetime.datetime.strptime(s, \"%d/%m/%Y/%H:%M:%S\").timetuple())"
   ]
  },
  {
   "cell_type": "code",
   "execution_count": 85,
   "metadata": {
    "collapsed": true
   },
   "outputs": [],
   "source": [
    "from bs4 import BeautifulSoup\n",
    "soup = BeautifulSoup(read_data[-1], 'html.parser')\n",
    "\n",
    "#print(soup.prettify())"
   ]
  },
  {
   "cell_type": "code",
   "execution_count": 53,
   "metadata": {},
   "outputs": [
    {
     "data": {
      "text/plain": [
       "<title>18 мая 2018 г., 13:43:48</title>"
      ]
     },
     "execution_count": 53,
     "metadata": {},
     "output_type": "execute_result"
    }
   ],
   "source": [
    "soup.title"
   ]
  },
  {
   "cell_type": "code",
   "execution_count": 87,
   "metadata": {},
   "outputs": [
    {
     "data": {
      "text/plain": [
       "<div class=\"note\"><div class=\"heading\"><div class=\"meta-icons\">\n",
       "</div>\n",
       "17 мая 2018 г., 17:07:06</div>\n",
       "<div class=\"title\">Project</div>\n",
       "<div class=\"content\">First of all we need logging - formalize my life or state of environment to optimize late  </div>\n",
       "</div>"
      ]
     },
     "execution_count": 87,
     "metadata": {},
     "output_type": "execute_result"
    }
   ],
   "source": [
    "soup.div#find_all('div' 'class=\"content\"')"
   ]
  },
  {
   "cell_type": "code",
   "execution_count": 79,
   "metadata": {},
   "outputs": [
    {
     "name": "stdout",
     "output_type": "stream",
     "text": [
      "re.compile('^[a-zA-Z0-9][-.a-zA-Z0-9:_]*$')\n",
      "re.compile('^[a-zA-Z0-9][-.a-zA-Z0-9:_]*$')\n",
      "re.compile('^[a-zA-Z0-9][-.a-zA-Z0-9:_]*$')\n",
      "re.compile('^[a-zA-Z0-9][-.a-zA-Z0-9:_]*$')\n",
      "re.compile('^[a-zA-Z0-9][-.a-zA-Z0-9:_]*$')\n"
     ]
    }
   ],
   "source": [
    "for i in soup.div.children:\n",
    "    print (i)"
   ]
  },
  {
   "cell_type": "markdown",
   "metadata": {},
   "source": [
    "# Maps"
   ]
  },
  {
   "cell_type": "code",
   "execution_count": 2,
   "metadata": {
    "collapsed": true
   },
   "outputs": [],
   "source": [
    "import json\n",
    "\n",
    "file = \"Takeout/История местоположений/История местоположений.json\"\n",
    "data = []\n",
    "with open(file, 'r') as f:\n",
    "    data = json.loads(f.read())\n",
    "    f.close()\n"
   ]
  },
  {
   "cell_type": "markdown",
   "metadata": {
    "collapsed": true
   },
   "source": [
    "## Create basketball SPocket"
   ]
  },
  {
   "cell_type": "code",
   "execution_count": 2,
   "metadata": {
    "collapsed": true
   },
   "outputs": [],
   "source": [
    "#import sys\n",
    "# the mock-0.3.1 dir contains testcase.py, testutils.py & mock.py\n",
    "#sys.path.append('/home/denis/Program/NewLive/lib/')\n",
    "#import location_history_json_converter as loch\n",
    "#loch\n",
    "\n",
    "#from testcase import TestCase\n",
    "#from testutils import RunTests\n",
    "#from mock import Mock, sentinel, patch\n",
    "#def take_"
   ]
  },
  {
   "cell_type": "code",
   "execution_count": 3,
   "metadata": {
    "collapsed": true
   },
   "outputs": [],
   "source": [
    "import bisect\n",
    "import time\n",
    "import datetime\n",
    "\n",
    "MILS_TO_S = 1e3\n",
    "\n",
    "def precompute_data(data, need_sort=True):\n",
    "    if need_sort:\n",
    "        data.sort(key=lambda x: x['timestampMs'])\n",
    "    if len(data) > 1 and data[0]['timestampMs'] > data[1]['timestampMs']:\n",
    "        data = list(reversed(data))\n",
    "    keys = [int(x['timestampMs']) for x in data]\n",
    "    return data, keys\n",
    "\n",
    "def take_period(data, keys, start=\"2000-01-21 16:20:20\", end=\"2013-09-21 16:20:20\"): \n",
    "    #data sorted and reversed location old->new, with keys = [timestampMs, ]\n",
    "    start = time_str_to_int(start) \n",
    "    end = time_str_to_int(end)\n",
    "    i_start, i_end = bisect.bisect_left(keys, start), bisect.bisect_right(keys, end)\n",
    "    print(i_start, i_end, end)\n",
    "    return data[i_start:i_end]\n",
    "    \n",
    "def time_str_to_int(t):\n",
    "    if \":\" in t:\n",
    "        d = datetime.datetime.strptime(t, \"%Y-%m-%d %H:%M:%S\").timestamp()\n",
    "    else:\n",
    "        d = datetime.datetime.strptime(t, \"%Y-%m-%d\").timestamp()\n",
    "    return d * MILS_TO_S\n",
    "        \n",
    "def time_int_to_str(t):\n",
    "    return datetime.datetime.fromtimestamp(t / MILS_TO_S)"
   ]
  },
  {
   "cell_type": "code",
   "execution_count": 4,
   "metadata": {},
   "outputs": [],
   "source": [
    "data, keys = precompute_data(data['locations'])"
   ]
  },
  {
   "cell_type": "code",
   "execution_count": 5,
   "metadata": {},
   "outputs": [
    {
     "name": "stdout",
     "output_type": "stream",
     "text": [
      "0 90196 1380571200000.0\n"
     ]
    }
   ],
   "source": [
    "bskt_data = take_period(data, keys, end=\"2013-10-01\")"
   ]
  },
  {
   "cell_type": "markdown",
   "metadata": {},
   "source": [
    "## Kmeans classification of places"
   ]
  },
  {
   "cell_type": "markdown",
   "metadata": {},
   "source": [
    "Problem that we have places where I usualy be (center of classes) and traectory beetwen this place, but Kmeans look at way between classes as class or give middle point between multiple classes and trajectorys. As example: (Kooperativnaya Ulitsa, 66, Yamkino, Moskovskaya oblast', Russia, 142430)   "
   ]
  },
  {
   "cell_type": "code",
   "execution_count": 77,
   "metadata": {
    "collapsed": true
   },
   "outputs": [],
   "source": [
    "array = np.zeros([90196, 2])\n",
    "array.shape\n",
    "for i, point in enumerate(bskt_data):\n",
    "    array[i, 0] = point['latitudeE7'] / 1e7\n",
    "    array[i, 1] = point['longitudeE7'] / 1e7"
   ]
  },
  {
   "cell_type": "code",
   "execution_count": 79,
   "metadata": {
    "collapsed": true
   },
   "outputs": [],
   "source": [
    "kmeans = KMeans(n_clusters=10, random_state=0).fit(array)"
   ]
  },
  {
   "cell_type": "code",
   "execution_count": 101,
   "metadata": {
    "collapsed": true
   },
   "outputs": [],
   "source": [
    "my_places = {}\n",
    "for places in kmeans.cluster_centers_:\n",
    "    my_places[get_place(*places)] = places"
   ]
  },
  {
   "cell_type": "markdown",
   "metadata": {},
   "source": [
    "### Get street by google api"
   ]
  },
  {
   "cell_type": "code",
   "execution_count": 88,
   "metadata": {
    "collapsed": true
   },
   "outputs": [],
   "source": [
    "import requests\n",
    "\n",
    "with open(\"/home/denis/sensitive_data.py\", \"r\") as f:\n",
    "    GCkey = json.loads(f.read())['GEOCODINGAPI']\n",
    "    f.close()\n",
    "lat = 55.57684638\n",
    "lon = 38.2220405\n"
   ]
  },
  {
   "cell_type": "code",
   "execution_count": 100,
   "metadata": {
    "collapsed": true
   },
   "outputs": [],
   "source": [
    "def get_place(lat, lon):\n",
    "    req = \"https://maps.googleapis.com/maps/api/geocode/json?latlng={},{}&key={}\".format(lat, lon, GCkey)\n",
    "    ans = json.loads(requests.get(req).text)\n",
    "    return (ans['results'][0]['formatted_address'])"
   ]
  },
  {
   "cell_type": "code",
   "execution_count": 102,
   "metadata": {},
   "outputs": [
    {
     "data": {
      "text/plain": [
       "{'Cvite Fiskovića 3, 21000, Split, Croatia': array([ 43.51176399,  16.46535337]),\n",
       " \"Kooperativnaya Ulitsa, 66, Yamkino, Moskovskaya oblast', Russia, 142430\": array([ 55.93187337,  38.41569192]),\n",
       " 'Lebedyanskaya Ulitsa, 12 корпус 2, Moskva, Russia, 115372': array([ 55.58522362,  37.67089252]),\n",
       " 'Sõpruse puiestee 263a, 13414 Tallinn, Estonia': array([ 59.39727537,  24.67315249]),\n",
       " \"Ulitsa Konstantinova, 20, Malakhovka, Moskovskaya oblast', Russia, 140030\": array([ 55.65049947,  38.00156269]),\n",
       " 'Ulitsa Kosygina, 61, Moskva, Russia, 119285': array([ 55.71829815,  37.52973881]),\n",
       " \"Ulitsa Mira, 4, Ramenskoye, Moskovskaya oblast', Russia, 140105\": array([ 55.57684638,  38.2220405 ]),\n",
       " \"Ulitsa Stroiteley, 11/1, Magnitogorsk, Chelyabinskaya oblast', Russia, 455001\": array([ 53.43273356,  58.98941031]),\n",
       " \"Unnamed Road, Moskovskaya oblast', Russia\": array([ 55.75685496,  38.62158178]),\n",
       " 'Volgogradskiy Prospekt, 7, Moskva, Russia, 109316': array([ 55.73142679,  37.67404605])}"
      ]
     },
     "execution_count": 102,
     "metadata": {},
     "output_type": "execute_result"
    }
   ],
   "source": [
    "my_places"
   ]
  },
  {
   "cell_type": "markdown",
   "metadata": {},
   "source": [
    "## Use hash_table for fast complete.  "
   ]
  },
  {
   "cell_type": "code",
   "execution_count": 36,
   "metadata": {},
   "outputs": [
    {
     "data": {
      "text/plain": [
       "defaultdict(<function __main__.<lambda>>,\n",
       "            {'IN_VEHICLE': 1664,\n",
       "             'Noact': 50277,\n",
       "             'ON_BICYCLE': 40,\n",
       "             'ON_FOOT': 2456,\n",
       "             'STILL': 35759})"
      ]
     },
     "execution_count": 36,
     "metadata": {},
     "output_type": "execute_result"
    }
   ],
   "source": [
    "k"
   ]
  },
  {
   "cell_type": "code",
   "execution_count": 10,
   "metadata": {
    "collapsed": true
   },
   "outputs": [],
   "source": [
    "import math\n",
    "import numpy as np\n",
    "def getDistanceFromLatLonInKm(lat1,lon1,lat2,lon2):\n",
    "    R = 6371 # Radius of the earth in km\n",
    "    dlat = deg2rad(lat2-lat1)\n",
    "    dlon = deg2rad(lon2-lon1)\n",
    "    a = math.sin(dlat/2) * math.sin(dlat/2) + \\\n",
    "    math.cos(deg2rad(lat1)) * math.cos(deg2rad(lat2)) * \\\n",
    "    math.sin(dlon/2) * math.sin(dlon/2)\n",
    "    c = 2 * math.atan2(math.sqrt(a), math.sqrt(1-a))\n",
    "    d = R * c # Distance in km\n",
    "    return d\n",
    "\n",
    "\n",
    "def deg2rad(deg):\n",
    "    return deg * (math.pi/180)"
   ]
  },
  {
   "cell_type": "code",
   "execution_count": 11,
   "metadata": {
    "collapsed": true
   },
   "outputs": [],
   "source": [
    "def grad_speed(a, b):\n",
    "    S = getDistanceFromLatLonInKm(a['latitudeE7'] / 1e7, a['longitudeE7'] / 1e7,\n",
    "                                  b['latitudeE7'] / 1e7, b['longitudeE7'] / 1e7)\n",
    "    t = (int(b['timestampMs']) - int(a['timestampMs']))/1000/3600\n",
    "    return S, t, S/t"
   ]
  },
  {
   "cell_type": "code",
   "execution_count": 33,
   "metadata": {},
   "outputs": [
    {
     "name": "stdout",
     "output_type": "stream",
     "text": [
      "327 834 1364947200000.0\n"
     ]
    }
   ],
   "source": [
    "day = take_period(*precompute_data(bskt_data), start=\"2013-04-02 4:00:00\", end=\"2013-04-03 4:00:00\") \n",
    "    \n",
    "\n",
    "def compute_data(data):\n",
    "    for i in range(len(data[:-1])):\n",
    "        distant, t, speed = grad_speed(data[i], data[i + 1])\n",
    "        data[i]['grad_speed'] = speed\n",
    "        if i + 2 >= len(data):\n",
    "            data[i]['move_forward'] = 0\n",
    "            data[i + 1]['move_forward'] = 0\n",
    "        else:\n",
    "             data[i]['move_forward'] = grad_speed(data[i], data[i + 2])[0] - distant\n",
    "        data[i]['duration_s'] = (int(data[i + 1]['timestampMs']) - int(data[i]['timestampMs']))/1e3\n",
    "    data[i + 1]['grad_speed'] = data[i]['grad_speed']\n",
    "    data[i + 1]['duration_s'] = 20 #last duration\n",
    "    return data\n",
    "        \n",
    "cd = compute_data(day)"
   ]
  },
  {
   "cell_type": "markdown",
   "metadata": {},
   "source": [
    "Check our data"
   ]
  },
  {
   "cell_type": "code",
   "execution_count": 34,
   "metadata": {},
   "outputs": [
    {
     "data": {
      "text/plain": [
       "defaultdict(<function __main__.<lambda>>,\n",
       "            {'ALL_POINTS': 507,\n",
       "             'ALL_TIME': 62360.23599999998,\n",
       "             'IN_VEHICLE': 17,\n",
       "             'Noact': 247,\n",
       "             'ON_BICYCLE': 1,\n",
       "             'ON_FOOT': 11,\n",
       "             'STILL': 231,\n",
       "             'returns_point': 29,\n",
       "             'stable_': 49375.863999999994,\n",
       "             'transport': 7371.648999999999,\n",
       "             'walk_run_b': 5612.723})"
      ]
     },
     "execution_count": 34,
     "metadata": {},
     "output_type": "execute_result"
    }
   ],
   "source": [
    "from collections import defaultdict\n",
    "k = defaultdict(lambda: 0)\n",
    "#k.setdefault()\n",
    "ex = cd[:]\n",
    "\n",
    "action = 'stable'\n",
    "for p in ex:\n",
    "    #print(p)\n",
    "    if 'activity' in p:\n",
    "        if len(p['activity']) > 1:\n",
    "            print(p['activity'])\n",
    "        k[p['activity'][0]['activity'][0]['type']] += 1\n",
    "    else:\n",
    "        k['Noact'] += 1\n",
    "    if p['move_forward'] < 0:\n",
    "        k['returns_point'] += 1\n",
    "    if p['grad_speed'] < 2:\n",
    "        k['stable_'] += p['duration_s']\n",
    "    if 2 <= p['grad_speed'] < 17:\n",
    "        k['walk_run_b'] += p['duration_s']\n",
    "    if p['grad_speed'] >= 17:\n",
    "        k['transport'] += p['duration_s']\n",
    "    k['ALL_TIME'] += p['duration_s']\n",
    "k['ALL_POINTS'] = len(ex)\n",
    "    \n",
    "k"
   ]
  },
  {
   "cell_type": "code",
   "execution_count": null,
   "metadata": {
    "collapsed": true
   },
   "outputs": [],
   "source": [
    "class Day:\n",
    "    def __init__(data):\n",
    "        self.last_point = data[0]\n",
    "        self.data = data\n",
    "        self.compress_data = []\n",
    "    def add_point(action, point):\n",
    "        #Travel = namedtuple('Travel', ['start_time', 'start_dst', 'final_dst', 'duration']) \n",
    "        #action = defaultdict(lambda: 0)\n",
    "        if 'activity' in point:\n",
    "            if len(point['activity']) > 1:\n",
    "                print(\"Strange Point!\", point['activity'])\n",
    "            action[point['activity'][0]['activity'][0]['type']] += point['duration_s']\n",
    "        #else:\n",
    "        #    action['Noact'] += point['duration_s']\n",
    "        if point['move_forward'] < 0:\n",
    "            k['returns_point'] += 1\n",
    "        if p['grad_speed'] < 2:\n",
    "            k['stable_'] += p['duration_s']\n",
    "        if 2 <= p['grad_speed'] < 17:\n",
    "            k['walk_run_b'] += p['duration_s']\n",
    "        if p['grad_speed'] >= 17:\n",
    "            k['transport'] += p['duration_s']\n",
    "        k['ALL_TIME'] += p['duration_s']\n",
    "    k['ALL_POINTS'] = len(ex)"
   ]
  },
  {
   "cell_type": "code",
   "execution_count": 40,
   "metadata": {},
   "outputs": [
    {
     "data": {
      "text/plain": [
       "[1, 2, 20]"
      ]
     },
     "execution_count": 40,
     "metadata": {},
     "output_type": "execute_result"
    }
   ],
   "source": [
    "d = [1,2,3]\n",
    "a = d.pop()\n",
    "a = 20\n",
    "d.append(a)\n",
    "d"
   ]
  },
  {
   "cell_type": "code",
   "execution_count": 36,
   "metadata": {},
   "outputs": [
    {
     "data": {
      "text/plain": [
       "(2.0475,\n",
       " datetime.datetime(2013, 4, 2, 6, 21, 3, 542000),\n",
       " datetime.datetime(2013, 4, 2, 23, 40, 3, 778000))"
      ]
     },
     "execution_count": 36,
     "metadata": {},
     "output_type": "execute_result"
    }
   ],
   "source": [
    "7371 / 3600, time_int_to_str(int(ex[0]['timestampMs'])), time_int_to_str(int(ex[-1]['timestampMs']))\n"
   ]
  },
  {
   "cell_type": "code",
   "execution_count": 118,
   "metadata": {
    "collapsed": true
   },
   "outputs": [],
   "source": [
    "from collections import namedtuple\n",
    "Travel = namedtuple('Travel', ['start_time', 'start_dst', 'final_dst', 'duration'])  \n",
    "Stabel = namedtuple('Stabel', ['start_time', 'place', 'duration'])\n",
    "Walk = namedtuple('Walk', ['start_time', 'start_dst', 'final_dst', 'duration'])\n",
    "\n",
    "#travels = {}\n",
    "#stabels = [defaultdict(lambda: Stabel((cd[0]['latitudeE7'], cd[0]['longitudeE7']),cd[0]['time_s_to_next_point']))]\n",
    "\n",
    "#last_place = cd[0]\n",
    "action = 'st' #st, tr, w\n",
    "i = 0\n",
    "\n",
    "for i in range(len(cd)):\n",
    "    if action = 'st':\n",
    "        #print(cd[i])\n",
    "        \n",
    "        if cd[i]['grad_speed'] < 2:\n",
    "            stabels[cd[i][]\n",
    "            pass\n"
   ]
  },
  {
   "cell_type": "code",
   "execution_count": 122,
   "metadata": {},
   "outputs": [
    {
     "data": {
      "text/plain": [
       "Stabel(place=(557719613, 376558166), duration=69.47)"
      ]
     },
     "execution_count": 122,
     "metadata": {},
     "output_type": "execute_result"
    }
   ],
   "source": [
    "stabels[0]['s']"
   ]
  },
  {
   "cell_type": "code",
   "execution_count": 13,
   "metadata": {},
   "outputs": [
    {
     "data": {
      "text/plain": [
       "{'accuracy': 777,\n",
       " 'duration_s': 69.47,\n",
       " 'grad_speed': 20.014166175770903,\n",
       " 'latitudeE7': 557719613,\n",
       " 'longitudeE7': 376558166,\n",
       " 'move_forward': 4.604117031244828,\n",
       " 'timestampMs': '1364810473086'}"
      ]
     },
     "execution_count": 13,
     "metadata": {},
     "output_type": "execute_result"
    }
   ],
   "source": [
    "cd[0]"
   ]
  },
  {
   "cell_type": "code",
   "execution_count": 53,
   "metadata": {},
   "outputs": [
    {
     "data": {
      "text/plain": [
       "{'accuracy': 777,\n",
       " 'grad': 390.15730576004808,\n",
       " 'latitudeE7': 557719613,\n",
       " 'longitudeE7': 376558166,\n",
       " 'timestampMs': '1364810473086'}"
      ]
     },
     "execution_count": 53,
     "metadata": {},
     "output_type": "execute_result"
    }
   ],
   "source": [
    "ex[0]#['latitudeE7']  ex[0]['grad'] = \n",
    "#time, accuracy, lat, lon, speed, active_type\n",
    "df = np.zeros([6, len(data)])\n",
    "    for point in data:\n",
    "        df[0] = point['timestampMs']\n",
    "        df[1] = point['timestampMs']\n",
    "        df[2] = point['timestampMs']\n",
    "        df[3] = point['timestampMs']\n",
    "        df[4] = point['timestampMs']\n",
    "        df[5] = point['timestampMs']"
   ]
  },
  {
   "cell_type": "code",
   "execution_count": 114,
   "metadata": {},
   "outputs": [
    {
     "data": {
      "text/plain": [
       "{'accuracy': 616,\n",
       " 'activity': [{'activity': [{'confidence': 100, 'type': 'STILL'}],\n",
       "   'timestampMs': '1364810521119'}],\n",
       " 'grad_speed': 234.16951537063795,\n",
       " 'latitudeE7': 557748071,\n",
       " 'longitudeE7': 376522762,\n",
       " 'time_s_to_next_point': 71.02,\n",
       " 'timestampMs': '1364810542556'}"
      ]
     },
     "execution_count": 114,
     "metadata": {},
     "output_type": "execute_result"
    }
   ],
   "source": [
    "cd[1]"
   ]
  },
  {
   "cell_type": "code",
   "execution_count": 72,
   "metadata": {},
   "outputs": [
    {
     "name": "stdout",
     "output_type": "stream",
     "text": [
      "(0.3862178122863346, 0.019297222222222223, 20.014166175770903)\n",
      "2013-04-01 14:01:13.086000\n",
      "(4.6196441615618635, 0.019727777777777778, 234.16951537063795)\n",
      "2013-04-01 14:02:22.556000\n",
      "2013-04-01 14:02:01.119000\n",
      "{'confidence': 100, 'type': 'STILL'}\n",
      "(4.628782854101367, 0.03170055555555556, 146.01582757719737)\n",
      "2013-04-01 14:03:33.576000\n",
      "2013-04-01 14:03:40.110000\n",
      "{'confidence': 100, 'type': 'ON_FOOT'}\n",
      "(0.0, 0.05003305555555555, 0.0)\n",
      "2013-04-01 14:05:27.698000\n",
      "2013-04-01 14:06:40.590000\n",
      "{'confidence': 100, 'type': 'ON_FOOT'}\n",
      "(0.3681790371945091, 0.01744333333333333, 21.107149084340293)\n",
      "2013-04-01 14:08:27.817000\n",
      "(0.08698882139648108, 0.03283972222222222, 2.6488902923063353)\n",
      "2013-04-01 14:09:30.613000\n",
      "2013-04-01 14:09:40.942000\n",
      "{'confidence': 100, 'type': 'ON_FOOT'}\n",
      "(0.08698882139648108, 0.01761527777777778, 4.938259986238775)\n",
      "2013-04-01 14:11:28.836000\n",
      "(0.0, 0.0321525, 0.0)\n",
      "2013-04-01 14:12:32.251000\n",
      "2013-04-01 14:12:33.436000\n",
      "{'confidence': 100, 'type': 'ON_FOOT'}\n",
      "(0.009767918113896821, 0.016673333333333335, 0.5858407505335957)\n",
      "2013-04-01 14:14:28\n",
      "(0.27795577870672505, 0.016896666666666667, 16.450332138886864)\n",
      "2013-04-01 14:15:28.024000\n",
      "2013-04-01 14:15:33.788000\n",
      "{'confidence': 100, 'type': 'ON_FOOT'}\n",
      "(0.0, 0.03312388888888889, 0.0)\n",
      "2013-04-01 14:16:28.852000\n",
      "(0.1470601321001707, 0.019644722222222223, 7.485986843520516)\n",
      "2013-04-01 14:18:28.098000\n",
      "2013-04-01 14:18:51.832000\n",
      "{'confidence': 100, 'type': 'STILL'}\n",
      "(0.19797617726027114, 0.030372499999999997, 6.518270713977156)\n",
      "2013-04-01 14:19:38.819000\n",
      "(0.58925105636621, 0.017231666666666666, 34.195824917276916)\n",
      "2013-04-01 14:21:28.160000\n",
      "2013-04-01 14:21:52.091000\n",
      "{'confidence': 100, 'type': 'STILL'}\n",
      "(1.960139585299944, 0.033302222222222226, 58.85912274022252)\n",
      "2013-04-01 14:22:30.194000\n",
      "(2.5117456822574087, 0.06672361111111111, 37.64403095741834)\n",
      "2013-04-01 14:24:30.082000\n",
      "2013-04-01 14:25:34.398000\n",
      "{'confidence': 100, 'type': 'STILL'}\n",
      "(1.398575167775351, 0.033030833333333336, 42.34150418372786)\n",
      "2013-04-01 14:28:30.287000\n",
      "(0.00553660654541408, 0.01740361111111111, 0.3181297553746938)\n",
      "2013-04-01 14:30:29.198000\n",
      "(1.6906338590500085, 0.06582638888888889, 25.683223515476445)\n",
      "2013-04-01 14:31:31.851000\n",
      "(1.5973645519566078, 0.01931861111111111, 82.68526876851321)\n",
      "2013-04-01 14:35:28.826000\n",
      "2013-04-01 14:33:30.884000\n",
      "{'confidence': 100, 'type': 'STILL'}\n",
      "(2.307204757937631, 0.033480277777777775, 68.91235411042547)\n",
      "2013-04-01 14:36:38.373000\n",
      "(0.02087735595873245, 0.03335944444444444, 0.6258304449134581)\n",
      "2013-04-01 14:38:38.902000\n",
      "(0.617238764201736, 0.03311833333333333, 18.63737398827646)\n",
      "2013-04-01 14:40:38.996000\n",
      "(1.2754044784352214, 0.016913611111111112, 75.40698849327131)\n",
      "2013-04-01 14:42:38.222000\n",
      "(0.07858641733585302, 0.016995555555555555, 4.623939304541561)\n",
      "2013-04-01 14:43:39.111000\n",
      "(0.9993420171965097, 0.016728333333333335, 59.73948493752175)\n",
      "2013-04-01 14:44:40.295000\n",
      "(0.7752797201906487, 0.03275083333333333, 23.672060869412444)\n",
      "2013-04-01 14:45:40.517000\n",
      "(1.1606996977046034, 0.03390027777777778, 34.23864858315297)\n",
      "2013-04-01 14:47:38.420000\n",
      "(0.0, 0.017853888888888888, 0.0)\n",
      "2013-04-01 14:49:40.461000\n",
      "(3.577374058359449, 0.06735194444444445, 53.114636672594685)\n",
      "2013-04-01 14:50:44.735000\n",
      "(1.451953465700831, 0.01739361111111111, 83.47625208047323)\n",
      "2013-04-01 14:54:47.202000\n",
      "(0.5699790414490039, 0.016699166666666664, 34.13218472672313)\n",
      "2013-04-01 14:55:49.819000\n",
      "(1.6118796974782534, 0.016663333333333332, 96.73212827435009)\n",
      "2013-04-01 14:56:49.936000\n",
      "(0.0, 0.016950555555555556, 0.0)\n",
      "2013-04-01 14:57:49.924000\n",
      "(0.9557012023499234, 0.01700361111111111, 56.20577864930201)\n",
      "2013-04-01 14:58:50.946000\n",
      "(1.8620969926662096, 0.03416333333333333, 54.505717416319925)\n",
      "2013-04-01 14:59:52.159000\n",
      "(1.645152988190105, 0.03225361111111111, 51.006784403851235)\n",
      "2013-04-01 15:01:55.147000\n",
      "(1.719400777874911, 0.017181944444444444, 100.07020936625462)\n",
      "2013-04-01 15:03:51.260000\n",
      "(0.1501095792919695, 0.049909999999999996, 3.0076052753349933)\n",
      "2013-04-01 15:04:53.115000\n",
      "2013-04-01 15:06:21.234000\n",
      "{'confidence': 100, 'type': 'ON_FOOT'}\n",
      "(0.07680146495941939, 0.016819722222222222, 4.566155370743832)\n",
      "2013-04-01 15:07:52.791000\n",
      "(0.05841108985026046, 0.03290694444444445, 1.775038394976893)\n",
      "2013-04-01 15:08:53.342000\n",
      "2013-04-01 15:09:21.447000\n",
      "{'confidence': 100, 'type': 'ON_FOOT'}\n",
      "(0.0, 0.016681111111111112, 0.0)\n",
      "2013-04-01 15:10:51.807000\n",
      "(0.0, 0.016668055555555557, 0.0)\n",
      "2013-04-01 15:11:51.859000\n",
      "(0.0, 0.016709444444444447, 0.0)\n",
      "2013-04-01 15:12:51.864000\n",
      "2013-04-01 15:12:55.650000\n",
      "{'confidence': 100, 'type': 'ON_FOOT'}\n",
      "(0.0, 0.016801944444444446, 0.0)\n",
      "2013-04-01 15:13:52.018000\n",
      "(0.0, 0.016675, 0.0)\n",
      "2013-04-01 15:14:52.505000\n",
      "(0.0, 0.016683055555555555, 0.0)\n",
      "2013-04-01 15:15:52.535000\n",
      "2013-04-01 15:15:56.201000\n",
      "{'confidence': 100, 'type': 'ON_FOOT'}\n",
      "(0.0, 0.016675555555555555, 0.0)\n",
      "2013-04-01 15:16:52.594000\n",
      "(0.0, 0.016671944444444444, 0.0)\n",
      "2013-04-01 15:17:52.626000\n",
      "(0.0, 0.016671111111111112, 0.0)\n",
      "2013-04-01 15:18:52.645000\n",
      "2013-04-01 15:18:56.466000\n",
      "{'confidence': 100, 'type': 'ON_FOOT'}\n",
      "(0.0, 0.016674722222222223, 0.0)\n",
      "2013-04-01 15:19:52.661000\n",
      "(0.2372450031218293, 0.01687638888888889, 14.057806126879854)\n",
      "2013-04-01 15:20:52.690000\n",
      "(0.23837818664035762, 0.049869166666666666, 4.780071586792593)\n",
      "2013-04-01 15:21:53.445000\n",
      "(0.0, 0.033334166666666665, 0.0)\n",
      "2013-04-01 15:24:52.974000\n",
      "2013-04-01 15:23:42.102000\n",
      "{'confidence': 100, 'type': 'ON_BICYCLE'}\n",
      "(0.4753317519323358, 0.03335305555555555, 14.251520408395107)\n",
      "2013-04-01 15:26:52.977000\n",
      "2013-04-01 15:27:00.144000\n",
      "{'confidence': 100, 'type': 'ON_FOOT'}\n",
      "(0.0, 0.01675138888888889, 0.0)\n",
      "2013-04-01 15:28:53.048000\n",
      "(0.143313205804026, 0.016743055555555556, 8.559561026868414)\n",
      "2013-04-01 15:29:53.353000\n",
      "(0.3369796105869053, 0.016669722222222225, 20.21507053894884)\n",
      "2013-04-01 15:30:53.628000\n",
      "2013-04-01 15:31:03.078000\n",
      "{'confidence': 100, 'type': 'ON_FOOT'}\n",
      "(0.4755952391130594, 0.016681666666666668, 28.510055297016248)\n",
      "2013-04-01 15:31:53.639000\n",
      "(0.4753317519323358, 0.0333425, 14.256032149129064)\n",
      "2013-04-01 15:32:53.693000\n",
      "(0.0, 0.03334277777777778, 0.0)\n",
      "2013-04-01 15:34:53.726000\n",
      "2013-04-01 15:34:03.394000\n",
      "{'confidence': 100, 'type': 'ON_FOOT'}\n",
      "(0.2421813241254595, 0.05000527777777778, 4.843115264786796)\n",
      "2013-04-01 15:36:53.760000\n",
      "2013-04-01 15:38:07.598000\n",
      "{'confidence': 100, 'type': 'IN_VEHICLE'}\n",
      "(0.2421813241254595, 0.05003305555555555, 4.840426422818549)\n",
      "2013-04-01 15:39:53.779000\n",
      "2013-04-01 15:41:07.906000\n",
      "{'confidence': 100, 'type': 'IN_VEHICLE'}\n",
      "(0.0, 0.016874444444444445, 0.0)\n",
      "2013-04-01 15:42:53.898000\n",
      "(0.0, 0.01666861111111111, 0.0)\n",
      "2013-04-01 15:43:54.646000\n",
      "(0.0, 0.0166725, 0.0)\n",
      "2013-04-01 15:44:54.653000\n",
      "2013-04-01 15:44:26.078000\n",
      "{'confidence': 100, 'type': 'ON_FOOT'}\n",
      "(0.0, 0.019397222222222222, 0.0)\n",
      "2013-04-01 15:45:54.674000\n",
      "2013-04-01 15:46:26.088000\n",
      "{'confidence': 100, 'type': 'STILL'}\n",
      "(0.0, 0.033361944444444444, 0.0)\n",
      "2013-04-01 15:47:04.504000\n",
      "(0.0, 0.01668666666666667, 0.0)\n",
      "2013-04-01 15:49:04.607000\n",
      "(0.0, 0.016674166666666667, 0.0)\n",
      "2013-04-01 15:50:04.679000\n",
      "(0.0, 0.01695027777777778, 0.0)\n",
      "2013-04-01 15:51:04.706000\n",
      "(0.0, 0.01667, 0.0)\n",
      "2013-04-01 15:52:05.727000\n",
      "(0.0, 0.016680833333333332, 0.0)\n",
      "2013-04-01 15:53:05.739000\n",
      "2013-04-01 15:52:36.541000\n",
      "{'confidence': 100, 'type': 'STILL'}\n",
      "(0.0, 0.016677777777777777, 0.0)\n",
      "2013-04-01 15:54:05.790000\n",
      "(0.0, 0.03334611111111111, 0.0)\n",
      "2013-04-01 15:55:05.830000\n",
      "(0.0, 0.016671111111111112, 0.0)\n",
      "2013-04-01 15:57:05.876000\n",
      "(0.0, 0.016671666666666668, 0.0)\n",
      "2013-04-01 15:58:05.892000\n",
      "(0.0, 0.016676944444444446, 0.0)\n",
      "2013-04-01 15:59:05.910000\n",
      "(0.0, 0.016681666666666668, 0.0)\n",
      "2013-04-01 16:00:05.947000\n",
      "(0.0, 0.0333575, 0.0)\n",
      "2013-04-01 16:01:06.001000\n",
      "(0.0, 0.033390833333333335, 0.0)\n",
      "2013-04-01 16:03:06.088000\n",
      "(0.0, 0.01673111111111111, 0.0)\n",
      "2013-04-01 16:05:06.295000\n",
      "(0.0, 0.033376944444444445, 0.0)\n",
      "2013-04-01 16:06:06.527000\n",
      "2013-04-01 16:05:50.985000\n",
      "{'confidence': 100, 'type': 'STILL'}\n",
      "(0.0, 0.016681388888888888, 0.0)\n",
      "2013-04-01 16:08:06.684000\n",
      "(0.0, 0.016680555555555556, 0.0)\n",
      "2013-04-01 16:09:06.737000\n",
      "2013-04-01 16:09:25.894000\n",
      "{'confidence': 100, 'type': 'STILL'}\n",
      "(0.0, 0.03333361111111111, 0.0)\n",
      "2013-04-01 16:10:06.787000\n",
      "(0.0, 0.0333625, 0.0)\n",
      "2013-04-01 16:12:06.788000\n",
      "(0.0, 0.03334388888888889, 0.0)\n",
      "2013-04-01 16:14:06.893000\n",
      "(0.0, 0.03334111111111111, 0.0)\n",
      "2013-04-01 16:16:06.931000\n",
      "(0.0, 0.01672111111111111, 0.0)\n",
      "2013-04-01 16:18:06.959000\n",
      "(0.0, 0.01667888888888889, 0.0)\n",
      "2013-04-01 16:19:07.155000\n",
      "(0.0, 0.03333111111111111, 0.0)\n",
      "2013-04-01 16:20:07.199000\n",
      "(0.0, 0.016675, 0.0)\n",
      "2013-04-01 16:22:07.191000\n",
      "(0.0, 0.01667527777777778, 0.0)\n",
      "2013-04-01 16:23:07.221000\n",
      "(0.0, 0.016684166666666667, 0.0)\n",
      "2013-04-01 16:24:07.252000\n",
      "(0.0, 0.033343611111111116, 0.0)\n",
      "2013-04-01 16:25:07.315000\n",
      "(0.0, 0.033345, 0.0)\n",
      "2013-04-01 16:27:07.352000\n",
      "(0.0, 0.03333361111111111, 0.0)\n",
      "2013-04-01 16:29:07.394000\n",
      "(0.0, 0.01668277777777778, 0.0)\n",
      "2013-04-01 16:31:07.395000\n",
      "(0.0, 0.016676388888888886, 0.0)\n",
      "2013-04-01 16:32:07.453000\n"
     ]
    }
   ],
   "source": [
    "\n",
    "\n",
    "for i in range(100):\n",
    "    print(grad_speed(ex[i], ex[i+1]))\n",
    "    print(time_int_to_str(int(ex[i]['timestampMs'])))\n",
    "    if 'activity' in ex[i]:\n",
    "        print(time_int_to_str(int(ex[i]['activity'][0]['timestampMs'])))\n",
    "        act = ex[i]['activity'][0]['activity'][0]\n",
    "        print(act)"
   ]
  },
  {
   "cell_type": "code",
   "execution_count": 52,
   "metadata": {
    "collapsed": true
   },
   "outputs": [],
   "source": [
    "ex[0]['grad'] = np.var([ex[0]['latitudeE7']/1e4-ex[1]['latitudeE7']/1e4, ex[0]['latitudeE7']/1e4-ex[2]['latitudeE7']/1e4])  "
   ]
  },
  {
   "cell_type": "code",
   "execution_count": 61,
   "metadata": {},
   "outputs": [
    {
     "data": {
      "text/plain": [
       "55.7748071"
      ]
     },
     "execution_count": 61,
     "metadata": {},
     "output_type": "execute_result"
    }
   ],
   "source": [
    "#getDistanceFromLatLonInKm(ex[0]['latitudeE7']-ex[1]['latitudeE7'])\n",
    "557748071/1e7"
   ]
  },
  {
   "cell_type": "code",
   "execution_count": 69,
   "metadata": {},
   "outputs": [
    {
     "data": {
      "text/plain": [
       "[{'accuracy': 777,\n",
       "  'grad': 390.15730576004808,\n",
       "  'latitudeE7': 557719613,\n",
       "  'longitudeE7': 376558166,\n",
       "  'timestampMs': '1364810473086'},\n",
       " {'accuracy': 616,\n",
       "  'activity': [{'activity': [{'confidence': 100, 'type': 'STILL'}],\n",
       "    'timestampMs': '1364810521119'}],\n",
       "  'latitudeE7': 557748071,\n",
       "  'longitudeE7': 376522762,\n",
       "  'timestampMs': '1364810542556'},\n",
       " {'accuracy': 500,\n",
       "  'activity': [{'activity': [{'confidence': 100, 'type': 'ON_FOOT'}],\n",
       "    'timestampMs': '1364810620110'}],\n",
       "  'latitudeE7': 558143119,\n",
       "  'longitudeE7': 376293991,\n",
       "  'timestampMs': '1364810613576'},\n",
       " {'accuracy': 1061,\n",
       "  'activity': [{'activity': [{'confidence': 100, 'type': 'ON_FOOT'}],\n",
       "    'timestampMs': '1364810800590'}],\n",
       "  'latitudeE7': 557746708,\n",
       "  'longitudeE7': 376520012,\n",
       "  'timestampMs': '1364810727698'},\n",
       " {'accuracy': 1061,\n",
       "  'latitudeE7': 557746708,\n",
       "  'longitudeE7': 376520012,\n",
       "  'timestampMs': '1364810907817'},\n",
       " {'accuracy': 678,\n",
       "  'activity': [{'activity': [{'confidence': 100, 'type': 'ON_FOOT'}],\n",
       "    'timestampMs': '1364810980942'}],\n",
       "  'latitudeE7': 557729132,\n",
       "  'longitudeE7': 376569902,\n",
       "  'timestampMs': '1364810970613'},\n",
       " {'accuracy': 77,\n",
       "  'latitudeE7': 557726387,\n",
       "  'longitudeE7': 376582926,\n",
       "  'timestampMs': '1364811088836'},\n",
       " {'accuracy': 678,\n",
       "  'activity': [{'activity': [{'confidence': 100, 'type': 'ON_FOOT'}],\n",
       "    'timestampMs': '1364811153436'}],\n",
       "  'latitudeE7': 557729132,\n",
       "  'longitudeE7': 376569902,\n",
       "  'timestampMs': '1364811152251'},\n",
       " {'accuracy': 678,\n",
       "  'latitudeE7': 557729132,\n",
       "  'longitudeE7': 376569902,\n",
       "  'timestampMs': '1364811268000'},\n",
       " {'accuracy': 688,\n",
       "  'activity': [{'activity': [{'confidence': 100, 'type': 'ON_FOOT'}],\n",
       "    'timestampMs': '1364811333788'}],\n",
       "  'latitudeE7': 557730006,\n",
       "  'longitudeE7': 376570059,\n",
       "  'timestampMs': '1364811328024'}]"
      ]
     },
     "execution_count": 69,
     "metadata": {},
     "output_type": "execute_result"
    }
   ],
   "source": [
    "bskt_data[:10]"
   ]
  },
  {
   "cell_type": "code",
   "execution_count": null,
   "metadata": {
    "collapsed": true
   },
   "outputs": [],
   "source": [
    "#from collections import defaultdict\n",
    "loc_dict = {} #defaultdict()\n",
    "#loc_dict.set\n",
    "for point in bskt_data:\n",
    "    "
   ]
  },
  {
   "cell_type": "code",
   "execution_count": 16,
   "metadata": {
    "collapsed": true
   },
   "outputs": [],
   "source": [
    "def find_nearest(inp_data):\n",
    "    data = inp_data.copy()\n",
    "    data.sort(key=lambda x: x['latitudeE7'])\n",
    "    lat = [int(x['latitudeE7']) for x in data]\n",
    "    var = []\n",
    "    i = 100\n",
    "    while i < len(lat[:10000]):\n",
    "        var.append(np.var(lat[i - 100 : i]))\n",
    "        i += 1\n",
    "    return var"
   ]
  },
  {
   "cell_type": "code",
   "execution_count": 25,
   "metadata": {},
   "outputs": [
    {
     "data": {
      "image/png": "[encoded data removed]",
      "text/plain": [
       "<matplotlib.figure.Figure at 0x7ff207ddc278>"
      ]
     },
     "metadata": {},
     "output_type": "display_data"
    }
   ],
   "source": [
    "%matplotlib inline\n",
    "import matplotlib.pyplot as plt\n",
    "#xv = find_nearest(bskt_data)\n",
    "plt.plot(range(len(xv)),xv, \"ro\")\n",
    "plt.axis([0, 10000, 0, 0.01])\n",
    "plt.show()"
   ]
  },
  {
   "cell_type": "code",
   "execution_count": null,
   "metadata": {
    "collapsed": true
   },
   "outputs": [],
   "source": [
    "def near_val(cur_loc_val):\n",
    "    return cur_loc_val - 0.001, cur_loc_val + 0.001"
   ]
  },
  {
   "cell_type": "code",
   "execution_count": null,
   "metadata": {
    "collapsed": true
   },
   "outputs": [],
   "source": []
  },
  {
   "cell_type": "code",
   "execution_count": null,
   "metadata": {
    "collapsed": true
   },
   "outputs": [],
   "source": []
  },
  {
   "cell_type": "code",
   "execution_count": 109,
   "metadata": {
    "collapsed": true
   },
   "outputs": [],
   "source": [
    "#for i, point in enumerate(bskt_data[1:-1]):\n",
    "    #if i near i - 1 \n",
    "    #old place += time(i:i) if < 1000?\n",
    "#    else\n",
    "#    find_nearest place to point getDistanceFromLatLonInKm < 1 / 0.2"
   ]
  },
  {
   "cell_type": "code",
   "execution_count": 106,
   "metadata": {},
   "outputs": [
    {
     "data": {
      "text/plain": [
       "17.24476860382001"
      ]
     },
     "execution_count": 106,
     "metadata": {},
     "output_type": "execute_result"
    }
   ],
   "source": [
    "getDistanceFromLatLonInKm(55.71829815,  37.52973881, 55.58522362,  37.67089252)"
   ]
  },
  {
   "cell_type": "code",
   "execution_count": 89,
   "metadata": {
    "collapsed": true
   },
   "outputs": [],
   "source": [
    "ans = requests.get(req)"
   ]
  },
  {
   "cell_type": "code",
   "execution_count": 95,
   "metadata": {},
   "outputs": [
    {
     "data": {
      "text/plain": [
       "\"Ulitsa Mira, 4, Ramenskoye, Moskovskaya oblast', Russia, 140105\""
      ]
     },
     "execution_count": 95,
     "metadata": {},
     "output_type": "execute_result"
    }
   ],
   "source": []
  },
  {
   "cell_type": "code",
   "execution_count": 71,
   "metadata": {},
   "outputs": [
    {
     "name": "stdout",
     "output_type": "stream",
     "text": [
      "[0 0 0 1 1 1]\n"
     ]
    },
    {
     "data": {
      "text/plain": [
       "array([[ 1.,  2.],\n",
       "       [ 4.,  2.]])"
      ]
     },
     "execution_count": 71,
     "metadata": {},
     "output_type": "execute_result"
    }
   ],
   "source": [
    "from sklearn.cluster import KMeans\n",
    "\n",
    "X = np.array([[1, 2], [1, 4], [1, 0], [4, 2], [4, 4], [4, 0]])\n",
    "#kmeans = KMeans(n_clusters=2, random_state=0).fit(X)\n",
    "print(kmeans.labels_)\n",
    "\n",
    "kmeans.predict([[0, 0], [4, 4]])\n",
    "\n",
    "kmeans.cluster_centers_"
   ]
  },
  {
   "cell_type": "code",
   "execution_count": 57,
   "metadata": {},
   "outputs": [
    {
     "data": {
      "text/plain": [
       "[{'accuracy': 1719,\n",
       "  'latitudeE7': 435097387,\n",
       "  'longitudeE7': 164625600,\n",
       "  'timestampMs': '1375033793981'},\n",
       " {'accuracy': 30,\n",
       "  'latitudeE7': 435122586,\n",
       "  'longitudeE7': 164665660,\n",
       "  'timestampMs': '1375033906499'}]"
      ]
     },
     "execution_count": 57,
     "metadata": {},
     "output_type": "execute_result"
    }
   ],
   "source": [
    "bskt_data[-2:]"
   ]
  },
  {
   "cell_type": "code",
   "execution_count": 58,
   "metadata": {},
   "outputs": [
    {
     "data": {
      "text/plain": [
       "-112518"
      ]
     },
     "execution_count": 58,
     "metadata": {},
     "output_type": "execute_result"
    }
   ],
   "source": [
    "1375033793981 - 1375033906499"
   ]
  },
  {
   "cell_type": "code",
   "execution_count": 54,
   "metadata": {},
   "outputs": [
    {
     "name": "stdout",
     "output_type": "stream",
     "text": [
      "2013-07-28 21:51:46.499000\n",
      "2013-07-28 21:49:53.981000\n",
      "2013-07-28 21:47:56.559000\n",
      "2013-07-28 21:46:56.514000\n",
      "2013-07-28 21:44:56.357000\n",
      "2013-07-28 21:43:56.314000\n",
      "2013-07-28 21:41:56.119000\n",
      "2013-07-28 21:40:55.642000\n",
      "2013-07-28 21:37:55.677000\n",
      "2013-07-28 21:36:55.577000\n",
      "2013-07-28 21:35:55.492000\n",
      "2013-07-28 21:34:55.533000\n",
      "2013-07-28 21:32:55.579000\n",
      "2013-07-28 21:31:55.298000\n",
      "2013-07-28 21:30:55.279000\n",
      "2013-07-28 21:29:55.250000\n",
      "2013-07-28 21:28:52.077000\n",
      "2013-07-28 21:27:06.254000\n",
      "2013-07-28 21:25:54.730000\n",
      "2013-07-28 21:23:54.639000\n",
      "2013-07-28 21:22:54.500000\n",
      "2013-07-28 21:20:54.559000\n",
      "2013-07-28 21:18:54.428000\n",
      "2013-07-28 21:17:54.419000\n",
      "2013-07-28 21:16:54.393000\n",
      "2013-07-28 21:14:54.414000\n",
      "2013-07-28 21:13:53.529000\n",
      "2013-07-28 21:10:53.537000\n",
      "2013-07-28 21:08:53.555000\n"
     ]
    }
   ],
   "source": [
    "for i in range(1, 30, 1):    \n",
    "    print(datetime.datetime.fromtimestamp(int(bskt_data[- i]['timestampMs']) / 1e3))"
   ]
  },
  {
   "cell_type": "code",
   "execution_count": 62,
   "metadata": {},
   "outputs": [
    {
     "data": {
      "text/plain": [
       "(0, 4)"
      ]
     },
     "execution_count": 62,
     "metadata": {},
     "output_type": "execute_result"
    }
   ],
   "source": [
    "p = [1,4,5,6,45,46,78,98]\n",
    "#p = list(reversed(p))\n",
    "import bisect\n",
    "\n",
    "bisect.bisect_left(p, 0), bisect.bisect_right(p,8) "
   ]
  },
  {
   "cell_type": "code",
   "execution_count": 26,
   "metadata": {},
   "outputs": [
    {
     "data": {
      "text/plain": [
       "[1, 4, 5, 6, 45, 46, 78, 98]"
      ]
     },
     "execution_count": 26,
     "metadata": {},
     "output_type": "execute_result"
    }
   ],
   "source": [
    "p\n"
   ]
  },
  {
   "cell_type": "code",
   "execution_count": null,
   "metadata": {
    "collapsed": true
   },
   "outputs": [],
   "source": []
  },
  {
   "cell_type": "code",
   "execution_count": null,
   "metadata": {
    "collapsed": true
   },
   "outputs": [],
   "source": []
  },
  {
   "cell_type": "code",
   "execution_count": null,
   "metadata": {
    "collapsed": true
   },
   "outputs": [],
   "source": []
  },
  {
   "cell_type": "code",
   "execution_count": null,
   "metadata": {
    "collapsed": true
   },
   "outputs": [],
   "source": [
    "{'locations': [{'accuracy': 24,\n",
    "   'latitudeE7': 558488193,\n",
    "   'longitudeE7': 374864498,\n",
    "   'timestampMs': '1526652148901'},\n",
    "  {'accuracy': 24,\n",
    "   'activity': [{'activity': [{'confidence': 100, 'type': 'STILL'}],\n",
    "     'timestampMs': '1526651974716'}],\n",
    "   'latitudeE7': 558488193,\n",
    "   'longitudeE7': 374864498,\n",
    "   'timestampMs': '1526652028829'},\n",
    "              ]}"
   ]
  },
  {
   "cell_type": "code",
   "execution_count": 42,
   "metadata": {},
   "outputs": [
    {
     "data": {
      "text/plain": [
       "True"
      ]
     },
     "execution_count": 42,
     "metadata": {},
     "output_type": "execute_result"
    }
   ],
   "source": [
    "1526652148901 > 1526651974716"
   ]
  },
  {
   "cell_type": "code",
   "execution_count": 52,
   "metadata": {
    "collapsed": true
   },
   "outputs": [],
   "source": [
    "s = 1526651974716 #946684863900#\"01/12/2011\"\n",
    "#dtime = time.mktime(datetime.datetime.strptime(s, \"%d/%m/%Y/%H:%M:%S\").timetuple())"
   ]
  },
  {
   "cell_type": "code",
   "execution_count": 62,
   "metadata": {},
   "outputs": [
    {
     "name": "stdout",
     "output_type": "stream",
     "text": [
      "2018-05-18 17:02:28.901000\n",
      "2018-02-01 04:21:55\n",
      "2017-07-11 22:19:49.246000\n",
      "2016-06-20 18:20:03.387000\n",
      "2015-08-31 22:53:33.957000\n",
      "2015-03-30 14:51:44.686000\n",
      "2014-10-15 12:33:25.779000\n"
     ]
    }
   ],
   "source": [
    "for i in range(0, 7, 1):\n",
    "    print(datetime.datetime.fromtimestamp(int(data['locations'][i*100000]['timestampMs']) / 1e3))\n"
   ]
  },
  {
   "cell_type": "code",
   "execution_count": 64,
   "metadata": {},
   "outputs": [
    {
     "data": {
      "text/plain": [
       "[{'accuracy': 24,\n",
       "  'latitudeE7': 558488193,\n",
       "  'longitudeE7': 374864498,\n",
       "  'timestampMs': '1526652148901'},\n",
       " {'accuracy': 24,\n",
       "  'activity': [{'activity': [{'confidence': 100, 'type': 'STILL'}],\n",
       "    'timestampMs': '1526651974716'}],\n",
       "  'latitudeE7': 558488193,\n",
       "  'longitudeE7': 374864498,\n",
       "  'timestampMs': '1526652028829'},\n",
       " {'accuracy': 23,\n",
       "  'latitudeE7': 558488246,\n",
       "  'longitudeE7': 374865029,\n",
       "  'timestampMs': '1526651907566'},\n",
       " {'accuracy': 23,\n",
       "  'latitudeE7': 558488246,\n",
       "  'longitudeE7': 374865029,\n",
       "  'timestampMs': '1526651780351'},\n",
       " {'accuracy': 23,\n",
       "  'activity': [{'activity': [{'confidence': 100, 'type': 'STILL'}],\n",
       "    'timestampMs': '1526651723819'}],\n",
       "  'latitudeE7': 558488246,\n",
       "  'longitudeE7': 374865029,\n",
       "  'timestampMs': '1526651724166'},\n",
       " {'accuracy': 21,\n",
       "  'activity': [{'activity': [{'confidence': 100, 'type': 'STILL'}],\n",
       "    'timestampMs': '1526651603382'},\n",
       "   {'activity': [{'confidence': 100, 'type': 'STILL'}],\n",
       "    'timestampMs': '1526651663586'}],\n",
       "  'latitudeE7': 558488130,\n",
       "  'longitudeE7': 374864508,\n",
       "  'timestampMs': '1526651603285'},\n",
       " {'accuracy': 21,\n",
       "  'activity': [{'activity': [{'confidence': 100, 'type': 'STILL'}],\n",
       "    'timestampMs': '1526651417816'},\n",
       "   {'activity': [{'confidence': 100, 'type': 'STILL'}],\n",
       "    'timestampMs': '1526651478530'},\n",
       "   {'activity': [{'confidence': 100, 'type': 'STILL'}],\n",
       "    'timestampMs': '1526651538713'}],\n",
       "  'latitudeE7': 558488130,\n",
       "  'longitudeE7': 374864508,\n",
       "  'timestampMs': '1526651478472'},\n",
       " {'accuracy': 24,\n",
       "  'activity': [{'activity': [{'confidence': 100, 'type': 'STILL'}],\n",
       "    'timestampMs': '1526651262440'},\n",
       "   {'activity': [{'confidence': 100, 'type': 'STILL'}],\n",
       "    'timestampMs': '1526651357617'}],\n",
       "  'latitudeE7': 558488237,\n",
       "  'longitudeE7': 374865039,\n",
       "  'timestampMs': '1526651297052'},\n",
       " {'accuracy': 24,\n",
       "  'activity': [{'activity': [{'confidence': 97, 'type': 'STILL'},\n",
       "     {'confidence': 2, 'type': 'ON_FOOT'},\n",
       "     {'confidence': 2, 'type': 'WALKING'},\n",
       "     {'confidence': 1, 'type': 'UNKNOWN'},\n",
       "     {'confidence': 0, 'type': 'IN_VEHICLE'},\n",
       "     {'confidence': 0, 'type': 'ON_BICYCLE'},\n",
       "     {'confidence': 0, 'type': 'IN_ROAD_VEHICLE'}],\n",
       "    'timestampMs': '1526651190212'}],\n",
       "  'latitudeE7': 558488237,\n",
       "  'longitudeE7': 374865039,\n",
       "  'timestampMs': '1526651226504'},\n",
       " {'accuracy': 23,\n",
       "  'activity': [{'activity': [{'confidence': 44, 'type': 'ON_FOOT'},\n",
       "     {'confidence': 44, 'type': 'WALKING'},\n",
       "     {'confidence': 26, 'type': 'STILL'},\n",
       "     {'confidence': 10, 'type': 'UNKNOWN'},\n",
       "     {'confidence': 8, 'type': 'IN_VEHICLE'},\n",
       "     {'confidence': 8, 'type': 'IN_ROAD_VEHICLE'},\n",
       "     {'confidence': 7, 'type': 'IN_RAIL_VEHICLE'},\n",
       "     {'confidence': 4, 'type': 'UNKNOWN'},\n",
       "     {'confidence': 4, 'type': 'UNKNOWN'},\n",
       "     {'confidence': 3, 'type': 'ON_BICYCLE'},\n",
       "     {'confidence': 2, 'type': 'RUNNING'}],\n",
       "    'timestampMs': '1526651152877'}],\n",
       "  'latitudeE7': 558488063,\n",
       "  'longitudeE7': 374864596,\n",
       "  'timestampMs': '1526651115550'},\n",
       " {'accuracy': 23,\n",
       "  'activity': [{'activity': [{'confidence': 100, 'type': 'STILL'}],\n",
       "    'timestampMs': '1526651069125'}],\n",
       "  'latitudeE7': 558488063,\n",
       "  'longitudeE7': 374864596,\n",
       "  'timestampMs': '1526651068605'},\n",
       " {'accuracy': 23,\n",
       "  'activity': [{'activity': [{'confidence': 100, 'type': 'STILL'}],\n",
       "    'timestampMs': '1526650907582'}],\n",
       "  'latitudeE7': 558488063,\n",
       "  'longitudeE7': 374864596,\n",
       "  'timestampMs': '1526650909192'},\n",
       " {'accuracy': 24,\n",
       "  'altitude': 203,\n",
       "  'latitudeE7': 558488088,\n",
       "  'longitudeE7': 374864336,\n",
       "  'timestampMs': '1526650817570',\n",
       "  'verticalAccuracy': 2},\n",
       " {'accuracy': 24,\n",
       "  'altitude': 203,\n",
       "  'latitudeE7': 558488088,\n",
       "  'longitudeE7': 374864336,\n",
       "  'timestampMs': '1526650626268',\n",
       "  'verticalAccuracy': 2},\n",
       " {'accuracy': 24,\n",
       "  'altitude': 203,\n",
       "  'latitudeE7': 558488083,\n",
       "  'longitudeE7': 374864348,\n",
       "  'timestampMs': '1526650577032',\n",
       "  'verticalAccuracy': 2},\n",
       " {'accuracy': 24,\n",
       "  'altitude': 203,\n",
       "  'latitudeE7': 558488083,\n",
       "  'longitudeE7': 374864348,\n",
       "  'timestampMs': '1526650534959',\n",
       "  'verticalAccuracy': 2},\n",
       " {'accuracy': 23,\n",
       "  'latitudeE7': 558488078,\n",
       "  'longitudeE7': 374864350,\n",
       "  'timestampMs': '1526650457035'},\n",
       " {'accuracy': 23,\n",
       "  'latitudeE7': 558488078,\n",
       "  'longitudeE7': 374864350,\n",
       "  'timestampMs': '1526650210954'},\n",
       " {'accuracy': 24,\n",
       "  'latitudeE7': 558488089,\n",
       "  'longitudeE7': 374864335,\n",
       "  'timestampMs': '1526650146002'},\n",
       " {'accuracy': 24,\n",
       "  'latitudeE7': 558488089,\n",
       "  'longitudeE7': 374864335,\n",
       "  'timestampMs': '1526650025393'},\n",
       " {'accuracy': 24,\n",
       "  'latitudeE7': 558488089,\n",
       "  'longitudeE7': 374864335,\n",
       "  'timestampMs': '1526649903347'},\n",
       " {'accuracy': 24,\n",
       "  'altitude': 203,\n",
       "  'latitudeE7': 558488093,\n",
       "  'longitudeE7': 374864341,\n",
       "  'timestampMs': '1526649847258',\n",
       "  'verticalAccuracy': 2},\n",
       " {'accuracy': 24,\n",
       "  'altitude': 203,\n",
       "  'latitudeE7': 558488093,\n",
       "  'longitudeE7': 374864341,\n",
       "  'timestampMs': '1526649568856',\n",
       "  'verticalAccuracy': 2},\n",
       " {'accuracy': 24,\n",
       "  'latitudeE7': 558488049,\n",
       "  'longitudeE7': 374864535,\n",
       "  'timestampMs': '1526649507005'},\n",
       " {'accuracy': 24,\n",
       "  'latitudeE7': 558488049,\n",
       "  'longitudeE7': 374864535,\n",
       "  'timestampMs': '1526649386930'},\n",
       " {'accuracy': 24,\n",
       "  'latitudeE7': 558488049,\n",
       "  'longitudeE7': 374864535,\n",
       "  'timestampMs': '1526649244307'},\n",
       " {'accuracy': 23,\n",
       "  'activity': [{'activity': [{'confidence': 100, 'type': 'STILL'}],\n",
       "    'timestampMs': '1526649222023'}],\n",
       "  'altitude': 203,\n",
       "  'latitudeE7': 558488131,\n",
       "  'longitudeE7': 374864624,\n",
       "  'timestampMs': '1526649221582',\n",
       "  'verticalAccuracy': 2},\n",
       " {'accuracy': 23,\n",
       "  'altitude': 203,\n",
       "  'latitudeE7': 558488132,\n",
       "  'longitudeE7': 374864603,\n",
       "  'timestampMs': '1526649070974',\n",
       "  'verticalAccuracy': 2},\n",
       " {'accuracy': 23,\n",
       "  'altitude': 203,\n",
       "  'latitudeE7': 558488132,\n",
       "  'longitudeE7': 374864603,\n",
       "  'timestampMs': '1526648906017',\n",
       "  'verticalAccuracy': 2},\n",
       " {'accuracy': 23,\n",
       "  'altitude': 203,\n",
       "  'latitudeE7': 558488132,\n",
       "  'longitudeE7': 374864603,\n",
       "  'timestampMs': '1526648771557',\n",
       "  'verticalAccuracy': 2},\n",
       " {'accuracy': 24,\n",
       "  'latitudeE7': 558488144,\n",
       "  'longitudeE7': 374864612,\n",
       "  'timestampMs': '1526648691048'},\n",
       " {'accuracy': 24,\n",
       "  'latitudeE7': 558488144,\n",
       "  'longitudeE7': 374864612,\n",
       "  'timestampMs': '1526648569242'},\n",
       " {'accuracy': 23,\n",
       "  'latitudeE7': 558488188,\n",
       "  'longitudeE7': 374864909,\n",
       "  'timestampMs': '1526648425122'},\n",
       " {'accuracy': 23,\n",
       "  'latitudeE7': 558488188,\n",
       "  'longitudeE7': 374864909,\n",
       "  'timestampMs': '1526648383563'},\n",
       " {'accuracy': 23,\n",
       "  'altitude': 203,\n",
       "  'latitudeE7': 558488140,\n",
       "  'longitudeE7': 374864621,\n",
       "  'timestampMs': '1526648368040',\n",
       "  'verticalAccuracy': 2},\n",
       " {'accuracy': 23,\n",
       "  'altitude': 203,\n",
       "  'latitudeE7': 558488140,\n",
       "  'longitudeE7': 374864621,\n",
       "  'timestampMs': '1526648185885',\n",
       "  'verticalAccuracy': 2},\n",
       " {'accuracy': 23,\n",
       "  'altitude': 203,\n",
       "  'latitudeE7': 558488140,\n",
       "  'longitudeE7': 374864621,\n",
       "  'timestampMs': '1526648065582',\n",
       "  'verticalAccuracy': 2},\n",
       " {'accuracy': 24,\n",
       "  'activity': [{'activity': [{'confidence': 100, 'type': 'STILL'}],\n",
       "    'timestampMs': '1526648001981'}],\n",
       "  'altitude': 203,\n",
       "  'latitudeE7': 558488107,\n",
       "  'longitudeE7': 374864614,\n",
       "  'timestampMs': '1526648005942',\n",
       "  'verticalAccuracy': 2},\n",
       " {'accuracy': 24,\n",
       "  'activity': [{'activity': [{'confidence': 100, 'type': 'STILL'}],\n",
       "    'timestampMs': '1526647820186'},\n",
       "   {'activity': [{'confidence': 100, 'type': 'STILL'}],\n",
       "    'timestampMs': '1526647909069'}],\n",
       "  'altitude': 203,\n",
       "  'latitudeE7': 558488107,\n",
       "  'longitudeE7': 374864614,\n",
       "  'timestampMs': '1526647885883',\n",
       "  'verticalAccuracy': 2},\n",
       " {'accuracy': 23,\n",
       "  'latitudeE7': 558488054,\n",
       "  'longitudeE7': 374864579,\n",
       "  'timestampMs': '1526647747512'},\n",
       " {'accuracy': 23,\n",
       "  'latitudeE7': 558488053,\n",
       "  'longitudeE7': 374864601,\n",
       "  'timestampMs': '1526647468832'},\n",
       " {'accuracy': 23,\n",
       "  'latitudeE7': 558488053,\n",
       "  'longitudeE7': 374864601,\n",
       "  'timestampMs': '1526647325806'},\n",
       " {'accuracy': 23,\n",
       "  'latitudeE7': 558488053,\n",
       "  'longitudeE7': 374864601,\n",
       "  'timestampMs': '1526647168640'},\n",
       " {'accuracy': 23,\n",
       "  'activity': [{'activity': [{'confidence': 100, 'type': 'STILL'}],\n",
       "    'timestampMs': '1526647094185'}],\n",
       "  'latitudeE7': 558488075,\n",
       "  'longitudeE7': 374864579,\n",
       "  'timestampMs': '1526647086981'},\n",
       " {'accuracy': 24,\n",
       "  'latitudeE7': 558488089,\n",
       "  'longitudeE7': 374864355,\n",
       "  'timestampMs': '1526646866621'},\n",
       " {'accuracy': 24,\n",
       "  'latitudeE7': 558488089,\n",
       "  'longitudeE7': 374864355,\n",
       "  'timestampMs': '1526646686508'},\n",
       " {'accuracy': 24,\n",
       "  'latitudeE7': 558488097,\n",
       "  'longitudeE7': 374864338,\n",
       "  'timestampMs': '1526646546340'},\n",
       " {'accuracy': 24,\n",
       "  'latitudeE7': 558488097,\n",
       "  'longitudeE7': 374864338,\n",
       "  'timestampMs': '1526646374802'},\n",
       " {'accuracy': 23,\n",
       "  'latitudeE7': 558488061,\n",
       "  'longitudeE7': 374864610,\n",
       "  'timestampMs': '1526646243322'},\n",
       " {'accuracy': 23,\n",
       "  'latitudeE7': 558488061,\n",
       "  'longitudeE7': 374864610,\n",
       "  'timestampMs': '1526646085895'},\n",
       " {'accuracy': 23,\n",
       "  'latitudeE7': 558488065,\n",
       "  'longitudeE7': 374864620,\n",
       "  'timestampMs': '1526645925848'},\n",
       " {'accuracy': 23,\n",
       "  'latitudeE7': 558488065,\n",
       "  'longitudeE7': 374864620,\n",
       "  'timestampMs': '1526645770566'},\n",
       " {'accuracy': 23,\n",
       "  'latitudeE7': 558488065,\n",
       "  'longitudeE7': 374864620,\n",
       "  'timestampMs': '1526645626029'},\n",
       " {'accuracy': 24,\n",
       "  'latitudeE7': 558488085,\n",
       "  'longitudeE7': 374864364,\n",
       "  'timestampMs': '1526645599590'},\n",
       " {'accuracy': 24,\n",
       "  'latitudeE7': 558488086,\n",
       "  'longitudeE7': 374864364,\n",
       "  'timestampMs': '1526645563484'},\n",
       " {'accuracy': 23,\n",
       "  'latitudeE7': 558488072,\n",
       "  'longitudeE7': 374864605,\n",
       "  'timestampMs': '1526645485891'},\n",
       " {'accuracy': 23,\n",
       "  'latitudeE7': 558488072,\n",
       "  'longitudeE7': 374864605,\n",
       "  'timestampMs': '1526645238213'},\n",
       " {'accuracy': 22,\n",
       "  'latitudeE7': 558488073,\n",
       "  'longitudeE7': 374864571,\n",
       "  'timestampMs': '1526645185884'},\n",
       " {'accuracy': 22,\n",
       "  'activity': [{'activity': [{'confidence': 100, 'type': 'STILL'}],\n",
       "    'timestampMs': '1526645046430'}],\n",
       "  'latitudeE7': 558488073,\n",
       "  'longitudeE7': 374864571,\n",
       "  'timestampMs': '1526645058271'},\n",
       " {'accuracy': 22,\n",
       "  'latitudeE7': 558488073,\n",
       "  'longitudeE7': 374864571,\n",
       "  'timestampMs': '1526644938032'},\n",
       " {'accuracy': 23,\n",
       "  'activity': [{'activity': [{'confidence': 100, 'type': 'STILL'}],\n",
       "    'timestampMs': '1526644855117'}],\n",
       "  'latitudeE7': 558488065,\n",
       "  'longitudeE7': 374864589,\n",
       "  'timestampMs': '1526644883521'},\n",
       " {'accuracy': 23,\n",
       "  'latitudeE7': 558488065,\n",
       "  'longitudeE7': 374864589,\n",
       "  'timestampMs': '1526644763146'},\n",
       " {'accuracy': 23,\n",
       "  'latitudeE7': 558488065,\n",
       "  'longitudeE7': 374864589,\n",
       "  'timestampMs': '1526644637832'},\n",
       " {'accuracy': 23,\n",
       "  'latitudeE7': 558488068,\n",
       "  'longitudeE7': 374864582,\n",
       "  'timestampMs': '1526644607009'},\n",
       " {'accuracy': 22,\n",
       "  'latitudeE7': 558488059,\n",
       "  'longitudeE7': 374864559,\n",
       "  'timestampMs': '1526644577326'},\n",
       " {'accuracy': 24,\n",
       "  'altitude': 203,\n",
       "  'latitudeE7': 558488089,\n",
       "  'longitudeE7': 374864362,\n",
       "  'timestampMs': '1526644499992',\n",
       "  'verticalAccuracy': 2},\n",
       " {'accuracy': 24,\n",
       "  'altitude': 203,\n",
       "  'latitudeE7': 558488089,\n",
       "  'longitudeE7': 374864362,\n",
       "  'timestampMs': '1526644276218',\n",
       "  'verticalAccuracy': 2},\n",
       " {'accuracy': 23,\n",
       "  'altitude': 203,\n",
       "  'latitudeE7': 558488089,\n",
       "  'longitudeE7': 374864420,\n",
       "  'timestampMs': '1526644214502',\n",
       "  'verticalAccuracy': 2},\n",
       " {'accuracy': 24,\n",
       "  'altitude': 203,\n",
       "  'latitudeE7': 558488079,\n",
       "  'longitudeE7': 374864344,\n",
       "  'timestampMs': '1526643973385',\n",
       "  'verticalAccuracy': 2},\n",
       " {'accuracy': 24,\n",
       "  'activity': [{'activity': [{'confidence': 100, 'type': 'STILL'}],\n",
       "    'timestampMs': '1526643673053'}],\n",
       "  'altitude': 203,\n",
       "  'latitudeE7': 558488047,\n",
       "  'longitudeE7': 374864576,\n",
       "  'timestampMs': '1526643673260',\n",
       "  'verticalAccuracy': 2},\n",
       " {'accuracy': 24,\n",
       "  'activity': [{'activity': [{'confidence': 100, 'type': 'STILL'}],\n",
       "    'timestampMs': '1526643552041'},\n",
       "   {'activity': [{'confidence': 100, 'type': 'STILL'}],\n",
       "    'timestampMs': '1526643612852'}],\n",
       "  'altitude': 203,\n",
       "  'latitudeE7': 558488047,\n",
       "  'longitudeE7': 374864576,\n",
       "  'timestampMs': '1526643612807',\n",
       "  'verticalAccuracy': 2},\n",
       " {'accuracy': 24,\n",
       "  'activity': [{'activity': [{'confidence': 100, 'type': 'STILL'}],\n",
       "    'timestampMs': '1526643490679'}],\n",
       "  'altitude': 203,\n",
       "  'latitudeE7': 558488047,\n",
       "  'longitudeE7': 374864576,\n",
       "  'timestampMs': '1526643490622',\n",
       "  'verticalAccuracy': 2},\n",
       " {'accuracy': 24,\n",
       "  'activity': [{'activity': [{'confidence': 100, 'type': 'STILL'}],\n",
       "    'timestampMs': '1526643369324'},\n",
       "   {'activity': [{'confidence': 100, 'type': 'STILL'}],\n",
       "    'timestampMs': '1526643429739'}],\n",
       "  'altitude': 203,\n",
       "  'latitudeE7': 558488047,\n",
       "  'longitudeE7': 374864576,\n",
       "  'timestampMs': '1526643370229',\n",
       "  'verticalAccuracy': 2},\n",
       " {'accuracy': 23,\n",
       "  'activity': [{'activity': [{'confidence': 100, 'type': 'STILL'}],\n",
       "    'timestampMs': '1526643248225'},\n",
       "   {'activity': [{'confidence': 100, 'type': 'STILL'}],\n",
       "    'timestampMs': '1526643308395'}],\n",
       "  'latitudeE7': 558488086,\n",
       "  'longitudeE7': 374864418,\n",
       "  'timestampMs': '1526643249185'},\n",
       " {'accuracy': 24,\n",
       "  'activity': [{'activity': [{'confidence': 25, 'type': 'ON_FOOT'},\n",
       "     {'confidence': 25, 'type': 'WALKING'},\n",
       "     {'confidence': 24, 'type': 'IN_VEHICLE'},\n",
       "     {'confidence': 24, 'type': 'IN_ROAD_VEHICLE'},\n",
       "     {'confidence': 21, 'type': 'UNKNOWN'},\n",
       "     {'confidence': 21, 'type': 'UNKNOWN'},\n",
       "     {'confidence': 11, 'type': 'STILL'},\n",
       "     {'confidence': 9, 'type': 'IN_RAIL_VEHICLE'},\n",
       "     {'confidence': 5, 'type': 'ON_BICYCLE'},\n",
       "     {'confidence': 5, 'type': 'RUNNING'},\n",
       "     {'confidence': 3, 'type': 'UNKNOWN'}],\n",
       "    'timestampMs': '1526643107305'},\n",
       "   {'activity': [{'confidence': 100, 'type': 'STILL'}],\n",
       "    'timestampMs': '1526643167501'}],\n",
       "  'latitudeE7': 558488130,\n",
       "  'longitudeE7': 374864782,\n",
       "  'timestampMs': '1526643127794'},\n",
       " {'accuracy': 24,\n",
       "  'activity': [{'activity': [{'confidence': 100, 'type': 'STILL'}],\n",
       "    'timestampMs': '1526642999229'}],\n",
       "  'altitude': 203,\n",
       "  'latitudeE7': 558488079,\n",
       "  'longitudeE7': 374864350,\n",
       "  'timestampMs': '1526642993000',\n",
       "  'verticalAccuracy': 2},\n",
       " {'accuracy': 24,\n",
       "  'altitude': 203,\n",
       "  'latitudeE7': 558488257,\n",
       "  'longitudeE7': 374864372,\n",
       "  'timestampMs': '1526642826129',\n",
       "  'verticalAccuracy': 2},\n",
       " {'accuracy': 24,\n",
       "  'altitude': 203,\n",
       "  'latitudeE7': 558488257,\n",
       "  'longitudeE7': 374864372,\n",
       "  'timestampMs': '1526642698277',\n",
       "  'verticalAccuracy': 2},\n",
       " {'accuracy': 24,\n",
       "  'altitude': 203,\n",
       "  'latitudeE7': 558488083,\n",
       "  'longitudeE7': 374864343,\n",
       "  'timestampMs': '1526642524891',\n",
       "  'verticalAccuracy': 2},\n",
       " {'accuracy': 24,\n",
       "  'altitude': 203,\n",
       "  'latitudeE7': 558488083,\n",
       "  'longitudeE7': 374864343,\n",
       "  'timestampMs': '1526642391112',\n",
       "  'verticalAccuracy': 2},\n",
       " {'accuracy': 24,\n",
       "  'altitude': 203,\n",
       "  'latitudeE7': 558488083,\n",
       "  'longitudeE7': 374864343,\n",
       "  'timestampMs': '1526642202358',\n",
       "  'verticalAccuracy': 2},\n",
       " {'accuracy': 23,\n",
       "  'altitude': 203,\n",
       "  'latitudeE7': 558488079,\n",
       "  'longitudeE7': 374864351,\n",
       "  'timestampMs': '1526642185889',\n",
       "  'verticalAccuracy': 2},\n",
       " {'accuracy': 23,\n",
       "  'altitude': 203,\n",
       "  'latitudeE7': 558488079,\n",
       "  'longitudeE7': 374864351,\n",
       "  'timestampMs': '1526642053789',\n",
       "  'verticalAccuracy': 2},\n",
       " {'accuracy': 24,\n",
       "  'altitude': 203,\n",
       "  'latitudeE7': 558488080,\n",
       "  'longitudeE7': 374864346,\n",
       "  'timestampMs': '1526641901433',\n",
       "  'verticalAccuracy': 2},\n",
       " {'accuracy': 24,\n",
       "  'activity': [{'activity': [{'confidence': 100, 'type': 'STILL'}],\n",
       "    'timestampMs': '1526641840977'},\n",
       "   {'activity': [{'confidence': 100, 'type': 'STILL'}],\n",
       "    'timestampMs': '1526641901248'}],\n",
       "  'altitude': 203,\n",
       "  'latitudeE7': 558488080,\n",
       "  'longitudeE7': 374864346,\n",
       "  'timestampMs': '1526641901172',\n",
       "  'verticalAccuracy': 2},\n",
       " {'accuracy': 24,\n",
       "  'activity': [{'activity': [{'confidence': 100, 'type': 'STILL'}],\n",
       "    'timestampMs': '1526641719353'},\n",
       "   {'activity': [{'confidence': 100, 'type': 'STILL'}],\n",
       "    'timestampMs': '1526641779601'}],\n",
       "  'altitude': 203,\n",
       "  'latitudeE7': 558488080,\n",
       "  'longitudeE7': 374864346,\n",
       "  'timestampMs': '1526641779545',\n",
       "  'verticalAccuracy': 2},\n",
       " {'accuracy': 24,\n",
       "  'activity': [{'activity': [{'confidence': 100, 'type': 'STILL'}],\n",
       "    'timestampMs': '1526641538591'},\n",
       "   {'activity': [{'confidence': 100, 'type': 'STILL'}],\n",
       "    'timestampMs': '1526641598906'},\n",
       "   {'activity': [{'confidence': 100, 'type': 'STILL'}],\n",
       "    'timestampMs': '1526641659175'}],\n",
       "  'altitude': 203,\n",
       "  'latitudeE7': 558488085,\n",
       "  'longitudeE7': 374864345,\n",
       "  'timestampMs': '1526641598805',\n",
       "  'verticalAccuracy': 2},\n",
       " {'accuracy': 24,\n",
       "  'activity': [{'activity': [{'confidence': 100, 'type': 'STILL'}],\n",
       "    'timestampMs': '1526641419355'}],\n",
       "  'altitude': 203,\n",
       "  'latitudeE7': 558488085,\n",
       "  'longitudeE7': 374864345,\n",
       "  'timestampMs': '1526641478131',\n",
       "  'verticalAccuracy': 2},\n",
       " {'accuracy': 23,\n",
       "  'activity': [{'activity': [{'confidence': 31, 'type': 'STILL'},\n",
       "     {'confidence': 25, 'type': 'UNKNOWN'},\n",
       "     {'confidence': 12, 'type': 'IN_VEHICLE'},\n",
       "     {'confidence': 12, 'type': 'IN_ROAD_VEHICLE'},\n",
       "     {'confidence': 9, 'type': 'ON_FOOT'},\n",
       "     {'confidence': 9, 'type': 'WALKING'},\n",
       "     {'confidence': 9, 'type': 'IN_RAIL_VEHICLE'},\n",
       "     {'confidence': 8, 'type': 'ON_BICYCLE'},\n",
       "     {'confidence': 6, 'type': 'RUNNING'},\n",
       "     {'confidence': 6, 'type': 'UNKNOWN'},\n",
       "     {'confidence': 6, 'type': 'UNKNOWN'}],\n",
       "    'timestampMs': '1526641289968'},\n",
       "   {'activity': [{'confidence': 100, 'type': 'TILTING'}],\n",
       "    'timestampMs': '1526641299183'},\n",
       "   {'activity': [{'confidence': 22, 'type': 'UNKNOWN'},\n",
       "     {'confidence': 21, 'type': 'STILL'},\n",
       "     {'confidence': 19, 'type': 'IN_VEHICLE'},\n",
       "     {'confidence': 19, 'type': 'IN_ROAD_VEHICLE'},\n",
       "     {'confidence': 15, 'type': 'ON_FOOT'},\n",
       "     {'confidence': 15, 'type': 'WALKING'},\n",
       "     {'confidence': 12, 'type': 'IN_RAIL_VEHICLE'},\n",
       "     {'confidence': 9, 'type': 'UNKNOWN'},\n",
       "     {'confidence': 9, 'type': 'UNKNOWN'},\n",
       "     {'confidence': 8, 'type': 'ON_BICYCLE'},\n",
       "     {'confidence': 5, 'type': 'RUNNING'}],\n",
       "    'timestampMs': '1526641308397'},\n",
       "   {'activity': [{'confidence': 100, 'type': 'TILTING'}],\n",
       "    'timestampMs': '1526641329577'},\n",
       "   {'activity': [{'confidence': 31, 'type': 'UNKNOWN'},\n",
       "     {'confidence': 21, 'type': 'STILL'},\n",
       "     {'confidence': 11, 'type': 'IN_VEHICLE'},\n",
       "     {'confidence': 11, 'type': 'ON_FOOT'},\n",
       "     {'confidence': 11, 'type': 'WALKING'},\n",
       "     {'confidence': 11, 'type': 'IN_RAIL_VEHICLE'},\n",
       "     {'confidence': 10, 'type': 'IN_ROAD_VEHICLE'},\n",
       "     {'confidence': 8, 'type': 'ON_BICYCLE'},\n",
       "     {'confidence': 8, 'type': 'RUNNING'},\n",
       "     {'confidence': 5, 'type': 'UNKNOWN'},\n",
       "     {'confidence': 5, 'type': 'UNKNOWN'}],\n",
       "    'timestampMs': '1526641350756'},\n",
       "   {'activity': [{'confidence': 100, 'type': 'TILTING'}],\n",
       "    'timestampMs': '1526641385056'}],\n",
       "  'latitudeE7': 558488044,\n",
       "  'longitudeE7': 374864569,\n",
       "  'timestampMs': '1526641351711'},\n",
       " {'accuracy': 24,\n",
       "  'activity': [{'activity': [{'confidence': 31, 'type': 'UNKNOWN'},\n",
       "     {'confidence': 22, 'type': 'STILL'},\n",
       "     {'confidence': 15, 'type': 'IN_VEHICLE'},\n",
       "     {'confidence': 15, 'type': 'IN_ROAD_VEHICLE'},\n",
       "     {'confidence': 10, 'type': 'IN_RAIL_VEHICLE'},\n",
       "     {'confidence': 8, 'type': 'ON_BICYCLE'},\n",
       "     {'confidence': 8, 'type': 'ON_FOOT'},\n",
       "     {'confidence': 8, 'type': 'WALKING'},\n",
       "     {'confidence': 8, 'type': 'RUNNING'},\n",
       "     {'confidence': 7, 'type': 'UNKNOWN'},\n",
       "     {'confidence': 7, 'type': 'UNKNOWN'}],\n",
       "    'timestampMs': '1526641194467'},\n",
       "   {'activity': [{'confidence': 100, 'type': 'TILTING'}],\n",
       "    'timestampMs': '1526641212110'},\n",
       "   {'activity': [{'confidence': 31, 'type': 'UNKNOWN'},\n",
       "     {'confidence': 17, 'type': 'STILL'},\n",
       "     {'confidence': 13, 'type': 'IN_VEHICLE'},\n",
       "     {'confidence': 13, 'type': 'IN_ROAD_VEHICLE'},\n",
       "     {'confidence': 12, 'type': 'IN_RAIL_VEHICLE'},\n",
       "     {'confidence': 11, 'type': 'ON_FOOT'},\n",
       "     {'confidence': 11, 'type': 'WALKING'},\n",
       "     {'confidence': 10, 'type': 'ON_BICYCLE'},\n",
       "     {'confidence': 8, 'type': 'RUNNING'},\n",
       "     {'confidence': 6, 'type': 'UNKNOWN'},\n",
       "     {'confidence': 6, 'type': 'UNKNOWN'}],\n",
       "    'timestampMs': '1526641229752'}],\n",
       "  'altitude': 203,\n",
       "  'latitudeE7': 558488055,\n",
       "  'longitudeE7': 374864565,\n",
       "  'timestampMs': '1526641230641',\n",
       "  'verticalAccuracy': 2},\n",
       " {'accuracy': 24,\n",
       "  'activity': [{'activity': [{'confidence': 50, 'type': 'STILL'},\n",
       "     {'confidence': 17, 'type': 'UNKNOWN'},\n",
       "     {'confidence': 10, 'type': 'IN_VEHICLE'},\n",
       "     {'confidence': 10, 'type': 'ON_FOOT'},\n",
       "     {'confidence': 10, 'type': 'WALKING'},\n",
       "     {'confidence': 10, 'type': 'IN_RAIL_VEHICLE'},\n",
       "     {'confidence': 5, 'type': 'ON_BICYCLE'},\n",
       "     {'confidence': 5, 'type': 'IN_ROAD_VEHICLE'},\n",
       "     {'confidence': 4, 'type': 'RUNNING'},\n",
       "     {'confidence': 2, 'type': 'UNKNOWN'},\n",
       "     {'confidence': 2, 'type': 'UNKNOWN'}],\n",
       "    'timestampMs': '1526641077361'},\n",
       "   {'activity': [{'confidence': 31, 'type': 'UNKNOWN'},\n",
       "     {'confidence': 18, 'type': 'STILL'},\n",
       "     {'confidence': 15, 'type': 'ON_FOOT'},\n",
       "     {'confidence': 15, 'type': 'WALKING'},\n",
       "     {'confidence': 12, 'type': 'IN_VEHICLE'},\n",
       "     {'confidence': 12, 'type': 'IN_RAIL_VEHICLE'},\n",
       "     {'confidence': 9, 'type': 'ON_BICYCLE'},\n",
       "     {'confidence': 8, 'type': 'RUNNING'},\n",
       "     {'confidence': 8, 'type': 'IN_ROAD_VEHICLE'},\n",
       "     {'confidence': 4, 'type': 'UNKNOWN'},\n",
       "     {'confidence': 4, 'type': 'UNKNOWN'}],\n",
       "    'timestampMs': '1526641136433'},\n",
       "   {'activity': [{'confidence': 100, 'type': 'TILTING'}],\n",
       "    'timestampMs': '1526641165450'}],\n",
       "  'altitude': 203,\n",
       "  'latitudeE7': 558488038,\n",
       "  'longitudeE7': 374864562,\n",
       "  'timestampMs': '1526641109354',\n",
       "  'verticalAccuracy': 2},\n",
       " {'accuracy': 25,\n",
       "  'activity': [{'activity': [{'confidence': 40, 'type': 'UNKNOWN'},\n",
       "     {'confidence': 10, 'type': 'IN_VEHICLE'},\n",
       "     {'confidence': 10, 'type': 'ON_BICYCLE'},\n",
       "     {'confidence': 10, 'type': 'ON_FOOT'},\n",
       "     {'confidence': 10, 'type': 'STILL'},\n",
       "     {'confidence': 10, 'type': 'WALKING'},\n",
       "     {'confidence': 10, 'type': 'RUNNING'},\n",
       "     {'confidence': 10, 'type': 'IN_ROAD_VEHICLE'},\n",
       "     {'confidence': 10, 'type': 'IN_RAIL_VEHICLE'},\n",
       "     {'confidence': 5, 'type': 'UNKNOWN'},\n",
       "     {'confidence': 5, 'type': 'UNKNOWN'}],\n",
       "    'timestampMs': '1526641038162'}],\n",
       "  'altitude': 186,\n",
       "  'latitudeE7': 558487755,\n",
       "  'longitudeE7': 374863532,\n",
       "  'timestampMs': '1526641039415',\n",
       "  'verticalAccuracy': 6},\n",
       " {'accuracy': 24,\n",
       "  'activity': [{'activity': [{'confidence': 45, 'type': 'STILL'},\n",
       "     {'confidence': 23, 'type': 'IN_VEHICLE'},\n",
       "     {'confidence': 23, 'type': 'IN_RAIL_VEHICLE'},\n",
       "     {'confidence': 17, 'type': 'ON_FOOT'},\n",
       "     {'confidence': 17, 'type': 'WALKING'},\n",
       "     {'confidence': 9, 'type': 'IN_ROAD_VEHICLE'},\n",
       "     {'confidence': 4, 'type': 'UNKNOWN'},\n",
       "     {'confidence': 4, 'type': 'UNKNOWN'},\n",
       "     {'confidence': 3, 'type': 'ON_BICYCLE'},\n",
       "     {'confidence': 3, 'type': 'UNKNOWN'}],\n",
       "    'timestampMs': '1526640976847'},\n",
       "   {'activity': [{'confidence': 100, 'type': 'TILTING'}],\n",
       "    'timestampMs': '1526641007505'}],\n",
       "  'altitude': 186,\n",
       "  'latitudeE7': 558488869,\n",
       "  'longitudeE7': 374865396,\n",
       "  'timestampMs': '1526640977848',\n",
       "  'verticalAccuracy': 2},\n",
       " {'accuracy': 28,\n",
       "  'activity': [{'activity': [{'confidence': 77, 'type': 'ON_FOOT'},\n",
       "     {'confidence': 77, 'type': 'WALKING'},\n",
       "     {'confidence': 13, 'type': 'STILL'},\n",
       "     {'confidence': 4, 'type': 'RUNNING'},\n",
       "     {'confidence': 3, 'type': 'UNKNOWN'},\n",
       "     {'confidence': 2, 'type': 'IN_VEHICLE'},\n",
       "     {'confidence': 2, 'type': 'IN_RAIL_VEHICLE'},\n",
       "     {'confidence': 1, 'type': 'ON_BICYCLE'},\n",
       "     {'confidence': 1, 'type': 'IN_ROAD_VEHICLE'},\n",
       "     {'confidence': 1, 'type': 'UNKNOWN'},\n",
       "     {'confidence': 1, 'type': 'UNKNOWN'}],\n",
       "    'timestampMs': '1526640932188'},\n",
       "   {'activity': [{'confidence': 100, 'type': 'TILTING'}],\n",
       "    'timestampMs': '1526640937101'},\n",
       "   {'activity': [{'confidence': 37, 'type': 'ON_FOOT'},\n",
       "     {'confidence': 37, 'type': 'WALKING'},\n",
       "     {'confidence': 28, 'type': 'UNKNOWN'},\n",
       "     {'confidence': 8, 'type': 'STILL'},\n",
       "     {'confidence': 8, 'type': 'RUNNING'},\n",
       "     {'confidence': 7, 'type': 'IN_VEHICLE'},\n",
       "     {'confidence': 7, 'type': 'ON_BICYCLE'},\n",
       "     {'confidence': 7, 'type': 'IN_ROAD_VEHICLE'},\n",
       "     {'confidence': 7, 'type': 'IN_RAIL_VEHICLE'},\n",
       "     {'confidence': 3, 'type': 'UNKNOWN'},\n",
       "     {'confidence': 3, 'type': 'UNKNOWN'}],\n",
       "    'timestampMs': '1526640942013'},\n",
       "   {'activity': [{'confidence': 100, 'type': 'TILTING'}],\n",
       "    'timestampMs': '1526640959430'}],\n",
       "  'altitude': 186,\n",
       "  'latitudeE7': 558489494,\n",
       "  'longitudeE7': 374863764,\n",
       "  'timestampMs': '1526640956977',\n",
       "  'verticalAccuracy': 2},\n",
       " {'accuracy': 40,\n",
       "  'activity': [{'activity': [{'confidence': 99, 'type': 'ON_FOOT'},\n",
       "     {'confidence': 99, 'type': 'WALKING'},\n",
       "     {'confidence': 1, 'type': 'UNKNOWN'}],\n",
       "    'timestampMs': '1526640871609'}],\n",
       "  'altitude': 180,\n",
       "  'latitudeE7': 558497595,\n",
       "  'longitudeE7': 374866430,\n",
       "  'timestampMs': '1526640872652',\n",
       "  'verticalAccuracy': 2},\n",
       " {'accuracy': 500,\n",
       "  'activity': [{'activity': [{'confidence': 40, 'type': 'UNKNOWN'},\n",
       "     {'confidence': 10, 'type': 'IN_VEHICLE'},\n",
       "     {'confidence': 10, 'type': 'ON_BICYCLE'},\n",
       "     {'confidence': 10, 'type': 'ON_FOOT'},\n",
       "     {'confidence': 10, 'type': 'STILL'},\n",
       "     {'confidence': 10, 'type': 'WALKING'},\n",
       "     {'confidence': 10, 'type': 'RUNNING'},\n",
       "     {'confidence': 10, 'type': 'IN_ROAD_VEHICLE'},\n",
       "     {'confidence': 10, 'type': 'IN_RAIL_VEHICLE'},\n",
       "     {'confidence': 5, 'type': 'UNKNOWN'},\n",
       "     {'confidence': 5, 'type': 'UNKNOWN'}],\n",
       "    'timestampMs': '1526640688140'},\n",
       "   {'activity': [{'confidence': 35, 'type': 'STILL'},\n",
       "     {'confidence': 21, 'type': 'UNKNOWN'},\n",
       "     {'confidence': 17, 'type': 'ON_FOOT'},\n",
       "     {'confidence': 17, 'type': 'WALKING'},\n",
       "     {'confidence': 8, 'type': 'IN_VEHICLE'},\n",
       "     {'confidence': 8, 'type': 'ON_BICYCLE'},\n",
       "     {'confidence': 8, 'type': 'IN_RAIL_VEHICLE'},\n",
       "     {'confidence': 6, 'type': 'RUNNING'},\n",
       "     {'confidence': 6, 'type': 'IN_ROAD_VEHICLE'},\n",
       "     {'confidence': 3, 'type': 'UNKNOWN'},\n",
       "     {'confidence': 3, 'type': 'UNKNOWN'}],\n",
       "    'timestampMs': '1526640749959'},\n",
       "   {'activity': [{'confidence': 48, 'type': 'ON_FOOT'},\n",
       "     {'confidence': 48, 'type': 'WALKING'},\n",
       "     {'confidence': 22, 'type': 'UNKNOWN'},\n",
       "     {'confidence': 8, 'type': 'ON_BICYCLE'},\n",
       "     {'confidence': 7, 'type': 'RUNNING'},\n",
       "     {'confidence': 6, 'type': 'STILL'},\n",
       "     {'confidence': 5, 'type': 'IN_VEHICLE'},\n",
       "     {'confidence': 5, 'type': 'IN_ROAD_VEHICLE'},\n",
       "     {'confidence': 5, 'type': 'IN_RAIL_VEHICLE'},\n",
       "     {'confidence': 3, 'type': 'UNKNOWN'},\n",
       "     {'confidence': 3, 'type': 'UNKNOWN'}],\n",
       "    'timestampMs': '1526640810714'}],\n",
       "  'latitudeE7': 558489639,\n",
       "  'longitudeE7': 374884639,\n",
       "  'timestampMs': '1526640813129'},\n",
       " {'accuracy': 24,\n",
       "  'activity': [{'activity': [{'confidence': 31, 'type': 'UNKNOWN'},\n",
       "     {'confidence': 21, 'type': 'STILL'},\n",
       "     {'confidence': 14, 'type': 'ON_FOOT'},\n",
       "     {'confidence': 14, 'type': 'WALKING'},\n",
       "     {'confidence': 10, 'type': 'IN_VEHICLE'},\n",
       "     {'confidence': 10, 'type': 'IN_RAIL_VEHICLE'},\n",
       "     {'confidence': 8, 'type': 'ON_BICYCLE'},\n",
       "     {'confidence': 8, 'type': 'RUNNING'},\n",
       "     {'confidence': 8, 'type': 'IN_ROAD_VEHICLE'},\n",
       "     {'confidence': 4, 'type': 'UNKNOWN'},\n",
       "     {'confidence': 4, 'type': 'UNKNOWN'}],\n",
       "    'timestampMs': '1526640537682'},\n",
       "   {'activity': [{'confidence': 34, 'type': 'STILL'},\n",
       "     {'confidence': 22, 'type': 'ON_FOOT'},\n",
       "     {'confidence': 22, 'type': 'WALKING'},\n",
       "     {'confidence': 21, 'type': 'UNKNOWN'},\n",
       "     {'confidence': 7, 'type': 'ON_BICYCLE'},\n",
       "     {'confidence': 6, 'type': 'IN_VEHICLE'},\n",
       "     {'confidence': 6, 'type': 'RUNNING'},\n",
       "     {'confidence': 6, 'type': 'IN_ROAD_VEHICLE'},\n",
       "     {'confidence': 6, 'type': 'IN_RAIL_VEHICLE'},\n",
       "     {'confidence': 3, 'type': 'UNKNOWN'},\n",
       "     {'confidence': 3, 'type': 'UNKNOWN'}],\n",
       "    'timestampMs': '1526640627904'}],\n",
       "  'altitude': 180,\n",
       "  'latitudeE7': 558500505,\n",
       "  'longitudeE7': 374871945,\n",
       "  'timestampMs': '1526640507392',\n",
       "  'verticalAccuracy': 2},\n",
       " {'accuracy': 25,\n",
       "  'activity': [{'activity': [{'confidence': 62, 'type': 'ON_FOOT'},\n",
       "     {'confidence': 62, 'type': 'WALKING'},\n",
       "     {'confidence': 15, 'type': 'STILL'},\n",
       "     {'confidence': 10, 'type': 'UNKNOWN'},\n",
       "     {'confidence': 4, 'type': 'ON_BICYCLE'},\n",
       "     {'confidence': 4, 'type': 'RUNNING'},\n",
       "     {'confidence': 2, 'type': 'IN_VEHICLE'},\n",
       "     {'confidence': 2, 'type': 'IN_ROAD_VEHICLE'},\n",
       "     {'confidence': 2, 'type': 'IN_RAIL_VEHICLE'},\n",
       "     {'confidence': 1, 'type': 'UNKNOWN'},\n",
       "     {'confidence': 1, 'type': 'UNKNOWN'}],\n",
       "    'timestampMs': '1526640476401'}],\n",
       "  'altitude': 180,\n",
       "  'latitudeE7': 558500558,\n",
       "  'longitudeE7': 374871496,\n",
       "  'timestampMs': '1526640477366',\n",
       "  'verticalAccuracy': 2},\n",
       " {'accuracy': 25,\n",
       "  'latitudeE7': 558500333,\n",
       "  'longitudeE7': 374863243,\n",
       "  'timestampMs': '1526640445592'},\n",
       " {'accuracy': 25,\n",
       "  'activity': [{'activity': [{'confidence': 99, 'type': 'ON_FOOT'},\n",
       "     {'confidence': 99, 'type': 'WALKING'},\n",
       "     {'confidence': 1, 'type': 'UNKNOWN'}],\n",
       "    'timestampMs': '1526640414545'}],\n",
       "  'latitudeE7': 558500230,\n",
       "  'longitudeE7': 374857406,\n",
       "  'timestampMs': '1526640415445'}]"
      ]
     },
     "execution_count": 64,
     "metadata": {},
     "output_type": "execute_result"
    }
   ],
   "source": [
    "data['locations'][:100]"
   ]
  },
  {
   "cell_type": "code",
   "execution_count": 63,
   "metadata": {},
   "outputs": [
    {
     "data": {
      "text/plain": [
       "[{'accuracy': 1172,\n",
       "  'latitudeE7': 556424386,\n",
       "  'longitudeE7': 380118072,\n",
       "  'timestampMs': '1364819347394'},\n",
       " {'accuracy': 1172,\n",
       "  'latitudeE7': 556424386,\n",
       "  'longitudeE7': 380118072,\n",
       "  'timestampMs': '1364819227352'},\n",
       " {'accuracy': 1172,\n",
       "  'latitudeE7': 556424386,\n",
       "  'longitudeE7': 380118072,\n",
       "  'timestampMs': '1364819107315'},\n",
       " {'accuracy': 1172,\n",
       "  'latitudeE7': 556424386,\n",
       "  'longitudeE7': 380118072,\n",
       "  'timestampMs': '1364819047252'},\n",
       " {'accuracy': 1172,\n",
       "  'latitudeE7': 556424386,\n",
       "  'longitudeE7': 380118072,\n",
       "  'timestampMs': '1364818987221'},\n",
       " {'accuracy': 1172,\n",
       "  'latitudeE7': 556424386,\n",
       "  'longitudeE7': 380118072,\n",
       "  'timestampMs': '1364818927191'},\n",
       " {'accuracy': 1172,\n",
       "  'latitudeE7': 556424386,\n",
       "  'longitudeE7': 380118072,\n",
       "  'timestampMs': '1364818807199'},\n",
       " {'accuracy': 1172,\n",
       "  'latitudeE7': 556424386,\n",
       "  'longitudeE7': 380118072,\n",
       "  'timestampMs': '1364818747155'},\n",
       " {'accuracy': 1172,\n",
       "  'latitudeE7': 556424386,\n",
       "  'longitudeE7': 380118072,\n",
       "  'timestampMs': '1364818686959'},\n",
       " {'accuracy': 1172,\n",
       "  'latitudeE7': 556424386,\n",
       "  'longitudeE7': 380118072,\n",
       "  'timestampMs': '1364818566931'},\n",
       " {'accuracy': 1172,\n",
       "  'latitudeE7': 556424386,\n",
       "  'longitudeE7': 380118072,\n",
       "  'timestampMs': '1364818446893'},\n",
       " {'accuracy': 1172,\n",
       "  'latitudeE7': 556424386,\n",
       "  'longitudeE7': 380118072,\n",
       "  'timestampMs': '1364818326788'},\n",
       " {'accuracy': 1172,\n",
       "  'latitudeE7': 556424386,\n",
       "  'longitudeE7': 380118072,\n",
       "  'timestampMs': '1364818206787'},\n",
       " {'accuracy': 1172,\n",
       "  'activity': [{'activity': [{'confidence': 100, 'type': 'STILL'}],\n",
       "    'timestampMs': '1364818165894'}],\n",
       "  'latitudeE7': 556424386,\n",
       "  'longitudeE7': 380118072,\n",
       "  'timestampMs': '1364818146737'},\n",
       " {'accuracy': 1172,\n",
       "  'latitudeE7': 556424386,\n",
       "  'longitudeE7': 380118072,\n",
       "  'timestampMs': '1364818086684'},\n",
       " {'accuracy': 1172,\n",
       "  'activity': [{'activity': [{'confidence': 100, 'type': 'STILL'}],\n",
       "    'timestampMs': '1364817950985'}],\n",
       "  'latitudeE7': 556424386,\n",
       "  'longitudeE7': 380118072,\n",
       "  'timestampMs': '1364817966527'},\n",
       " {'accuracy': 1172,\n",
       "  'latitudeE7': 556424386,\n",
       "  'longitudeE7': 380118072,\n",
       "  'timestampMs': '1364817906295'},\n",
       " {'accuracy': 1172,\n",
       "  'latitudeE7': 556424386,\n",
       "  'longitudeE7': 380118072,\n",
       "  'timestampMs': '1364817786088'},\n",
       " {'accuracy': 1172,\n",
       "  'latitudeE7': 556424386,\n",
       "  'longitudeE7': 380118072,\n",
       "  'timestampMs': '1364817666001'},\n",
       " {'accuracy': 1172,\n",
       "  'latitudeE7': 556424386,\n",
       "  'longitudeE7': 380118072,\n",
       "  'timestampMs': '1364817605947'},\n",
       " {'accuracy': 1172,\n",
       "  'latitudeE7': 556424386,\n",
       "  'longitudeE7': 380118072,\n",
       "  'timestampMs': '1364817545910'},\n",
       " {'accuracy': 1172,\n",
       "  'latitudeE7': 556424386,\n",
       "  'longitudeE7': 380118072,\n",
       "  'timestampMs': '1364817485892'},\n",
       " {'accuracy': 1172,\n",
       "  'latitudeE7': 556424386,\n",
       "  'longitudeE7': 380118072,\n",
       "  'timestampMs': '1364817425876'},\n",
       " {'accuracy': 1172,\n",
       "  'latitudeE7': 556424386,\n",
       "  'longitudeE7': 380118072,\n",
       "  'timestampMs': '1364817305830'},\n",
       " {'accuracy': 1172,\n",
       "  'latitudeE7': 556424386,\n",
       "  'longitudeE7': 380118072,\n",
       "  'timestampMs': '1364817245790'},\n",
       " {'accuracy': 1172,\n",
       "  'activity': [{'activity': [{'confidence': 100, 'type': 'STILL'}],\n",
       "    'timestampMs': '1364817156541'}],\n",
       "  'latitudeE7': 556424386,\n",
       "  'longitudeE7': 380118072,\n",
       "  'timestampMs': '1364817185739'},\n",
       " {'accuracy': 1172,\n",
       "  'latitudeE7': 556424386,\n",
       "  'longitudeE7': 380118072,\n",
       "  'timestampMs': '1364817125727'},\n",
       " {'accuracy': 1172,\n",
       "  'latitudeE7': 556424386,\n",
       "  'longitudeE7': 380118072,\n",
       "  'timestampMs': '1364817064706'},\n",
       " {'accuracy': 1172,\n",
       "  'latitudeE7': 556424386,\n",
       "  'longitudeE7': 380118072,\n",
       "  'timestampMs': '1364817004679'},\n",
       " {'accuracy': 1172,\n",
       "  'latitudeE7': 556424386,\n",
       "  'longitudeE7': 380118072,\n",
       "  'timestampMs': '1364816944607'},\n",
       " {'accuracy': 1172,\n",
       "  'latitudeE7': 556424386,\n",
       "  'longitudeE7': 380118072,\n",
       "  'timestampMs': '1364816824504'},\n",
       " {'accuracy': 1172,\n",
       "  'activity': [{'activity': [{'confidence': 100, 'type': 'STILL'}],\n",
       "    'timestampMs': '1364816786088'}],\n",
       "  'latitudeE7': 556424386,\n",
       "  'longitudeE7': 380118072,\n",
       "  'timestampMs': '1364816754674'},\n",
       " {'accuracy': 1172,\n",
       "  'activity': [{'activity': [{'confidence': 100, 'type': 'ON_FOOT'}],\n",
       "    'timestampMs': '1364816666078'}],\n",
       "  'latitudeE7': 556424386,\n",
       "  'longitudeE7': 380118072,\n",
       "  'timestampMs': '1364816694653'},\n",
       " {'accuracy': 1172,\n",
       "  'latitudeE7': 556424386,\n",
       "  'longitudeE7': 380118072,\n",
       "  'timestampMs': '1364816634646'},\n",
       " {'accuracy': 1172,\n",
       "  'latitudeE7': 556424386,\n",
       "  'longitudeE7': 380118072,\n",
       "  'timestampMs': '1364816573898'},\n",
       " {'accuracy': 1167,\n",
       "  'activity': [{'activity': [{'confidence': 100, 'type': 'IN_VEHICLE'}],\n",
       "    'timestampMs': '1364816467906'}],\n",
       "  'latitudeE7': 556421674,\n",
       "  'longitudeE7': 380156364,\n",
       "  'timestampMs': '1364816393779'},\n",
       " {'accuracy': 1172,\n",
       "  'activity': [{'activity': [{'confidence': 100, 'type': 'IN_VEHICLE'}],\n",
       "    'timestampMs': '1364816287598'}],\n",
       "  'latitudeE7': 556424386,\n",
       "  'longitudeE7': 380118072,\n",
       "  'timestampMs': '1364816213760'},\n",
       " {'accuracy': 1172,\n",
       "  'activity': [{'activity': [{'confidence': 100, 'type': 'ON_FOOT'}],\n",
       "    'timestampMs': '1364816043394'}],\n",
       "  'latitudeE7': 556424386,\n",
       "  'longitudeE7': 380118072,\n",
       "  'timestampMs': '1364816093726'},\n",
       " {'accuracy': 1245,\n",
       "  'latitudeE7': 556420507,\n",
       "  'longitudeE7': 380193505,\n",
       "  'timestampMs': '1364815973693'},\n",
       " {'accuracy': 1173,\n",
       "  'latitudeE7': 556424387,\n",
       "  'longitudeE7': 380118030,\n",
       "  'timestampMs': '1364815913639'},\n",
       " {'accuracy': 24,\n",
       "  'activity': [{'activity': [{'confidence': 100, 'type': 'ON_FOOT'}],\n",
       "    'timestampMs': '1364815863078'}],\n",
       "  'latitudeE7': 556418909,\n",
       "  'longitudeE7': 380170844,\n",
       "  'timestampMs': '1364815853628'},\n",
       " {'accuracy': 1245,\n",
       "  'latitudeE7': 556420507,\n",
       "  'longitudeE7': 380193505,\n",
       "  'timestampMs': '1364815793353'},\n",
       " {'accuracy': 1245,\n",
       "  'latitudeE7': 556420507,\n",
       "  'longitudeE7': 380193505,\n",
       "  'timestampMs': '1364815733048'},\n",
       " {'accuracy': 1172,\n",
       "  'activity': [{'activity': [{'confidence': 100, 'type': 'ON_FOOT'}],\n",
       "    'timestampMs': '1364815620144'}],\n",
       "  'latitudeE7': 556424386,\n",
       "  'longitudeE7': 380118072,\n",
       "  'timestampMs': '1364815612977'},\n",
       " {'accuracy': 1172,\n",
       "  'activity': [{'activity': [{'confidence': 100, 'type': 'ON_BICYCLE'}],\n",
       "    'timestampMs': '1364815422102'}],\n",
       "  'latitudeE7': 556424386,\n",
       "  'longitudeE7': 380118072,\n",
       "  'timestampMs': '1364815492974'},\n",
       " {'accuracy': 1172,\n",
       "  'latitudeE7': 556431607,\n",
       "  'longitudeE7': 380153839,\n",
       "  'timestampMs': '1364815313445'},\n",
       " {'accuracy': 1211,\n",
       "  'latitudeE7': 556443063,\n",
       "  'longitudeE7': 380185734,\n",
       "  'timestampMs': '1364815252690'},\n",
       " {'accuracy': 1211,\n",
       "  'latitudeE7': 556443063,\n",
       "  'longitudeE7': 380185734,\n",
       "  'timestampMs': '1364815192661'},\n",
       " {'accuracy': 1211,\n",
       "  'activity': [{'activity': [{'confidence': 100, 'type': 'ON_FOOT'}],\n",
       "    'timestampMs': '1364815136466'}],\n",
       "  'latitudeE7': 556443063,\n",
       "  'longitudeE7': 380185734,\n",
       "  'timestampMs': '1364815132645'},\n",
       " {'accuracy': 1211,\n",
       "  'latitudeE7': 556443063,\n",
       "  'longitudeE7': 380185734,\n",
       "  'timestampMs': '1364815072626'},\n",
       " {'accuracy': 1211,\n",
       "  'latitudeE7': 556443063,\n",
       "  'longitudeE7': 380185734,\n",
       "  'timestampMs': '1364815012594'},\n",
       " {'accuracy': 1211,\n",
       "  'activity': [{'activity': [{'confidence': 100, 'type': 'ON_FOOT'}],\n",
       "    'timestampMs': '1364814956201'}],\n",
       "  'latitudeE7': 556443063,\n",
       "  'longitudeE7': 380185734,\n",
       "  'timestampMs': '1364814952535'},\n",
       " {'accuracy': 1211,\n",
       "  'latitudeE7': 556443063,\n",
       "  'longitudeE7': 380185734,\n",
       "  'timestampMs': '1364814892505'},\n",
       " {'accuracy': 1211,\n",
       "  'latitudeE7': 556443063,\n",
       "  'longitudeE7': 380185734,\n",
       "  'timestampMs': '1364814832018'},\n",
       " {'accuracy': 1211,\n",
       "  'activity': [{'activity': [{'confidence': 100, 'type': 'ON_FOOT'}],\n",
       "    'timestampMs': '1364814775650'}],\n",
       "  'latitudeE7': 556443063,\n",
       "  'longitudeE7': 380185734,\n",
       "  'timestampMs': '1364814771864'},\n",
       " {'accuracy': 1211,\n",
       "  'latitudeE7': 556443063,\n",
       "  'longitudeE7': 380185734,\n",
       "  'timestampMs': '1364814711859'},\n",
       " {'accuracy': 1211,\n",
       "  'latitudeE7': 556443063,\n",
       "  'longitudeE7': 380185734,\n",
       "  'timestampMs': '1364814651807'},\n",
       " {'accuracy': 1211,\n",
       "  'activity': [{'activity': [{'confidence': 100, 'type': 'ON_FOOT'}],\n",
       "    'timestampMs': '1364814561447'}],\n",
       "  'latitudeE7': 556437824,\n",
       "  'longitudeE7': 380185054,\n",
       "  'timestampMs': '1364814533342'},\n",
       " {'accuracy': 1267,\n",
       "  'latitudeE7': 556431580,\n",
       "  'longitudeE7': 380179822,\n",
       "  'timestampMs': '1364814472791'},\n",
       " {'accuracy': 1245,\n",
       "  'activity': [{'activity': [{'confidence': 100, 'type': 'ON_FOOT'}],\n",
       "    'timestampMs': '1364814381234'}],\n",
       "  'latitudeE7': 556420507,\n",
       "  'longitudeE7': 380193505,\n",
       "  'timestampMs': '1364814293115'},\n",
       " {'accuracy': 1142,\n",
       "  'latitudeE7': 556472949,\n",
       "  'longitudeE7': 379935736,\n",
       "  'timestampMs': '1364814231260'},\n",
       " {'accuracy': 1258,\n",
       "  'latitudeE7': 556593480,\n",
       "  'longitudeE7': 379783657,\n",
       "  'timestampMs': '1364814115147'},\n",
       " {'accuracy': 827,\n",
       "  'latitudeE7': 556575101,\n",
       "  'longitudeE7': 379488597,\n",
       "  'timestampMs': '1364813992159'},\n",
       " {'accuracy': 827,\n",
       "  'latitudeE7': 556611632,\n",
       "  'longitudeE7': 379350684,\n",
       "  'timestampMs': '1364813930946'},\n",
       " {'accuracy': 827,\n",
       "  'latitudeE7': 556611632,\n",
       "  'longitudeE7': 379350684,\n",
       "  'timestampMs': '1364813869924'},\n",
       " {'accuracy': 661,\n",
       "  'latitudeE7': 556737754,\n",
       "  'longitudeE7': 379223980,\n",
       "  'timestampMs': '1364813809936'},\n",
       " {'accuracy': 670,\n",
       "  'latitudeE7': 556706786,\n",
       "  'longitudeE7': 379151546,\n",
       "  'timestampMs': '1364813749819'},\n",
       " {'accuracy': 715,\n",
       "  'latitudeE7': 556803161,\n",
       "  'longitudeE7': 378995300,\n",
       "  'timestampMs': '1364813687202'},\n",
       " {'accuracy': 942,\n",
       "  'latitudeE7': 557040580,\n",
       "  'longitudeE7': 378610107,\n",
       "  'timestampMs': '1364813444735'},\n",
       " {'accuracy': 942,\n",
       "  'latitudeE7': 557040580,\n",
       "  'longitudeE7': 378610107,\n",
       "  'timestampMs': '1364813380461'},\n",
       " {'accuracy': 770,\n",
       "  'latitudeE7': 557069693,\n",
       "  'longitudeE7': 378432198,\n",
       "  'timestampMs': '1364813258420'},\n",
       " {'accuracy': 913,\n",
       "  'latitudeE7': 557123967,\n",
       "  'longitudeE7': 378354512,\n",
       "  'timestampMs': '1364813140517'},\n",
       " {'accuracy': 716,\n",
       "  'latitudeE7': 557163891,\n",
       "  'longitudeE7': 378211576,\n",
       "  'timestampMs': '1364813080295'},\n",
       " {'accuracy': 865,\n",
       "  'latitudeE7': 557156824,\n",
       "  'longitudeE7': 378211717,\n",
       "  'timestampMs': '1364813019111'},\n",
       " {'accuracy': 562,\n",
       "  'latitudeE7': 557203625,\n",
       "  'longitudeE7': 378025806,\n",
       "  'timestampMs': '1364812958222'},\n",
       " {'accuracy': 554,\n",
       "  'latitudeE7': 557230474,\n",
       "  'longitudeE7': 377939543,\n",
       "  'timestampMs': '1364812838996'},\n",
       " {'accuracy': 1247,\n",
       "  'latitudeE7': 557231894,\n",
       "  'longitudeE7': 377941724,\n",
       "  'timestampMs': '1364812718902'},\n",
       " {'accuracy': 662,\n",
       "  'latitudeE7': 557388536,\n",
       "  'longitudeE7': 377700063,\n",
       "  'timestampMs': '1364812598373'},\n",
       " {'accuracy': 620,\n",
       "  'activity': [{'activity': [{'confidence': 100, 'type': 'STILL'}],\n",
       "    'timestampMs': '1364812410884'}],\n",
       "  'latitudeE7': 557401484,\n",
       "  'longitudeE7': 377445923,\n",
       "  'timestampMs': '1364812528826'},\n",
       " {'accuracy': 567,\n",
       "  'latitudeE7': 557513070,\n",
       "  'longitudeE7': 377262445,\n",
       "  'timestampMs': '1364812291851'},\n",
       " {'accuracy': 720,\n",
       "  'latitudeE7': 557512792,\n",
       "  'longitudeE7': 377261711,\n",
       "  'timestampMs': '1364812229198'},\n",
       " {'accuracy': 798,\n",
       "  'latitudeE7': 557608951,\n",
       "  'longitudeE7': 377117632,\n",
       "  'timestampMs': '1364812110287'},\n",
       " {'accuracy': 615,\n",
       "  'activity': [{'activity': [{'confidence': 100, 'type': 'STILL'}],\n",
       "    'timestampMs': '1364811934398'}],\n",
       "  'latitudeE7': 557822009,\n",
       "  'longitudeE7': 376984225,\n",
       "  'timestampMs': '1364811870082'},\n",
       " {'accuracy': 509,\n",
       "  'latitudeE7': 557758682,\n",
       "  'longitudeE7': 376691700,\n",
       "  'timestampMs': '1364811750194'},\n",
       " {'accuracy': 579,\n",
       "  'activity': [{'activity': [{'confidence': 100, 'type': 'STILL'}],\n",
       "    'timestampMs': '1364811712091'}],\n",
       "  'latitudeE7': 557724234,\n",
       "  'longitudeE7': 376620106,\n",
       "  'timestampMs': '1364811688160'},\n",
       " {'accuracy': 744,\n",
       "  'latitudeE7': 557738420,\n",
       "  'longitudeE7': 376600978,\n",
       "  'timestampMs': '1364811578819'},\n",
       " {'accuracy': 500,\n",
       "  'activity': [{'activity': [{'confidence': 100, 'type': 'STILL'}],\n",
       "    'timestampMs': '1364811531832'}],\n",
       "  'latitudeE7': 557727514,\n",
       "  'longitudeE7': 376614279,\n",
       "  'timestampMs': '1364811508098'},\n",
       " {'accuracy': 500,\n",
       "  'latitudeE7': 557727514,\n",
       "  'longitudeE7': 376614279,\n",
       "  'timestampMs': '1364811388852'},\n",
       " {'accuracy': 688,\n",
       "  'activity': [{'activity': [{'confidence': 100, 'type': 'ON_FOOT'}],\n",
       "    'timestampMs': '1364811333788'}],\n",
       "  'latitudeE7': 557730006,\n",
       "  'longitudeE7': 376570059,\n",
       "  'timestampMs': '1364811328024'},\n",
       " {'accuracy': 678,\n",
       "  'latitudeE7': 557729132,\n",
       "  'longitudeE7': 376569902,\n",
       "  'timestampMs': '1364811268000'},\n",
       " {'accuracy': 678,\n",
       "  'activity': [{'activity': [{'confidence': 100, 'type': 'ON_FOOT'}],\n",
       "    'timestampMs': '1364811153436'}],\n",
       "  'latitudeE7': 557729132,\n",
       "  'longitudeE7': 376569902,\n",
       "  'timestampMs': '1364811152251'},\n",
       " {'accuracy': 77,\n",
       "  'latitudeE7': 557726387,\n",
       "  'longitudeE7': 376582926,\n",
       "  'timestampMs': '1364811088836'},\n",
       " {'accuracy': 678,\n",
       "  'activity': [{'activity': [{'confidence': 100, 'type': 'ON_FOOT'}],\n",
       "    'timestampMs': '1364810980942'}],\n",
       "  'latitudeE7': 557729132,\n",
       "  'longitudeE7': 376569902,\n",
       "  'timestampMs': '1364810970613'},\n",
       " {'accuracy': 1061,\n",
       "  'latitudeE7': 557746708,\n",
       "  'longitudeE7': 376520012,\n",
       "  'timestampMs': '1364810907817'},\n",
       " {'accuracy': 1061,\n",
       "  'activity': [{'activity': [{'confidence': 100, 'type': 'ON_FOOT'}],\n",
       "    'timestampMs': '1364810800590'}],\n",
       "  'latitudeE7': 557746708,\n",
       "  'longitudeE7': 376520012,\n",
       "  'timestampMs': '1364810727698'},\n",
       " {'accuracy': 500,\n",
       "  'activity': [{'activity': [{'confidence': 100, 'type': 'ON_FOOT'}],\n",
       "    'timestampMs': '1364810620110'}],\n",
       "  'latitudeE7': 558143119,\n",
       "  'longitudeE7': 376293991,\n",
       "  'timestampMs': '1364810613576'},\n",
       " {'accuracy': 616,\n",
       "  'activity': [{'activity': [{'confidence': 100, 'type': 'STILL'}],\n",
       "    'timestampMs': '1364810521119'}],\n",
       "  'latitudeE7': 557748071,\n",
       "  'longitudeE7': 376522762,\n",
       "  'timestampMs': '1364810542556'},\n",
       " {'accuracy': 777,\n",
       "  'latitudeE7': 557719613,\n",
       "  'longitudeE7': 376558166,\n",
       "  'timestampMs': '1364810473086'},\n",
       " {'accuracy': 30,\n",
       "  'latitudeE7': 555811178,\n",
       "  'longitudeE7': 376716580,\n",
       "  'timestampMs': '946684936501'},\n",
       " {'accuracy': 37,\n",
       "  'latitudeE7': 555810596,\n",
       "  'longitudeE7': 376714840,\n",
       "  'timestampMs': '946684863900'}]"
      ]
     },
     "execution_count": 63,
     "metadata": {},
     "output_type": "execute_result"
    }
   ],
   "source": [
    "data['locations'][-100:]"
   ]
  },
  {
   "cell_type": "code",
   "execution_count": 67,
   "metadata": {},
   "outputs": [
    {
     "ename": "TypeError",
     "evalue": "descriptor 'time' requires a 'datetime.datetime' object but received a 'int'",
     "traceback": [
      "\u001b[0;31m---------------------------------------------------------------------------\u001b[0m",
      "\u001b[0;31mTypeError\u001b[0m                                 Traceback (most recent call last)",
      "\u001b[0;32m<ipython-input-67-227d3632147a>\u001b[0m in \u001b[0;36m<module>\u001b[0;34m()\u001b[0m\n\u001b[0;32m----> 1\u001b[0;31m \u001b[0mdatetime\u001b[0m\u001b[0;34m.\u001b[0m\u001b[0mdatetime\u001b[0m\u001b[0;34m.\u001b[0m\u001b[0mtime\u001b[0m\u001b[0;34m(\u001b[0m\u001b[0ms\u001b[0m\u001b[0;34m)\u001b[0m\u001b[0;34m\u001b[0m\u001b[0m\n\u001b[0m",
      "\u001b[0;31mTypeError\u001b[0m: descriptor 'time' requires a 'datetime.datetime' object but received a 'int'"
     ],
     "output_type": "error"
    }
   ],
   "source": [
    "datetime.datetime.time(s)"
   ]
  },
  {
   "cell_type": "code",
   "execution_count": 37,
   "metadata": {},
   "outputs": [
    {
     "data": {
      "text/plain": [
       "779194"
      ]
     },
     "execution_count": 37,
     "metadata": {},
     "output_type": "execute_result"
    }
   ],
   "source": [
    "len(data['locations'])"
   ]
  },
  {
   "cell_type": "code",
   "execution_count": 40,
   "metadata": {},
   "outputs": [
    {
     "data": {
      "text/plain": [
       "dict_keys(['timestampMs', 'accuracy', 'activity', 'latitudeE7', 'longitudeE7'])"
      ]
     },
     "execution_count": 40,
     "metadata": {},
     "output_type": "execute_result"
    }
   ],
   "source": [
    "data['locations'][1].keys()"
   ]
  },
  {
   "cell_type": "code",
   "execution_count": null,
   "metadata": {
    "collapsed": true
   },
   "outputs": [],
   "source": []
  },
  {
   "cell_type": "markdown",
   "metadata": {},
   "source": [
    "# Google fit"
   ]
  }
 ],
 "metadata": {
  "kernelspec": {
   "display_name": "Python [conda env:anaconda3]",
   "language": "python",
   "name": "conda-env-anaconda3-py"
  },
  "language_info": {
   "codemirror_mode": {
    "name": "ipython",
    "version": 3
   },
   "file_extension": ".py",
   "mimetype": "text/x-python",
   "name": "python",
   "nbconvert_exporter": "python",
   "pygments_lexer": "ipython3",
   "version": "3.5.3"
  }
 },
 "nbformat": 4,
 "nbformat_minor": 2
}
