{
 "cells": [
  {
   "cell_type": "code",
   "execution_count": 2,
   "metadata": {
    "collapsed": true
   },
   "outputs": [],
   "source": [
    "import os, re\n",
    "from bs4 import BeautifulSoup\n",
    "import json\n",
    "\n",
    "def find_archive(name):\n",
    "    read_data = []\n",
    "    for file in os.listdir(name):\n",
    "        if file[-4:] == 'html':\n",
    "            print(file)\n",
    "            with open('Keep/' + file, 'r') as f:\n",
    "                read_data.append(f.read())\n",
    "            f.closed\n",
    "    return read_data\n",
    "#find_archive('Keep')"
   ]
  },
  {
   "cell_type": "code",
   "execution_count": 3,
   "metadata": {
    "collapsed": true
   },
   "outputs": [],
   "source": [
    "def add_to_log(source, id, date, body):\n",
    "    log = ({\"source\":source, \"user_id\":str(id), \"date\":date, \n",
    "            \"body\":body})\n",
    "    return log\n",
    "    #write_log(file='Log_raw/Log_raw.txt', log=log)"
   ]
  },
  {
   "cell_type": "code",
   "execution_count": 4,
   "metadata": {
    "collapsed": true
   },
   "outputs": [],
   "source": [
    "import time\n",
    "import datetime\n",
    "DATES = {'января':1, 'февраля':2,'марта':3,'апреля':4,'мая':5,'июня':6,\n",
    " 'июля':7,'августа':8,'сентября':9,'октября':10,'ноября':11,'декабря':12}\n",
    "\n",
    "\n",
    "#def find_time_at_keep(data):\n",
    "#    soup = BeautifulSoup(data, 'html.parser')\n",
    "    \n",
    "#    date = re.findall(string=str(soup.div), pattern='\\d.*\\d+:\\d+:\\d+')\n",
    "#    date = date[0].split()\n",
    "#    date = (str(date[0]) + '/' + str(DATES[date[1]]) +  '/' + str(date[2]) +\n",
    "#             '/' + str(date[4])\n",
    "#           )\n",
    "#    dtime = time.mktime(datetime.datetime.strptime(date, \"%d/%m/%Y/%H:%M:%S\").timetuple())\n",
    "#    return dtime\n",
    "\n",
    "def keep_date_normalize(lines_with_date):\n",
    "    date = re.findall(string=str(lines_with_date), pattern='\\d.*\\d+:\\d+:\\d+')\n",
    "    if len(date) == 0:\n",
    "        return None\n",
    "    date = date[0].split()\n",
    "    date = (str(date[0]) + '/' + str(DATES[date[1]]) +  '/' + str(date[2]) +\n",
    "             '/' + str(date[4])\n",
    "           )\n",
    "    dtime = time.mktime(datetime.datetime.strptime(date, \"%d/%m/%Y/%H:%M:%S\").timetuple())\n",
    "    return dtime\n",
    "    \n",
    "\n",
    "\n",
    "\n",
    "#get back to readable\n",
    "#datetime.datetime.fromtimestamp(dtime).strftime('%Y-%m-%d %H:%M:%S')\n",
    "#find_time_at_keep(read_data[-1])"
   ]
  },
  {
   "cell_type": "code",
   "execution_count": 6,
   "metadata": {},
   "outputs": [],
   "source": [
    "def log_from_keep(data_html):\n",
    "    log = []\n",
    "    for data in data_html:\n",
    "        soup = BeautifulSoup(data, 'html.parser')\n",
    "        date = keep_date_normalize(soup.title)\n",
    "        if not date:\n",
    "            date = keep_date_normalize(soup.div)\n",
    "        body = soup.find_all(attrs={\"class\": \"content\"})\n",
    "        body = body[0]\n",
    "        log.append(add_to_log(source='Gkeep_arc', id='my', date=date, \n",
    "                              body=body.contents)\n",
    "                  )\n",
    "    return log\n",
    "#print(str(log_from_keep(read_data)))"
   ]
  },
  {
   "cell_type": "code",
   "execution_count": 74,
   "metadata": {
    "collapsed": true
   },
   "outputs": [],
   "source": [
    "def get_all_message(file='Log_raw/Gkeep_arc.txt'):\n",
    "    with open(file, 'r') as dt:\n",
    "        all_mes = dt.read()\n",
    "        dt.close()\n",
    "        return all_mes\n",
    "# text = get_last_message()"
   ]
  },
  {
   "cell_type": "code",
   "execution_count": 7,
   "metadata": {
    "collapsed": true
   },
   "outputs": [],
   "source": [
    "def get_last_date(file='Log_raw/Gkeep_arc.txt'):\n",
    "    try:\n",
    "        last_line = (get_all_message(file=file).split('\\n')[-2])\n",
    "        return json.loads(last_line)['date']\n",
    "    except IndexError:\n",
    "        return 0"
   ]
  },
  {
   "cell_type": "code",
   "execution_count": 8,
   "metadata": {
    "collapsed": true
   },
   "outputs": [],
   "source": [
    "\n",
    "def write_log_new(file='Log_raw/Gkeep_arc.txt', logs=None, new_t=0):\n",
    "    with open(file, 'a') as dt:\n",
    "        for log in logs:\n",
    "            if log['date'] > new_t:\n",
    "                dt.write(json.dumps(log, sort_keys=True) + '\\n')\n",
    "        dt.close()\n"
   ]
  },
  {
   "cell_type": "markdown",
   "metadata": {},
   "source": [
    "# Final function Keep"
   ]
  },
  {
   "cell_type": "code",
   "execution_count": 9,
   "metadata": {},
   "outputs": [
    {
     "name": "stdout",
     "output_type": "stream",
     "text": [
      "2018-05-18T13_43_48.204Z.html\n",
      "2018-05-17T18_00_02.859Z.html\n",
      "2018-05-17T18_18_26.208Z.html\n",
      "2018-05-17T18_00_04.193Z.html\n",
      "2018-05-17T17_12_35.293Z.html\n",
      "2018-05-18T05_28_36.491Z.html\n",
      "2018-05-17T18_17_37.327Z.html\n",
      "Project.html\n"
     ]
    },
    {
     "ename": "NameError",
     "evalue": "name 'get_all_message' is not defined",
     "output_type": "error",
     "traceback": [
      "\u001b[0;31m---------------------------------------------------------------------------\u001b[0m",
      "\u001b[0;31mNameError\u001b[0m                                 Traceback (most recent call last)",
      "\u001b[0;32m<ipython-input-9-88056c2c563b>\u001b[0m in \u001b[0;36m<module>\u001b[0;34m()\u001b[0m\n\u001b[1;32m      1\u001b[0m \u001b[0mlog\u001b[0m \u001b[0;34m=\u001b[0m \u001b[0mlog_from_keep\u001b[0m\u001b[0;34m(\u001b[0m\u001b[0mfind_archive\u001b[0m\u001b[0;34m(\u001b[0m\u001b[0;34m'Keep'\u001b[0m\u001b[0;34m)\u001b[0m\u001b[0;34m)\u001b[0m\u001b[0;34m\u001b[0m\u001b[0m\n\u001b[0;32m----> 2\u001b[0;31m \u001b[0mwrite_log_new\u001b[0m\u001b[0;34m(\u001b[0m\u001b[0mfile\u001b[0m\u001b[0;34m=\u001b[0m\u001b[0;34m'Log_raw/Gkeep_arc.txt'\u001b[0m\u001b[0;34m,\u001b[0m \u001b[0mlogs\u001b[0m\u001b[0;34m=\u001b[0m\u001b[0mlog\u001b[0m\u001b[0;34m,\u001b[0m \u001b[0mnew_t\u001b[0m\u001b[0;34m=\u001b[0m\u001b[0mget_last_date\u001b[0m\u001b[0;34m(\u001b[0m\u001b[0;34m'Log_raw/Gkeep_arc.txt'\u001b[0m\u001b[0;34m)\u001b[0m\u001b[0;34m)\u001b[0m\u001b[0;34m\u001b[0m\u001b[0m\n\u001b[0m",
      "\u001b[0;32m<ipython-input-7-ab9fbb52b1f0>\u001b[0m in \u001b[0;36mget_last_date\u001b[0;34m(file)\u001b[0m\n\u001b[1;32m      1\u001b[0m \u001b[0;32mdef\u001b[0m \u001b[0mget_last_date\u001b[0m\u001b[0;34m(\u001b[0m\u001b[0mfile\u001b[0m\u001b[0;34m=\u001b[0m\u001b[0;34m'Log_raw/Gkeep_arc.txt'\u001b[0m\u001b[0;34m)\u001b[0m\u001b[0;34m:\u001b[0m\u001b[0;34m\u001b[0m\u001b[0m\n\u001b[1;32m      2\u001b[0m     \u001b[0;32mtry\u001b[0m\u001b[0;34m:\u001b[0m\u001b[0;34m\u001b[0m\u001b[0m\n\u001b[0;32m----> 3\u001b[0;31m         \u001b[0mlast_line\u001b[0m \u001b[0;34m=\u001b[0m \u001b[0;34m(\u001b[0m\u001b[0mget_all_message\u001b[0m\u001b[0;34m(\u001b[0m\u001b[0mfile\u001b[0m\u001b[0;34m=\u001b[0m\u001b[0mfile\u001b[0m\u001b[0;34m)\u001b[0m\u001b[0;34m.\u001b[0m\u001b[0msplit\u001b[0m\u001b[0;34m(\u001b[0m\u001b[0;34m'\\n'\u001b[0m\u001b[0;34m)\u001b[0m\u001b[0;34m[\u001b[0m\u001b[0;34m-\u001b[0m\u001b[0;36m2\u001b[0m\u001b[0;34m]\u001b[0m\u001b[0;34m)\u001b[0m\u001b[0;34m\u001b[0m\u001b[0m\n\u001b[0m\u001b[1;32m      4\u001b[0m         \u001b[0;32mreturn\u001b[0m \u001b[0mjson\u001b[0m\u001b[0;34m.\u001b[0m\u001b[0mloads\u001b[0m\u001b[0;34m(\u001b[0m\u001b[0mlast_line\u001b[0m\u001b[0;34m)\u001b[0m\u001b[0;34m[\u001b[0m\u001b[0;34m'date'\u001b[0m\u001b[0;34m]\u001b[0m\u001b[0;34m\u001b[0m\u001b[0m\n\u001b[1;32m      5\u001b[0m     \u001b[0;32mexcept\u001b[0m \u001b[0mIndexError\u001b[0m\u001b[0;34m:\u001b[0m\u001b[0;34m\u001b[0m\u001b[0m\n",
      "\u001b[0;31mNameError\u001b[0m: name 'get_all_message' is not defined"
     ]
    }
   ],
   "source": [
    "log = log_from_keep(find_archive('Keep'))\n",
    "write_log_new(file='Log_raw/Gkeep_arc.txt', logs=log, new_t=get_last_date('Log_raw/Gkeep_arc.txt'))"
   ]
  },
  {
   "cell_type": "code",
   "execution_count": 10,
   "metadata": {},
   "outputs": [
    {
     "ename": "NameError",
     "evalue": "name 'read_data' is not defined",
     "output_type": "error",
     "traceback": [
      "\u001b[0;31m---------------------------------------------------------------------------\u001b[0m",
      "\u001b[0;31mNameError\u001b[0m                                 Traceback (most recent call last)",
      "\u001b[0;32m<ipython-input-10-0017c81fc004>\u001b[0m in \u001b[0;36m<module>\u001b[0;34m()\u001b[0m\n\u001b[0;32m----> 1\u001b[0;31m \u001b[0mread_data\u001b[0m\u001b[0;34m[\u001b[0m\u001b[0;36m0\u001b[0m\u001b[0;34m]\u001b[0m\u001b[0;34m\u001b[0m\u001b[0m\n\u001b[0m\u001b[1;32m      2\u001b[0m \u001b[0;32mfor\u001b[0m \u001b[0mdata\u001b[0m \u001b[0;32min\u001b[0m \u001b[0mread_data\u001b[0m\u001b[0;34m:\u001b[0m\u001b[0;34m\u001b[0m\u001b[0m\n\u001b[1;32m      3\u001b[0m     \u001b[0msoup\u001b[0m \u001b[0;34m=\u001b[0m \u001b[0mBeautifulSoup\u001b[0m\u001b[0;34m(\u001b[0m\u001b[0mdata\u001b[0m\u001b[0;34m,\u001b[0m \u001b[0;34m'html.parser'\u001b[0m\u001b[0;34m)\u001b[0m\u001b[0;34m\u001b[0m\u001b[0m\n\u001b[1;32m      4\u001b[0m     \u001b[0mdate\u001b[0m \u001b[0;34m=\u001b[0m \u001b[0mkeep_date_normalize\u001b[0m\u001b[0;34m(\u001b[0m\u001b[0msoup\u001b[0m\u001b[0;34m.\u001b[0m\u001b[0mtitle\u001b[0m\u001b[0;34m)\u001b[0m\u001b[0;34m\u001b[0m\u001b[0m\n\u001b[1;32m      5\u001b[0m     \u001b[0;32mif\u001b[0m \u001b[0;32mnot\u001b[0m \u001b[0mdate\u001b[0m\u001b[0;34m:\u001b[0m\u001b[0;34m\u001b[0m\u001b[0m\n",
      "\u001b[0;31mNameError\u001b[0m: name 'read_data' is not defined"
     ]
    }
   ],
   "source": [
    "read_data[0]\n",
    "for data in read_data:\n",
    "    soup = BeautifulSoup(data, 'html.parser')\n",
    "    date = keep_date_normalize(soup.title)\n",
    "    if not date:\n",
    "        date = keep_date_normalize(soup.div)\n",
    "    body = soup.find_all(attrs={\"class\": \"content\"})\n",
    "    body = body[0]\n",
    "    print(date)\n",
    "    print(body.contents)\n",
    "    \n",
    "    #print(soup.title)\n",
    "    #print(soup.find_all(attrs={\"class\":\"meta-icons\"}))\n",
    "    #print(soup.find_all(attrs={\"class\": \"content\"}))\n",
    "    print()"
   ]
  },
  {
   "cell_type": "code",
   "execution_count": 11,
   "metadata": {},
   "outputs": [
    {
     "ename": "NameError",
     "evalue": "name 'read_data' is not defined",
     "output_type": "error",
     "traceback": [
      "\u001b[0;31m---------------------------------------------------------------------------\u001b[0m",
      "\u001b[0;31mNameError\u001b[0m                                 Traceback (most recent call last)",
      "\u001b[0;32m<ipython-input-11-fbcbed42f3a9>\u001b[0m in \u001b[0;36m<module>\u001b[0;34m()\u001b[0m\n\u001b[0;32m----> 1\u001b[0;31m \u001b[0msoup\u001b[0m \u001b[0;34m=\u001b[0m \u001b[0mBeautifulSoup\u001b[0m\u001b[0;34m(\u001b[0m\u001b[0mread_data\u001b[0m\u001b[0;34m[\u001b[0m\u001b[0;34m-\u001b[0m\u001b[0;36m1\u001b[0m\u001b[0;34m]\u001b[0m\u001b[0;34m,\u001b[0m \u001b[0;34m'html.parser'\u001b[0m\u001b[0;34m)\u001b[0m\u001b[0;34m\u001b[0m\u001b[0m\n\u001b[0m\u001b[1;32m      2\u001b[0m \u001b[0mdate\u001b[0m \u001b[0;34m=\u001b[0m \u001b[0mre\u001b[0m\u001b[0;34m.\u001b[0m\u001b[0mfindall\u001b[0m\u001b[0;34m(\u001b[0m\u001b[0mstring\u001b[0m\u001b[0;34m=\u001b[0m\u001b[0mstr\u001b[0m\u001b[0;34m(\u001b[0m\u001b[0msoup\u001b[0m\u001b[0;34m.\u001b[0m\u001b[0mdiv\u001b[0m\u001b[0;34m)\u001b[0m\u001b[0;34m,\u001b[0m \u001b[0mpattern\u001b[0m\u001b[0;34m=\u001b[0m\u001b[0;34m'\\d.*\\d+:\\d+:\\d+'\u001b[0m\u001b[0;34m)\u001b[0m\u001b[0;34m\u001b[0m\u001b[0m\n\u001b[1;32m      3\u001b[0m \u001b[0mdate\u001b[0m \u001b[0;34m=\u001b[0m \u001b[0mdate\u001b[0m\u001b[0;34m[\u001b[0m\u001b[0;36m0\u001b[0m\u001b[0;34m]\u001b[0m\u001b[0;34m.\u001b[0m\u001b[0msplit\u001b[0m\u001b[0;34m(\u001b[0m\u001b[0;34m)\u001b[0m\u001b[0;34m\u001b[0m\u001b[0m\n\u001b[1;32m      4\u001b[0m \u001b[0mdate\u001b[0m \u001b[0;34m=\u001b[0m \u001b[0mstr\u001b[0m\u001b[0;34m(\u001b[0m\u001b[0mdate\u001b[0m\u001b[0;34m[\u001b[0m\u001b[0;36m0\u001b[0m\u001b[0;34m]\u001b[0m\u001b[0;34m)\u001b[0m \u001b[0;34m+\u001b[0m \u001b[0;34m'/'\u001b[0m \u001b[0;34m+\u001b[0m \u001b[0mstr\u001b[0m\u001b[0;34m(\u001b[0m\u001b[0mdates\u001b[0m\u001b[0;34m[\u001b[0m\u001b[0mdate\u001b[0m\u001b[0;34m[\u001b[0m\u001b[0;36m1\u001b[0m\u001b[0;34m]\u001b[0m\u001b[0;34m]\u001b[0m\u001b[0;34m)\u001b[0m \u001b[0;34m+\u001b[0m  \u001b[0;34m'/'\u001b[0m \u001b[0;34m+\u001b[0m \u001b[0mstr\u001b[0m\u001b[0;34m(\u001b[0m\u001b[0mdate\u001b[0m\u001b[0;34m[\u001b[0m\u001b[0;36m2\u001b[0m\u001b[0;34m]\u001b[0m\u001b[0;34m)\u001b[0m \u001b[0;34m+\u001b[0m \u001b[0;34m'/'\u001b[0m \u001b[0;34m+\u001b[0m \u001b[0mstr\u001b[0m\u001b[0;34m(\u001b[0m\u001b[0mdate\u001b[0m\u001b[0;34m[\u001b[0m\u001b[0;36m4\u001b[0m\u001b[0;34m]\u001b[0m\u001b[0;34m)\u001b[0m\u001b[0;34m\u001b[0m\u001b[0m\n",
      "\u001b[0;31mNameError\u001b[0m: name 'read_data' is not defined"
     ]
    }
   ],
   "source": [
    "soup = BeautifulSoup(read_data[-1], 'html.parser')\n",
    "date = re.findall(string=str(soup.div), pattern='\\d.*\\d+:\\d+:\\d+')\n",
    "date = date[0].split()\n",
    "date = str(date[0]) + '/' + str(dates[date[1]]) +  '/' + str(date[2]) + '/' + str(date[4])\n"
   ]
  },
  {
   "cell_type": "code",
   "execution_count": null,
   "metadata": {
    "collapsed": true
   },
   "outputs": [],
   "source": [
    "date"
   ]
  },
  {
   "cell_type": "code",
   "execution_count": null,
   "metadata": {
    "collapsed": true
   },
   "outputs": [],
   "source": [
    "import time\n",
    "import datetime\n",
    "s = date#\"01/12/2011\"\n",
    "dtime = time.mktime(datetime.datetime.strptime(s, \"%d/%m/%Y/%H:%M:%S\").timetuple())"
   ]
  },
  {
   "cell_type": "code",
   "execution_count": null,
   "metadata": {
    "collapsed": true
   },
   "outputs": [],
   "source": [
    "from bs4 import BeautifulSoup\n",
    "soup = BeautifulSoup(read_data[-1], 'html.parser')\n",
    "\n",
    "#print(soup.prettify())"
   ]
  },
  {
   "cell_type": "code",
   "execution_count": null,
   "metadata": {
    "collapsed": true
   },
   "outputs": [],
   "source": [
    "soup.title"
   ]
  },
  {
   "cell_type": "code",
   "execution_count": null,
   "metadata": {
    "collapsed": true
   },
   "outputs": [],
   "source": [
    "soup.div#find_all('div' 'class=\"content\"')"
   ]
  },
  {
   "cell_type": "code",
   "execution_count": null,
   "metadata": {
    "collapsed": true
   },
   "outputs": [],
   "source": [
    "for i in soup.div.children:\n",
    "    print (i)"
   ]
  },
  {
   "cell_type": "markdown",
   "metadata": {},
   "source": [
    "# Maps"
   ]
  },
  {
   "cell_type": "code",
   "execution_count": 1,
   "metadata": {
    "collapsed": true
   },
   "outputs": [],
   "source": [
    "import json\n",
    "\n",
    "file = \"Takeout/История местоположений/История местоположений.json\"\n",
    "data = []\n",
    "with open(file, 'r') as f:\n",
    "    data = json.loads(f.read())\n",
    "    f.close()\n",
    "    \n"
   ]
  },
  {
   "cell_type": "markdown",
   "metadata": {
    "collapsed": true
   },
   "source": [
    "## Create basketball SPocket"
   ]
  },
  {
   "cell_type": "code",
   "execution_count": null,
   "metadata": {
    "collapsed": true
   },
   "outputs": [],
   "source": [
    "#import sys\n",
    "# the mock-0.3.1 dir contains testcase.py, testutils.py & mock.py\n",
    "#sys.path.append('/home/denis/Program/NewLive/lib/')\n",
    "#import location_history_json_converter as loch\n",
    "#loch\n",
    "\n",
    "#from testcase import TestCase\n",
    "#from testutils import RunTests\n",
    "#from mock import Mock, sentinel, patch\n",
    "#def take_"
   ]
  },
  {
   "cell_type": "code",
   "execution_count": 13,
   "metadata": {
    "collapsed": true
   },
   "outputs": [],
   "source": [
    "import bisect\n",
    "import time\n",
    "import datetime\n",
    "\n",
    "MILS_TO_S = 1e3\n",
    "\n",
    "def precompute_data(data, need_sort=True):\n",
    "    # change data inplace\n",
    "    for point in data:\n",
    "        point['timestampMs'] = int(point['timestampMs']) / MILS_TO_S #to second\n",
    "    if need_sort:\n",
    "        data.sort(key=lambda x: x['timestampMs'])\n",
    "    if len(data) > 1 and data[0]['timestampMs'] > data[1]['timestampMs']:\n",
    "        data = list(reversed(data))\n",
    "    #print (data[0], data_loc_hist[0])\n",
    "    \n",
    "def get_time_key(data):\n",
    "    return [x['timestampMs'] for x in data]\n",
    "\n",
    "def take_period(data, start=\"2000-01-21 16:20:20\", end=\"2013-09-21 16:20:20\"): \n",
    "    #data sorted and reversed location old->new, with keys = [timestampMs, ]\n",
    "    keys = get_time_key(data)\n",
    "    start = time_str_to_int(start) \n",
    "    end = time_str_to_int(end)\n",
    "    i_start, i_end = bisect.bisect_left(keys, start), bisect.bisect_right(keys, end)\n",
    "    print(i_start, i_end, end)\n",
    "    return data[i_start:i_end]\n",
    "    \n",
    "def time_str_to_int(t):\n",
    "    # return seconds\n",
    "    if \":\" in t:\n",
    "        d = datetime.datetime.strptime(t, \"%Y-%m-%d %H:%M:%S\").timestamp()\n",
    "    else:\n",
    "        d = datetime.datetime.strptime(t, \"%Y-%m-%d\").timestamp()\n",
    "    return d #* MILS_TO_S\n",
    "        \n",
    "def time_int_to_str(t):\n",
    "    #t seconds\n",
    "    return datetime.datetime.fromtimestamp(t)"
   ]
  },
  {
   "cell_type": "code",
   "execution_count": null,
   "metadata": {
    "collapsed": true
   },
   "outputs": [],
   "source": [
    "day = take_period(*precompute_data(bskt_data), start=\"2013-04-02 4:00:00\", end=\"2013-04-03 4:00:00\") "
   ]
  },
  {
   "cell_type": "code",
   "execution_count": 4,
   "metadata": {},
   "outputs": [
    {
     "data": {
      "text/plain": [
       "{'accuracy': 24,\n",
       " 'latitudeE7': 558488193,\n",
       " 'longitudeE7': 374864498,\n",
       " 'timestampMs': '1526652148901'}"
      ]
     },
     "execution_count": 4,
     "metadata": {},
     "output_type": "execute_result"
    }
   ],
   "source": [
    "data['locations'][0]"
   ]
  },
  {
   "cell_type": "code",
   "execution_count": 6,
   "metadata": {},
   "outputs": [
    {
     "name": "stdout",
     "output_type": "stream",
     "text": [
      "2 90198 1380571200.0\n"
     ]
    }
   ],
   "source": [
    "precompute_data(data['locations'])\n",
    "#keys = get_time_key(data['locations'])\n",
    "bskt_data = take_period(data['locations'], end=\"2013-10-01\")"
   ]
  },
  {
   "cell_type": "code",
   "execution_count": 8,
   "metadata": {},
   "outputs": [
    {
     "data": {
      "text/plain": [
       "{'accuracy': 777,\n",
       " 'latitudeE7': 557719613,\n",
       " 'longitudeE7': 376558166,\n",
       " 'timestampMs': 1364810473.086}"
      ]
     },
     "execution_count": 8,
     "metadata": {},
     "output_type": "execute_result"
    }
   ],
   "source": [
    "bskt_data[0]"
   ]
  },
  {
   "cell_type": "markdown",
   "metadata": {},
   "source": [
    "## Kmeans classification of places"
   ]
  },
  {
   "cell_type": "markdown",
   "metadata": {},
   "source": [
    "Problem that we have places where I usualy be (center of classes) and traectory beetwen this place, but Kmeans look at way between classes as class or give middle point between multiple classes and trajectorys. As example: (Kooperativnaya Ulitsa, 66, Yamkino, Moskovskaya oblast', Russia, 142430)   "
   ]
  },
  {
   "cell_type": "code",
   "execution_count": null,
   "metadata": {
    "collapsed": true
   },
   "outputs": [],
   "source": [
    "array = np.zeros([90196, 2])\n",
    "array.shape\n",
    "for i, point in enumerate(bskt_data):\n",
    "    array[i, 0] = point['latitudeE7'] / 1e7\n",
    "    array[i, 1] = point['longitudeE7'] / 1e7"
   ]
  },
  {
   "cell_type": "code",
   "execution_count": null,
   "metadata": {
    "collapsed": true
   },
   "outputs": [],
   "source": [
    "kmeans = KMeans(n_clusters=10, random_state=0).fit(array)"
   ]
  },
  {
   "cell_type": "code",
   "execution_count": null,
   "metadata": {
    "collapsed": true
   },
   "outputs": [],
   "source": [
    "my_places = {}\n",
    "for places in kmeans.cluster_centers_:\n",
    "    my_places[get_place(*places)] = places"
   ]
  },
  {
   "cell_type": "markdown",
   "metadata": {},
   "source": [
    "### Get street by google api"
   ]
  },
  {
   "cell_type": "code",
   "execution_count": 20,
   "metadata": {},
   "outputs": [
    {
     "ename": "FileNotFoundError",
     "evalue": "[Errno 2] No such file or directory: '/home/denis/sensitive_data.py'",
     "output_type": "error",
     "traceback": [
      "\u001b[0;31m---------------------------------------------------------------------------\u001b[0m",
      "\u001b[0;31mFileNotFoundError\u001b[0m                         Traceback (most recent call last)",
      "\u001b[0;32m<ipython-input-20-3231d94fc558>\u001b[0m in \u001b[0;36m<module>\u001b[0;34m()\u001b[0m\n\u001b[1;32m      1\u001b[0m \u001b[0;32mimport\u001b[0m \u001b[0mrequests\u001b[0m\u001b[0;34m\u001b[0m\u001b[0m\n\u001b[1;32m      2\u001b[0m \u001b[0;34m\u001b[0m\u001b[0m\n\u001b[0;32m----> 3\u001b[0;31m \u001b[0;32mwith\u001b[0m \u001b[0mopen\u001b[0m\u001b[0;34m(\u001b[0m\u001b[0;34m\"/home/denis/sensitive_data.py\"\u001b[0m\u001b[0;34m,\u001b[0m \u001b[0;34m\"r\"\u001b[0m\u001b[0;34m)\u001b[0m \u001b[0;32mas\u001b[0m \u001b[0mf\u001b[0m\u001b[0;34m:\u001b[0m\u001b[0;34m\u001b[0m\u001b[0m\n\u001b[0m\u001b[1;32m      4\u001b[0m     \u001b[0mGCkey\u001b[0m \u001b[0;34m=\u001b[0m \u001b[0mjson\u001b[0m\u001b[0;34m.\u001b[0m\u001b[0mloads\u001b[0m\u001b[0;34m(\u001b[0m\u001b[0mf\u001b[0m\u001b[0;34m.\u001b[0m\u001b[0mread\u001b[0m\u001b[0;34m(\u001b[0m\u001b[0;34m)\u001b[0m\u001b[0;34m)\u001b[0m\u001b[0;34m[\u001b[0m\u001b[0;34m'GEOCODINGAPI'\u001b[0m\u001b[0;34m]\u001b[0m\u001b[0;34m\u001b[0m\u001b[0m\n\u001b[1;32m      5\u001b[0m     \u001b[0mf\u001b[0m\u001b[0;34m.\u001b[0m\u001b[0mclose\u001b[0m\u001b[0;34m(\u001b[0m\u001b[0;34m)\u001b[0m\u001b[0;34m\u001b[0m\u001b[0m\n",
      "\u001b[0;31mFileNotFoundError\u001b[0m: [Errno 2] No such file or directory: '/home/denis/sensitive_data.py'"
     ]
    }
   ],
   "source": [
    "import requests\n",
    "\n",
    "with open(\"/home/denis/sensitive_data.py\", \"r\") as f:\n",
    "    GCkey = json.loads(f.read())['GEOCODINGAPI']\n",
    "    f.close()\n",
    "lat = 55.57684638\n",
    "lon = 38.2220405\n"
   ]
  },
  {
   "cell_type": "code",
   "execution_count": null,
   "metadata": {
    "collapsed": true
   },
   "outputs": [],
   "source": [
    "def get_place(lat, lon):\n",
    "    req = \"https://maps.googleapis.com/maps/api/geocode/json?latlng={},{}&key={}\".format(lat, lon, GCkey)\n",
    "    ans = json.loads(requests.get(req).text)\n",
    "    return (ans['results'][0]['formatted_address'])"
   ]
  },
  {
   "cell_type": "code",
   "execution_count": null,
   "metadata": {
    "collapsed": true
   },
   "outputs": [],
   "source": [
    "my_places"
   ]
  },
  {
   "cell_type": "markdown",
   "metadata": {},
   "source": [
    "## Use hash_table for fast complete.  "
   ]
  },
  {
   "cell_type": "code",
   "execution_count": null,
   "metadata": {
    "collapsed": true
   },
   "outputs": [],
   "source": [
    "k"
   ]
  },
  {
   "cell_type": "code",
   "execution_count": 11,
   "metadata": {
    "collapsed": true
   },
   "outputs": [],
   "source": [
    "import math\n",
    "import numpy as np\n",
    "def getDistanceFromLatLonInKm(lat1,lon1,lat2,lon2):\n",
    "    R = 6371 # Radius of the earth in km\n",
    "    dlat = deg2rad(lat2-lat1)\n",
    "    dlon = deg2rad(lon2-lon1)\n",
    "    a = math.sin(dlat/2) * math.sin(dlat/2) + \\\n",
    "    math.cos(deg2rad(lat1)) * math.cos(deg2rad(lat2)) * \\\n",
    "    math.sin(dlon/2) * math.sin(dlon/2)\n",
    "    c = 2 * math.atan2(math.sqrt(a), math.sqrt(1-a))\n",
    "    d = R * c # Distance in km\n",
    "    return d\n",
    "\n",
    "\n",
    "def deg2rad(deg):\n",
    "    return deg * (math.pi/180)"
   ]
  },
  {
   "cell_type": "code",
   "execution_count": 12,
   "metadata": {
    "collapsed": true
   },
   "outputs": [],
   "source": [
    "def grad_speed(a, b):\n",
    "    S = getDistanceFromLatLonInKm(a['latitudeE7'] / 1e7, a['longitudeE7'] / 1e7,\n",
    "                                  b['latitudeE7'] / 1e7, b['longitudeE7'] / 1e7)\n",
    "    t = (int(b['timestampMs']) - int(a['timestampMs']))/3600\n",
    "    return S, t, S/t"
   ]
  },
  {
   "cell_type": "code",
   "execution_count": 21,
   "metadata": {},
   "outputs": [
    {
     "name": "stdout",
     "output_type": "stream",
     "text": [
      "327 834 1364947200.0\n"
     ]
    }
   ],
   "source": [
    "import copy\n",
    "day = take_period(bskt_data, start=\"2013-04-02 4:00:00\", end=\"2013-04-03 4:00:00\") \n",
    "    \n",
    "\n",
    "def add_vaules_to_data(data_initial): #add next day\n",
    "    data = copy.deepcopy(data_initial)\n",
    "    for i in range(len(data[:-1])):\n",
    "        distant, t, speed = grad_speed(data[i], data[i + 1])\n",
    "        data[i]['grad_speed'] = speed\n",
    "        data[i]['distant'] = distant\n",
    "        #data[i]['timestampMs'] = int(data[i]['timestampMs']) / 1e3\n",
    "        #if i + 2 >= len(data):\n",
    "        #    data[i]['move_forward'] = 0\n",
    "        #    data[i + 1]['move_forward'] = 0\n",
    "        #else:\n",
    "        #     data[i]['move_forward'] = grad_speed(data[i], data[i + 2])[0] - distant\n",
    "        data[i]['duration_s'] = data[i + 1]['timestampMs'] - data[i]['timestampMs']\n",
    "    last_ind = len(data) - 1\n",
    "    data[last_ind]['grad_speed'] = data[last_ind - 1]['grad_speed']\n",
    "    data[last_ind]['duration_s'] = 20 #last duration\n",
    "    data[last_ind]['distant'] = distant\n",
    "    return data\n",
    "        \n",
    "cd = add_vaules_to_data(day)"
   ]
  },
  {
   "cell_type": "markdown",
   "metadata": {},
   "source": [
    "Check our data"
   ]
  },
  {
   "cell_type": "code",
   "execution_count": 22,
   "metadata": {},
   "outputs": [
    {
     "data": {
      "text/plain": [
       "defaultdict(<function __main__.<lambda>>,\n",
       "            {'ALL_DISTANT': 96.06952826246827,\n",
       "             'ALL_POINTS': 507,\n",
       "             'ALL_TIME': 62360.236000061035,\n",
       "             'IN_VEHICLE': 17,\n",
       "             'Noact': 247,\n",
       "             'ON_BICYCLE': 1,\n",
       "             'ON_FOOT': 11,\n",
       "             'STILL': 231,\n",
       "             'stable_': 49375.86399936676,\n",
       "             'transport': 7371.649000644684,\n",
       "             'walk_run_b': 5612.723000049591})"
      ]
     },
     "execution_count": 22,
     "metadata": {},
     "output_type": "execute_result"
    }
   ],
   "source": [
    "from collections import defaultdict\n",
    "k = defaultdict(lambda: 0)\n",
    "#k.setdefault()\n",
    "\n",
    "action = 'stable'\n",
    "for p in cd:\n",
    "    #print(p)\n",
    "    if 'activity' in p:\n",
    "        if len(p['activity']) > 1:\n",
    "            print(p['activity'])\n",
    "        k[p['activity'][0]['activity'][0]['type']] += 1\n",
    "    else:\n",
    "        k['Noact'] += 1\n",
    "    #if p['move_forward'] < 0:\n",
    "    #    k['returns_point'] += 1\n",
    "    if p['grad_speed'] < 2:\n",
    "        k['stable_'] += p['duration_s']\n",
    "    if 2 <= p['grad_speed'] < 17:\n",
    "        k['walk_run_b'] += p['duration_s']\n",
    "    if p['grad_speed'] >= 17:\n",
    "        k['transport'] += p['duration_s']\n",
    "    k['ALL_TIME'] += p['duration_s']\n",
    "    k['ALL_DISTANT'] += p['distant']\n",
    "k['ALL_POINTS'] = len(cd)\n",
    "    \n",
    "k"
   ]
  },
  {
   "cell_type": "code",
   "execution_count": 26,
   "metadata": {
    "collapsed": true
   },
   "outputs": [],
   "source": [
    "class Day:\n",
    "    def __init__(self, data, last_compresed_action=None):\n",
    "        #self.last_action = 'stable_'\n",
    "        #self.last_point = last_point\n",
    "        self.data = data\n",
    "        self.compressed_data = []\n",
    "        if last_compresed_action is not None:\n",
    "            self.compressed_data.append(last_compresed_action)\n",
    "        #self.activity_names = {}\n",
    "        \n",
    "    def compres_data(self):\n",
    "        for point in self.data:\n",
    "            if (len(self.compressed_data) > 0 and \n",
    "                self.get_action_type(point) == self.compressed_data[-1]['action_type']\n",
    "               ):\n",
    "                self.compressed_data[-1]['duration'] += point['duration_s']\n",
    "                self.compressed_data[-1]['finish_loc'] = (point['latitudeE7'], point['longitudeE7'])\n",
    "                self.compressed_data[-1]['distant'] += point['distant']\n",
    "                self.compressed_data[-1]['n_points'] += 1\n",
    "                #action['average_speed'] \n",
    "            else:\n",
    "                #self.compressed_data[-1]['duration'] = point['duration_s']\n",
    "                #self.compressed_data[-1]['finish_loc'] = (point['latitudeE7'], point['longitudeE7'])\n",
    "                action = {}#defaultdict(lambda: 0)\n",
    "                action['start_time'] = point['timestampMs']\n",
    "                action['start_loc'] = (point['latitudeE7'], point['longitudeE7'])\n",
    "                action['finish_loc'] = None\n",
    "                action['duration'] = point['duration_s']\n",
    "                action['action_type'] = self.get_action_type(point)\n",
    "                action['distant'] = point['distant']\n",
    "                action['n_points'] = 1\n",
    "                #action['average_speed'] = point['grad_speed']\n",
    "                self.compressed_data.append(action)\n",
    "                #self.last_point = point\n",
    "                               \n",
    "    def get_action_type(self, point):\n",
    "        if point is None:\n",
    "            return '-1'\n",
    "        #if point['move_forward'] < 0:\n",
    "        #    print (point['grad_speed'], point['timestampMs'])\n",
    "        #    k['returns_point'] += 1\n",
    "        if 0 <= point['grad_speed'] < 2:\n",
    "            return 'stable_'\n",
    "        if 2 <= point['grad_speed'] < 17:\n",
    "            return 'walk_run_b'\n",
    "        if point['grad_speed'] >= 17:\n",
    "            return 'transport'\n",
    "        #print('---', point['grad_speed'])\n",
    "\n",
    "D = Day(cd)\n",
    "D.compressed_data\n",
    "D.compres_data()"
   ]
  },
  {
   "cell_type": "code",
   "execution_count": 1,
   "metadata": {
    "collapsed": true
   },
   "outputs": [],
   "source": [
    "for d in D.compressed_data:\n",
    "    print (d['action_type'], d['distant'])\n",
    "    print (time_int_to_str(d['start_time']), '\\n' )\n",
    "# todo undartand where really stable and where  "
   ]
  },
  {
   "cell_type": "code",
   "execution_count": 34,
   "metadata": {},
   "outputs": [
    {
     "data": {
      "text/plain": [
       "(507, 100)"
      ]
     },
     "execution_count": 34,
     "metadata": {},
     "output_type": "execute_result"
    }
   ],
   "source": [
    "len(cd), len(D.compressed_data)"
   ]
  },
  {
   "cell_type": "code",
   "execution_count": null,
   "metadata": {
    "collapsed": true
   },
   "outputs": [],
   "source": [
    "# vk, telegram, hangout, facebook"
   ]
  },
  {
   "cell_type": "markdown",
   "metadata": {},
   "source": [
    "# Search history"
   ]
  },
  {
   "cell_type": "code",
   "execution_count": 3,
   "metadata": {
    "collapsed": true
   },
   "outputs": [],
   "source": [
    "file = 'Takeout/Мои действия/Поиск/МоиДействия.html'"
   ]
  },
  {
   "cell_type": "code",
   "execution_count": 4,
   "metadata": {
    "collapsed": true
   },
   "outputs": [],
   "source": [
    "with open(file, 'r') as f:\n",
    "    html_dt = f.read()\n",
    "    f.close()"
   ]
  },
  {
   "cell_type": "code",
   "execution_count": 2,
   "metadata": {
    "collapsed": true
   },
   "outputs": [],
   "source": [
    "#for line in html_dt[:150000]:\n",
    "import re\n",
    "import time\n",
    "import datetime\n",
    "#re.findall(string=html_dt[:150000], pattern='Поиск')\n",
    "DATES = {'янв':1, 'фев':2,'мар':3,'апр':4,'мая':5,'июн':6,\n",
    " 'июл':7,'авг':8,'сен':9,'окт':10,'ноя':11,'дек':12}\n",
    "\n",
    "def gsearch_date_normalize(lines_with_date):\n",
    "    date = re.findall(string=str(lines_with_date), pattern='<br>\\d.*\\d+:\\d+:\\d+')\n",
    "    if len(date) == 0:\n",
    "        return None\n",
    "    date = date[0][4:].split()\n",
    "    date = (str(date[0]) + '/' + str(DATES[date[1][:3]]) +  '/' + str(date[2]) +\n",
    "             '/' + str(date[4])\n",
    "           )\n",
    "    dtime = time.mktime(datetime.datetime.strptime(date, \"%d/%m/%Y/%H:%M:%S\").timetuple())\n",
    "    return dtime\n",
    "\n",
    "def log_from_gsearch(html_dt):\n",
    "    string=html_dt.split('class')\n",
    "    search_log = []\n",
    "    for i in string:\n",
    "        line = (re.findall(string=i, pattern='[А-Яа-я].*\\d+:\\d+:\\d+'))\n",
    "        if line:\n",
    "            date = gsearch_date_normalize(line[0])\n",
    "            quory = re.findall(string=i, pattern='\\w.?q=.*\".*</a>')\n",
    "            if not quory:\n",
    "                body = {'type': 'other', 'url':'', 'text':''}\n",
    "                search_log.append(add_to_log(date=date, source='GSearch', id='my', body=body))\n",
    "            else:\n",
    "                url, text = quory[0][3:].split('\\\">')\n",
    "                body = {'type': quory[0][0], 'url':url, 'text':text[:-4]}\n",
    "                search_log.append(add_to_log(date=date, source='GSearch', id='my', body=body))\n",
    "    return search_log\n",
    "\n",
    "#log_from_gsearch(html_dt[:150000])"
   ]
  },
  {
   "cell_type": "markdown",
   "metadata": {},
   "source": [
    "# Android"
   ]
  },
  {
   "cell_type": "code",
   "execution_count": 12,
   "metadata": {
    "collapsed": true
   },
   "outputs": [],
   "source": [
    "file = \"Takeout/Мои действия/Android/МоиДействия.html\"\n",
    "with open(file, 'r') as f:\n",
    "    html_dt = f.read()\n",
    "    f.close()"
   ]
  },
  {
   "cell_type": "code",
   "execution_count": 14,
   "metadata": {
    "collapsed": true
   },
   "outputs": [],
   "source": [
    "html_dt[:1000]\n",
    "#def log_from_gsearch(html_dt):\n",
    "string=html_dt.split('class')"
   ]
  },
  {
   "cell_type": "code",
   "execution_count": 64,
   "metadata": {
    "collapsed": true
   },
   "outputs": [],
   "source": [
    "def log_from_android(html_dt):\n",
    "    string=html_dt.split('class')\n",
    "    andr_log = []\n",
    "    for i in string:\n",
    "        line = (re.findall(string=i, pattern='[А-Яа-я].*\\d+:\\d+:\\d+'))\n",
    "        if line:\n",
    "            #print(line)\n",
    "            date = gsearch_date_normalize(line[0])\n",
    "            applink = re.findall(string=i, pattern='&nbsp;<a.*\".*</a>')\n",
    "            apponly = re.findall(string=i, pattern='&nbsp;.*[^(</a>)]<br>')\n",
    "            body = None\n",
    "            if applink:\n",
    "                applink = applink[0][15:-4].split('\">')\n",
    "                body = {'applink': applink[0], 'app': applink[1]}\n",
    "            if apponly:\n",
    "                body = {'app': apponly[0][6:-4]}\n",
    "            if body:\n",
    "                andr_log.append(add_to_log(date=date, source='Android', id='my', body=body))\n",
    "    return andr_log\n",
    "\n",
    "#log_from_android(html_dt[250000:250000])"
   ]
  },
  {
   "cell_type": "code",
   "execution_count": null,
   "metadata": {
    "collapsed": true
   },
   "outputs": [],
   "source": [
    "['Использовано приложение:&nbsp;<a href=\"https://play.google.com/store/apps/details?id=com.android.contacts\">Контакты</a><br>18 мая 2018 г., 14:08:18']\n",
    "['&nbsp;<a href=\"https://play.google.com/store/apps/details?id=com.android.contacts\">Контакты</a>']\n",
    "['Использовано приложение:&nbsp;com.android.incallui<br>18 мая 2018 г., 14:07:39']\n",
    "[]\n",
    "['Использовано приложение:&nbsp;com.android.server.telecom<br>18 мая 2018 г., 14:07:39']\n",
    "[]"
   ]
  },
  {
   "cell_type": "code",
   "execution_count": 58,
   "metadata": {},
   "outputs": [
    {
     "data": {
      "text/plain": [
       "'com.android.incallui'"
      ]
     },
     "execution_count": 58,
     "metadata": {},
     "output_type": "execute_result"
    }
   ],
   "source": [
    "r = 'Использовано приложение:&nbsp;<a href=\"https://play.google.com/store/apps/details?id=com.android.contacts\">Контакты</a><br>18 мая 2018 г., 14:08:18'\n",
    "d = 'Использовано приложение:&nbsp;com.android.incallui<br>18 мая 2018 г., 14:07:39'\n",
    "re.findall(string=d, pattern='&nbsp;.*[^(</a>)]<br')[0][6:-3]"
   ]
  },
  {
   "cell_type": "code",
   "execution_count": 56,
   "metadata": {},
   "outputs": [
    {
     "data": {
      "text/plain": [
       "['https://play.google.com/store/apps/details?id=com.android.contacts',\n",
       " 'Контакты']"
      ]
     },
     "execution_count": 56,
     "metadata": {},
     "output_type": "execute_result"
    }
   ],
   "source": [
    "applink = re.findall(string=r, pattern='&nbsp;<a.*\".*</a>')\n",
    "applink[0][15:-4].split('\">')"
   ]
  },
  {
   "cell_type": "code",
   "execution_count": null,
   "metadata": {
    "collapsed": true
   },
   "outputs": [],
   "source": []
  },
  {
   "cell_type": "code",
   "execution_count": 52,
   "metadata": {},
   "outputs": [
    {
     "data": {
      "text/plain": [
       "14"
      ]
     },
     "execution_count": 52,
     "metadata": {},
     "output_type": "execute_result"
    }
   ],
   "source": [
    "len('&nbsp;<a href=')"
   ]
  },
  {
   "cell_type": "markdown",
   "metadata": {},
   "source": [
    "# vk"
   ]
  },
  {
   "cell_type": "code",
   "execution_count": 1,
   "metadata": {
    "collapsed": true
   },
   "outputs": [],
   "source": [
    "import requests\n",
    "import vk_api\n"
   ]
  },
  {
   "cell_type": "code",
   "execution_count": 2,
   "metadata": {
    "collapsed": true
   },
   "outputs": [],
   "source": [
    "\n",
    "    #return"
   ]
  },
  {
   "cell_type": "code",
   "execution_count": 3,
   "metadata": {
    "collapsed": true
   },
   "outputs": [],
   "source": [
    "vk = vk_session.get_api()"
   ]
  },
  {
   "cell_type": "code",
   "execution_count": 3,
   "metadata": {
    "collapsed": true
   },
   "outputs": [],
   "source": [
    "#get_id_from_dialogs(vk.messages.getDialogs(count=20))\n"
   ]
  },
  {
   "cell_type": "code",
   "execution_count": 34,
   "metadata": {},
   "outputs": [
    {
     "data": {
      "text/plain": [
       "295743497"
      ]
     },
     "execution_count": 34,
     "metadata": {},
     "output_type": "execute_result"
    }
   ],
   "source": [
    "ndialogs['items'][0]['message']['user_id']#.keys()"
   ]
  },
  {
   "cell_type": "code",
   "execution_count": 21,
   "metadata": {},
   "outputs": [
    {
     "data": {
      "text/plain": [
       "2"
      ]
     },
     "execution_count": 21,
     "metadata": {},
     "output_type": "execute_result"
    }
   ],
   "source": [
    "len(ndialogs['items'][])"
   ]
  },
  {
   "cell_type": "code",
   "execution_count": 57,
   "metadata": {},
   "outputs": [
    {
     "data": {
      "text/plain": [
       "41450843"
      ]
     },
     "execution_count": 57,
     "metadata": {},
     "output_type": "execute_result"
    }
   ],
   "source": [
    "def encrypt_vkid(id, vk_api):\n",
    "    name = vk_api.users.get(user_ids=id)[0]\n",
    "    n, s = name['first_name'][1], name['last_name'][1:3]\n",
    "    xid = (id + 10001) * 5\n",
    "    return n + s + str(xid)\n",
    "\n",
    "def decrypt_vkid(idx):\n",
    "    return int(idx[3:]) // 5 - 10001\n",
    "\n",
    "decrypt_vkid(encrypt_vkid(41450843, vk))"
   ]
  },
  {
   "cell_type": "code",
   "execution_count": 41,
   "metadata": {
    "collapsed": true
   },
   "outputs": [],
   "source": [
    "def get_id_from_dialogs(dialogs):\n",
    "    ids = []\n",
    "    for d in dialogs['items']:\n",
    "        ids.append(d['message']['user_id'])\n",
    "    return ids"
   ]
  },
  {
   "cell_type": "code",
   "execution_count": 75,
   "metadata": {},
   "outputs": [
    {
     "ename": "NameError",
     "evalue": "name 'json' is not defined",
     "output_type": "error",
     "traceback": [
      "\u001b[0;31m---------------------------------------------------------------------------\u001b[0m",
      "\u001b[0;31mNameError\u001b[0m                                 Traceback (most recent call last)",
      "\u001b[0;32m<ipython-input-75-1f8c6c0902df>\u001b[0m in \u001b[0;36m<module>\u001b[0;34m()\u001b[0m\n\u001b[1;32m     19\u001b[0m \u001b[0;34m\u001b[0m\u001b[0m\n\u001b[1;32m     20\u001b[0m \u001b[0;34m\u001b[0m\u001b[0m\n\u001b[0;32m---> 21\u001b[0;31m \u001b[0mlog_from_vk\u001b[0m\u001b[0;34m(\u001b[0m\u001b[0;34m)\u001b[0m\u001b[0;34m\u001b[0m\u001b[0m\n\u001b[0m",
      "\u001b[0;32m<ipython-input-75-1f8c6c0902df>\u001b[0m in \u001b[0;36mlog_from_vk\u001b[0;34m()\u001b[0m\n\u001b[1;32m     15\u001b[0m \u001b[0;34m\u001b[0m\u001b[0m\n\u001b[1;32m     16\u001b[0m             \u001b[0;31m#!! get last date take any date even from other dialogs\u001b[0m\u001b[0;34m\u001b[0m\u001b[0;34m\u001b[0m\u001b[0m\n\u001b[0;32m---> 17\u001b[0;31m             \u001b[0mwrite_log_new\u001b[0m\u001b[0;34m(\u001b[0m\u001b[0mfile\u001b[0m\u001b[0;34m=\u001b[0m\u001b[0;34m'Log_raw/vk_log.txt'\u001b[0m\u001b[0;34m,\u001b[0m \u001b[0mlogs\u001b[0m\u001b[0;34m=\u001b[0m\u001b[0mlog\u001b[0m\u001b[0;34m,\u001b[0m \u001b[0mnew_t\u001b[0m\u001b[0;34m=\u001b[0m\u001b[0mget_last_date\u001b[0m\u001b[0;34m(\u001b[0m\u001b[0;34m'Log_raw/vk_log.txt'\u001b[0m\u001b[0;34m)\u001b[0m\u001b[0;34m)\u001b[0m\u001b[0;34m\u001b[0m\u001b[0m\n\u001b[0m\u001b[1;32m     18\u001b[0m         \u001b[0;31m#print(i, ids[:10], len(ids))\u001b[0m\u001b[0;34m\u001b[0m\u001b[0;34m\u001b[0m\u001b[0m\n\u001b[1;32m     19\u001b[0m \u001b[0;34m\u001b[0m\u001b[0m\n",
      "\u001b[0;32m<ipython-input-71-2f2543edc7c0>\u001b[0m in \u001b[0;36mwrite_log_new\u001b[0;34m(file, logs, new_t)\u001b[0m\n\u001b[1;32m      4\u001b[0m         \u001b[0;32mfor\u001b[0m \u001b[0mlog\u001b[0m \u001b[0;32min\u001b[0m \u001b[0mlogs\u001b[0m\u001b[0;34m:\u001b[0m\u001b[0;34m\u001b[0m\u001b[0m\n\u001b[1;32m      5\u001b[0m             \u001b[0;32mif\u001b[0m \u001b[0mlog\u001b[0m\u001b[0;34m[\u001b[0m\u001b[0;34m'date'\u001b[0m\u001b[0;34m]\u001b[0m \u001b[0;34m>\u001b[0m \u001b[0mnew_t\u001b[0m\u001b[0;34m:\u001b[0m\u001b[0;34m\u001b[0m\u001b[0m\n\u001b[0;32m----> 6\u001b[0;31m                 \u001b[0mdt\u001b[0m\u001b[0;34m.\u001b[0m\u001b[0mwrite\u001b[0m\u001b[0;34m(\u001b[0m\u001b[0mjson\u001b[0m\u001b[0;34m.\u001b[0m\u001b[0mdumps\u001b[0m\u001b[0;34m(\u001b[0m\u001b[0mlog\u001b[0m\u001b[0;34m,\u001b[0m \u001b[0msort_keys\u001b[0m\u001b[0;34m=\u001b[0m\u001b[0;32mTrue\u001b[0m\u001b[0;34m)\u001b[0m \u001b[0;34m+\u001b[0m \u001b[0;34m'\\n'\u001b[0m\u001b[0;34m)\u001b[0m\u001b[0;34m\u001b[0m\u001b[0m\n\u001b[0m\u001b[1;32m      7\u001b[0m         \u001b[0mdt\u001b[0m\u001b[0;34m.\u001b[0m\u001b[0mclose\u001b[0m\u001b[0;34m(\u001b[0m\u001b[0;34m)\u001b[0m\u001b[0;34m\u001b[0m\u001b[0m\n",
      "\u001b[0;31mNameError\u001b[0m: name 'json' is not defined"
     ]
    }
   ],
   "source": [
    "import time\n",
    "MAXC = 200\n",
    "def log_from_vk():\n",
    "    n = vk.messages.getDialogs()['count']\n",
    "    log = []\n",
    "    i = 0\n",
    "    while i < n:\n",
    "        time.sleep(0.3)\n",
    "        dialogs = vk.messages.getDialogs(offset=i, count=MAXC)\n",
    "        ids = get_id_from_dialogs(dialogs)\n",
    "        i += MAXC\n",
    "        for id in ids:\n",
    "            full_conv = get_full_conv(id, vk)\n",
    "            log.extend(message_to_log(full_conv))\n",
    "            \n",
    "            #!! get last date take any date even from other dialogs\n",
    "            write_log_new(file='Log_raw/vk_log.txt', logs=log, new_t=get_last_date('Log_raw/vk_log.txt'))\n",
    "        #print(i, ids[:10], len(ids))\n",
    "        \n",
    "        \n",
    "log_from_vk()"
   ]
  },
  {
   "cell_type": "code",
   "execution_count": 55,
   "metadata": {
    "collapsed": true
   },
   "outputs": [],
   "source": [
    "def get_full_conv(id, vk_api):\n",
    "    n = vk_api.messages.getHistory(user_id=id)['count']\n",
    "    full_conv = []\n",
    "    i = 0\n",
    "    while i < n:\n",
    "        time.sleep(0.3)\n",
    "        m = vk_api.messages.getHistory(offset=i, count=MAXC, user_id=id)\n",
    "        full_conv.extend(m['items'])\n",
    "        #print()\n",
    "        i += MAXC\n",
    "    return full_conv\n",
    "\n",
    "#s = get_full_conv(10882721, vk)"
   ]
  },
  {
   "cell_type": "code",
   "execution_count": 59,
   "metadata": {},
   "outputs": [
    {
     "data": {
      "text/plain": [
       "{'body': 'Денис, там одна второкурсница, которая у меня занималасьи на всех соервнованиях выступала, никак тебя не может найти, чтобы поставить зачет. А я волнуюсь - а не влепил ли ты ей незачет в ведомость. Поставь пожалуйста, ее зовут Егошина Виктория',\n",
       " 'date': 1527533183,\n",
       " 'from_id': 10882721,\n",
       " 'id': 50427,\n",
       " 'out': 0,\n",
       " 'read_state': 1,\n",
       " 'user_id': 10882721}"
      ]
     },
     "execution_count": 59,
     "metadata": {},
     "output_type": "execute_result"
    }
   ],
   "source": [
    "s[2]"
   ]
  },
  {
   "cell_type": "code",
   "execution_count": 69,
   "metadata": {},
   "outputs": [
    {
     "data": {
      "text/plain": [
       "(176,\n",
       " [{'body': \"{'text': 'наверно ок', 'to': 'еар54463610', 'from': 161389333}\",\n",
       "   'date': 1527952546,\n",
       "   'source': 'vk',\n",
       "   'user_id': '161389333'},\n",
       "  {'body': \"{'text': 'пусть в телеграм зайдет в беседу там все написано.', 'to': 'еар54463610', 'from': 161389333}\",\n",
       "   'date': 1527952536,\n",
       "   'source': 'vk',\n",
       "   'user_id': '161389333'},\n",
       "  {'body': \"{'text': 'Денис, там одна второкурсница, которая у меня занималасьи на всех соервнованиях выступала, никак тебя не может найти, чтобы поставить зачет. А я волнуюсь - а не влепил ли ты ей незачет в ведомость. Поставь пожалуйста, ее зовут Егошина Виктория', 'to': 161389333, 'from': 'еар54463610'}\",\n",
       "   'date': 1527533183,\n",
       "   'source': 'vk',\n",
       "   'user_id': '161389333'}])"
      ]
     },
     "execution_count": 69,
     "metadata": {},
     "output_type": "execute_result"
    }
   ],
   "source": [
    "MYID = 161389333\n",
    "def message_to_log(full_conv):\n",
    "    log = []\n",
    "    user = encrypt_vkid(full_conv[0]['user_id'], vk)\n",
    "    for mes in full_conv:\n",
    "        to, fr = user, user \n",
    "        if mes['from_id'] == mes['user_id']:\n",
    "            to = MYID\n",
    "        else:\n",
    "            fr = MYID\n",
    "        body = {\n",
    "            'from': fr,\n",
    "            'to': to,\n",
    "            'text': mes['body']\n",
    "        }\n",
    "        log.append(add_to_log(\n",
    "            source='vk', id=MYID, date=mes['date'], body=body \n",
    "        ))\n",
    "    return log\n",
    "\n",
    "d = message_to_log(s)\n",
    "len(d), d[:3]"
   ]
  },
  {
   "cell_type": "code",
   "execution_count": null,
   "metadata": {
    "collapsed": true
   },
   "outputs": [],
   "source": []
  },
  {
   "cell_type": "code",
   "execution_count": 79,
   "metadata": {
    "collapsed": true
   },
   "outputs": [],
   "source": [
    "friends = vk.friends.get()['items'][0]"
   ]
  },
  {
   "cell_type": "code",
   "execution_count": null,
   "metadata": {
    "collapsed": true
   },
   "outputs": [],
   "source": []
  },
  {
   "cell_type": "code",
   "execution_count": 63,
   "metadata": {},
   "outputs": [
    {
     "data": {
      "text/plain": [
       "[{'first_name': 'Михаил', 'id': 26903398, 'last_name': 'Стриж'}]"
      ]
     },
     "execution_count": 63,
     "metadata": {},
     "output_type": "execute_result"
    }
   ],
   "source": [
    "vk.users.get(user_ids=26903398)"
   ]
  },
  {
   "cell_type": "code",
   "execution_count": null,
   "metadata": {
    "collapsed": true
   },
   "outputs": [],
   "source": []
  },
  {
   "cell_type": "code",
   "execution_count": 81,
   "metadata": {},
   "outputs": [
    {
     "ename": "ApiError",
     "evalue": "[100] One of the parameters specified was missing or invalid: user_id is deprecated from version 5.14",
     "output_type": "error",
     "traceback": [
      "\u001b[0;31m---------------------------------------------------------------------------\u001b[0m",
      "\u001b[0;31mApiError\u001b[0m                                  Traceback (most recent call last)",
      "\u001b[0;32m<ipython-input-81-16768a1d1e2f>\u001b[0m in \u001b[0;36m<module>\u001b[0;34m()\u001b[0m\n\u001b[0;32m----> 1\u001b[0;31m \u001b[0mvk\u001b[0m\u001b[0;34m.\u001b[0m\u001b[0mmessages\u001b[0m\u001b[0;34m.\u001b[0m\u001b[0mgetDialogs\u001b[0m\u001b[0;34m(\u001b[0m\u001b[0muser_id\u001b[0m\u001b[0;34m=\u001b[0m\u001b[0;36m147706\u001b[0m\u001b[0;34m)\u001b[0m\u001b[0;34m\u001b[0m\u001b[0m\n\u001b[0m",
      "\u001b[0;32m/home/denis/anaconda3/lib/python3.5/site-packages/vk_api/vk_api.py\u001b[0m in \u001b[0;36m__call__\u001b[0;34m(self, **kwargs)\u001b[0m\n\u001b[1;32m    650\u001b[0m \u001b[0;34m\u001b[0m\u001b[0m\n\u001b[1;32m    651\u001b[0m     \u001b[0;32mdef\u001b[0m \u001b[0m__call__\u001b[0m\u001b[0;34m(\u001b[0m\u001b[0mself\u001b[0m\u001b[0;34m,\u001b[0m \u001b[0;34m**\u001b[0m\u001b[0mkwargs\u001b[0m\u001b[0;34m)\u001b[0m\u001b[0;34m:\u001b[0m\u001b[0;34m\u001b[0m\u001b[0m\n\u001b[0;32m--> 652\u001b[0;31m         \u001b[0;32mreturn\u001b[0m \u001b[0mself\u001b[0m\u001b[0;34m.\u001b[0m\u001b[0m_vk\u001b[0m\u001b[0;34m.\u001b[0m\u001b[0mmethod\u001b[0m\u001b[0;34m(\u001b[0m\u001b[0mself\u001b[0m\u001b[0;34m.\u001b[0m\u001b[0m_method\u001b[0m\u001b[0;34m,\u001b[0m \u001b[0mkwargs\u001b[0m\u001b[0;34m)\u001b[0m\u001b[0;34m\u001b[0m\u001b[0m\n\u001b[0m",
      "\u001b[0;32m/home/denis/anaconda3/lib/python3.5/site-packages/vk_api/vk_api.py\u001b[0m in \u001b[0;36mmethod\u001b[0;34m(self, method, values, captcha_sid, captcha_key, raw)\u001b[0m\n\u001b[1;32m    619\u001b[0m                     \u001b[0;32mreturn\u001b[0m \u001b[0mresponse\u001b[0m\u001b[0;34m\u001b[0m\u001b[0m\n\u001b[1;32m    620\u001b[0m \u001b[0;34m\u001b[0m\u001b[0m\n\u001b[0;32m--> 621\u001b[0;31m             \u001b[0;32mraise\u001b[0m \u001b[0merror\u001b[0m\u001b[0;34m\u001b[0m\u001b[0m\n\u001b[0m\u001b[1;32m    622\u001b[0m \u001b[0;34m\u001b[0m\u001b[0m\n\u001b[1;32m    623\u001b[0m         \u001b[0;32mreturn\u001b[0m \u001b[0mresponse\u001b[0m \u001b[0;32mif\u001b[0m \u001b[0mraw\u001b[0m \u001b[0;32melse\u001b[0m \u001b[0mresponse\u001b[0m\u001b[0;34m[\u001b[0m\u001b[0;34m'response'\u001b[0m\u001b[0;34m]\u001b[0m\u001b[0;34m\u001b[0m\u001b[0m\n",
      "\u001b[0;31mApiError\u001b[0m: [100] One of the parameters specified was missing or invalid: user_id is deprecated from version 5.14"
     ]
    }
   ],
   "source": [
    "vk.messages.getDialogs(user_id=147706)"
   ]
  },
  {
   "cell_type": "code",
   "execution_count": 7,
   "metadata": {
    "collapsed": true
   },
   "outputs": [],
   "source": [
    "#vk.messages.getHistory(user_id=147706)"
   ]
  },
  {
   "cell_type": "code",
   "execution_count": 4,
   "metadata": {
    "collapsed": true
   },
   "outputs": [],
   "source": [
    "#vk.messages.getDialogs(id=147706, count=2)"
   ]
  },
  {
   "cell_type": "code",
   "execution_count": 5,
   "metadata": {
    "collapsed": true
   },
   "outputs": [],
   "source": [
    "#vk.messages.getDialogs(pear_id='strizh1525', count=2)"
   ]
  },
  {
   "cell_type": "code",
   "execution_count": 6,
   "metadata": {
    "collapsed": true
   },
   "outputs": [],
   "source": [
    "#vk.messages.get(count=100)"
   ]
  },
  {
   "cell_type": "markdown",
   "metadata": {},
   "source": [
    "# Google fit"
   ]
  },
  {
   "cell_type": "markdown",
   "metadata": {},
   "source": [
    "todo later couse only last 5 monthes. And only steps count "
   ]
  },
  {
   "cell_type": "code",
   "execution_count": 4,
   "metadata": {},
   "outputs": [
    {
     "data": {
      "text/plain": [
       "(15.0, 2.1666666666666665)"
      ]
     },
     "execution_count": 4,
     "metadata": {},
     "output_type": "execute_result"
    }
   ],
   "source": [
    "54000/3600, 7800/3600 #relax activity time for day"
   ]
  },
  {
   "cell_type": "code",
   "execution_count": 41,
   "metadata": {},
   "outputs": [
    {
     "data": {
      "text/plain": [
       "True"
      ]
     },
     "execution_count": 41,
     "metadata": {},
     "output_type": "execute_result"
    }
   ],
   "source": [
    "def powe(a,n):\n",
    "    if n == 0:\n",
    "        return 1\n",
    "    if n == 1:\n",
    "        return a\n",
    "    return powe(a, n//2) * powe(a, n//2) * powe(a, n % 2) \n",
    "\n",
    "34 ** 5 == powe(34, 5)"
   ]
  }
 ],
 "metadata": {
  "kernelspec": {
   "display_name": "Python [default]",
   "language": "python",
   "name": "python3"
  },
  "language_info": {
   "codemirror_mode": {
    "name": "ipython",
    "version": 3
   },
   "file_extension": ".py",
   "mimetype": "text/x-python",
   "name": "python",
   "nbconvert_exporter": "python",
   "pygments_lexer": "ipython3",
   "version": "3.5.3"
  }
 },
 "nbformat": 4,
 "nbformat_minor": 2
}
