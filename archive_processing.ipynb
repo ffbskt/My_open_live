{
 "cells": [
  {
   "cell_type": "code",
   "execution_count": null,
   "metadata": {},
   "outputs": [],
   "source": [
    "import os, re\n",
    "from bs4 import BeautifulSoup\n",
    "import json\n",
    "\n",
    "def find_archive(name):\n",
    "    read_data = []\n",
    "    for file in os.listdir(name):\n",
    "        if file[-4:] == 'html':\n",
    "            print(file)\n",
    "            with open('Keep/' + file, 'r') as f:\n",
    "                read_data.append(f.read())\n",
    "            f.closed\n",
    "    return read_data\n",
    "#find_archive('Keep')"
   ]
  },
  {
   "cell_type": "code",
   "execution_count": null,
   "metadata": {},
   "outputs": [],
   "source": [
    "def add_to_log(source, id, date, body):\n",
    "    log = ({\"source\":source, \"user_id\":str(id), \"date\":date, \n",
    "            \"body\":str(body)})\n",
    "    return log\n",
    "    #write_log(file='Log_raw/Log_raw.txt', log=log)"
   ]
  },
  {
   "cell_type": "code",
   "execution_count": null,
   "metadata": {},
   "outputs": [],
   "source": [
    "import time\n",
    "import datetime\n",
    "DATES = {'января':1, 'февраля':2,'марта':3,'апреля':4,'мая':5,'июня':6,\n",
    " 'июля':7,'августа':8,'сентября':9,'октября':10,'ноября':11,'декабря':12}\n",
    "\n",
    "\n",
    "#def find_time_at_keep(data):\n",
    "#    soup = BeautifulSoup(data, 'html.parser')\n",
    "    \n",
    "#    date = re.findall(string=str(soup.div), pattern='\\d.*\\d+:\\d+:\\d+')\n",
    "#    date = date[0].split()\n",
    "#    date = (str(date[0]) + '/' + str(DATES[date[1]]) +  '/' + str(date[2]) +\n",
    "#             '/' + str(date[4])\n",
    "#           )\n",
    "#    dtime = time.mktime(datetime.datetime.strptime(date, \"%d/%m/%Y/%H:%M:%S\").timetuple())\n",
    "#    return dtime\n",
    "\n",
    "def keep_date_normalize(lines_with_date):\n",
    "    date = re.findall(string=str(lines_with_date), pattern='\\d.*\\d+:\\d+:\\d+')\n",
    "    if len(date) == 0:\n",
    "        return None\n",
    "    date = date[0].split()\n",
    "    date = (str(date[0]) + '/' + str(DATES[date[1]]) +  '/' + str(date[2]) +\n",
    "             '/' + str(date[4])\n",
    "           )\n",
    "    dtime = time.mktime(datetime.datetime.strptime(date, \"%d/%m/%Y/%H:%M:%S\").timetuple())\n",
    "    return dtime\n",
    "    \n",
    "\n",
    "\n",
    "\n",
    "#get back to readable\n",
    "#datetime.datetime.fromtimestamp(dtime).strftime('%Y-%m-%d %H:%M:%S')\n",
    "#find_time_at_keep(read_data[-1])"
   ]
  },
  {
   "cell_type": "code",
   "execution_count": null,
   "metadata": {},
   "outputs": [],
   "source": [
    "def log_from_keep(data_html):\n",
    "    log = []\n",
    "    for data in data_html:\n",
    "        soup = BeautifulSoup(data, 'html.parser')\n",
    "        date = keep_date_normalize(soup.title)\n",
    "        if not date:\n",
    "            date = keep_date_normalize(soup.div)\n",
    "        body = soup.find_all(attrs={\"class\": \"content\"})\n",
    "        body = body[0]\n",
    "        log.append(add_to_log(source='Gkeep_arc', id='my', date=date, \n",
    "                              body=body.contents)\n",
    "                  )\n",
    "    return log\n",
    "print(str(log_from_keep(read_data)))"
   ]
  },
  {
   "cell_type": "code",
   "execution_count": null,
   "metadata": {},
   "outputs": [],
   "source": [
    "def get_all_message(file='Log_raw/Gkeep_arc.txt'):\n",
    "    with open(file, 'r') as dt:\n",
    "        all_mes = dt.read()\n",
    "        dt.close()\n",
    "        return all_mes\n",
    "# text = get_last_message()"
   ]
  },
  {
   "cell_type": "code",
   "execution_count": null,
   "metadata": {},
   "outputs": [],
   "source": [
    "def get_last_date(file='Log_raw/Gkeep_arc.txt'):\n",
    "    try:\n",
    "        last_line = (get_all_message(file=file).split('\\n')[-2])\n",
    "        return json.loads(last_line)['date']\n",
    "    except IndexError:\n",
    "        return 0"
   ]
  },
  {
   "cell_type": "code",
   "execution_count": null,
   "metadata": {},
   "outputs": [],
   "source": [
    "\n",
    "def write_log_new(file='Log_raw/Gkeep_arc.txt', logs=None, new_t=0):\n",
    "    with open(file, 'a') as dt:\n",
    "        for log in logs:\n",
    "            if log['date'] > new_t:\n",
    "                dt.write(json.dumps(log, sort_keys=True) + '\\n')\n",
    "        dt.close()\n"
   ]
  },
  {
   "cell_type": "markdown",
   "metadata": {},
   "source": [
    "# Final function Keep"
   ]
  },
  {
   "cell_type": "code",
   "execution_count": null,
   "metadata": {},
   "outputs": [],
   "source": [
    "log = log_from_keep(find_archive('Keep'))\n",
    "write_log_new(file='Log_raw/Gkeep_arc.txt', logs=log, new_t=get_last_date('Log_raw/Gkeep_arc.txt'))"
   ]
  },
  {
   "cell_type": "code",
   "execution_count": null,
   "metadata": {},
   "outputs": [],
   "source": [
    "read_data[0]\n",
    "for data in read_data:\n",
    "    soup = BeautifulSoup(data, 'html.parser')\n",
    "    date = keep_date_normalize(soup.title)\n",
    "    if not date:\n",
    "        date = keep_date_normalize(soup.div)\n",
    "    body = soup.find_all(attrs={\"class\": \"content\"})\n",
    "    body = body[0]\n",
    "    print(date)\n",
    "    print(body.contents)\n",
    "    \n",
    "    #print(soup.title)\n",
    "    #print(soup.find_all(attrs={\"class\":\"meta-icons\"}))\n",
    "    #print(soup.find_all(attrs={\"class\": \"content\"}))\n",
    "    print()"
   ]
  },
  {
   "cell_type": "code",
   "execution_count": null,
   "metadata": {},
   "outputs": [],
   "source": [
    "soup = BeautifulSoup(read_data[-1], 'html.parser')\n",
    "date = re.findall(string=str(soup.div), pattern='\\d.*\\d+:\\d+:\\d+')\n",
    "date = date[0].split()\n",
    "date = str(date[0]) + '/' + str(dates[date[1]]) +  '/' + str(date[2]) + '/' + str(date[4])\n"
   ]
  },
  {
   "cell_type": "code",
   "execution_count": null,
   "metadata": {},
   "outputs": [],
   "source": [
    "date"
   ]
  },
  {
   "cell_type": "code",
   "execution_count": null,
   "metadata": {},
   "outputs": [],
   "source": [
    "import time\n",
    "import datetime\n",
    "s = date#\"01/12/2011\"\n",
    "dtime = time.mktime(datetime.datetime.strptime(s, \"%d/%m/%Y/%H:%M:%S\").timetuple())"
   ]
  },
  {
   "cell_type": "code",
   "execution_count": null,
   "metadata": {},
   "outputs": [],
   "source": [
    "from bs4 import BeautifulSoup\n",
    "soup = BeautifulSoup(read_data[-1], 'html.parser')\n",
    "\n",
    "#print(soup.prettify())"
   ]
  },
  {
   "cell_type": "code",
   "execution_count": null,
   "metadata": {},
   "outputs": [],
   "source": [
    "soup.title"
   ]
  },
  {
   "cell_type": "code",
   "execution_count": null,
   "metadata": {},
   "outputs": [],
   "source": [
    "soup.div#find_all('div' 'class=\"content\"')"
   ]
  },
  {
   "cell_type": "code",
   "execution_count": null,
   "metadata": {},
   "outputs": [],
   "source": [
    "for i in soup.div.children:\n",
    "    print (i)"
   ]
  },
  {
   "cell_type": "markdown",
   "metadata": {},
   "source": [
    "# Maps"
   ]
  },
  {
   "cell_type": "code",
   "execution_count": 1,
   "metadata": {},
   "outputs": [],
   "source": [
    "import json\n",
    "\n",
    "file = \"Takeout/История местоположений/История местоположений.json\"\n",
    "data = []\n",
    "with open(file, 'r') as f:\n",
    "    data = json.loads(f.read())\n",
    "    f.close()\n",
    "    \n"
   ]
  },
  {
   "cell_type": "markdown",
   "metadata": {
    "collapsed": true
   },
   "source": [
    "## Create basketball SPocket"
   ]
  },
  {
   "cell_type": "code",
   "execution_count": null,
   "metadata": {},
   "outputs": [],
   "source": [
    "#import sys\n",
    "# the mock-0.3.1 dir contains testcase.py, testutils.py & mock.py\n",
    "#sys.path.append('/home/denis/Program/NewLive/lib/')\n",
    "#import location_history_json_converter as loch\n",
    "#loch\n",
    "\n",
    "#from testcase import TestCase\n",
    "#from testutils import RunTests\n",
    "#from mock import Mock, sentinel, patch\n",
    "#def take_"
   ]
  },
  {
   "cell_type": "code",
   "execution_count": 13,
   "metadata": {},
   "outputs": [],
   "source": [
    "import bisect\n",
    "import time\n",
    "import datetime\n",
    "\n",
    "MILS_TO_S = 1e3\n",
    "\n",
    "def precompute_data(data, need_sort=True):\n",
    "    # change data inplace\n",
    "    for point in data:\n",
    "        point['timestampMs'] = int(point['timestampMs']) / MILS_TO_S #to second\n",
    "    if need_sort:\n",
    "        data.sort(key=lambda x: x['timestampMs'])\n",
    "    if len(data) > 1 and data[0]['timestampMs'] > data[1]['timestampMs']:\n",
    "        data = list(reversed(data))\n",
    "    #print (data[0], data_loc_hist[0])\n",
    "    \n",
    "def get_time_key(data):\n",
    "    return [x['timestampMs'] for x in data]\n",
    "\n",
    "def take_period(data, start=\"2000-01-21 16:20:20\", end=\"2013-09-21 16:20:20\"): \n",
    "    #data sorted and reversed location old->new, with keys = [timestampMs, ]\n",
    "    keys = get_time_key(data)\n",
    "    start = time_str_to_int(start) \n",
    "    end = time_str_to_int(end)\n",
    "    i_start, i_end = bisect.bisect_left(keys, start), bisect.bisect_right(keys, end)\n",
    "    print(i_start, i_end, end)\n",
    "    return data[i_start:i_end]\n",
    "    \n",
    "def time_str_to_int(t):\n",
    "    # return seconds\n",
    "    if \":\" in t:\n",
    "        d = datetime.datetime.strptime(t, \"%Y-%m-%d %H:%M:%S\").timestamp()\n",
    "    else:\n",
    "        d = datetime.datetime.strptime(t, \"%Y-%m-%d\").timestamp()\n",
    "    return d #* MILS_TO_S\n",
    "        \n",
    "def time_int_to_str(t):\n",
    "    #t seconds\n",
    "    return datetime.datetime.fromtimestamp(t)"
   ]
  },
  {
   "cell_type": "code",
   "execution_count": null,
   "metadata": {},
   "outputs": [],
   "source": [
    "day = take_period(*precompute_data(bskt_data), start=\"2013-04-02 4:00:00\", end=\"2013-04-03 4:00:00\") "
   ]
  },
  {
   "cell_type": "code",
   "execution_count": 4,
   "metadata": {},
   "outputs": [
    {
     "data": {
      "text/plain": [
       "{'accuracy': 24,\n",
       " 'latitudeE7': 558488193,\n",
       " 'longitudeE7': 374864498,\n",
       " 'timestampMs': '1526652148901'}"
      ]
     },
     "execution_count": 4,
     "metadata": {},
     "output_type": "execute_result"
    }
   ],
   "source": [
    "data['locations'][0]"
   ]
  },
  {
   "cell_type": "code",
   "execution_count": 6,
   "metadata": {},
   "outputs": [
    {
     "name": "stdout",
     "output_type": "stream",
     "text": [
      "2 90198 1380571200.0\n"
     ]
    }
   ],
   "source": [
    "precompute_data(data['locations'])\n",
    "#keys = get_time_key(data['locations'])\n",
    "bskt_data = take_period(data['locations'], end=\"2013-10-01\")"
   ]
  },
  {
   "cell_type": "code",
   "execution_count": 8,
   "metadata": {},
   "outputs": [
    {
     "data": {
      "text/plain": [
       "{'accuracy': 777,\n",
       " 'latitudeE7': 557719613,\n",
       " 'longitudeE7': 376558166,\n",
       " 'timestampMs': 1364810473.086}"
      ]
     },
     "execution_count": 8,
     "metadata": {},
     "output_type": "execute_result"
    }
   ],
   "source": [
    "bskt_data[0]"
   ]
  },
  {
   "cell_type": "markdown",
   "metadata": {},
   "source": [
    "## Kmeans classification of places"
   ]
  },
  {
   "cell_type": "markdown",
   "metadata": {},
   "source": [
    "Problem that we have places where I usualy be (center of classes) and traectory beetwen this place, but Kmeans look at way between classes as class or give middle point between multiple classes and trajectorys. As example: (Kooperativnaya Ulitsa, 66, Yamkino, Moskovskaya oblast', Russia, 142430)   "
   ]
  },
  {
   "cell_type": "code",
   "execution_count": null,
   "metadata": {},
   "outputs": [],
   "source": [
    "array = np.zeros([90196, 2])\n",
    "array.shape\n",
    "for i, point in enumerate(bskt_data):\n",
    "    array[i, 0] = point['latitudeE7'] / 1e7\n",
    "    array[i, 1] = point['longitudeE7'] / 1e7"
   ]
  },
  {
   "cell_type": "code",
   "execution_count": null,
   "metadata": {},
   "outputs": [],
   "source": [
    "kmeans = KMeans(n_clusters=10, random_state=0).fit(array)"
   ]
  },
  {
   "cell_type": "code",
   "execution_count": null,
   "metadata": {},
   "outputs": [],
   "source": [
    "my_places = {}\n",
    "for places in kmeans.cluster_centers_:\n",
    "    my_places[get_place(*places)] = places"
   ]
  },
  {
   "cell_type": "markdown",
   "metadata": {},
   "source": [
    "### Get street by google api"
   ]
  },
  {
   "cell_type": "code",
   "execution_count": 20,
   "metadata": {},
   "outputs": [
    {
     "ename": "FileNotFoundError",
     "evalue": "[Errno 2] No such file or directory: '/home/denis/sensitive_data.py'",
     "output_type": "error",
     "traceback": [
      "\u001b[0;31m---------------------------------------------------------------------------\u001b[0m",
      "\u001b[0;31mFileNotFoundError\u001b[0m                         Traceback (most recent call last)",
      "\u001b[0;32m<ipython-input-20-3231d94fc558>\u001b[0m in \u001b[0;36m<module>\u001b[0;34m()\u001b[0m\n\u001b[1;32m      1\u001b[0m \u001b[0;32mimport\u001b[0m \u001b[0mrequests\u001b[0m\u001b[0;34m\u001b[0m\u001b[0m\n\u001b[1;32m      2\u001b[0m \u001b[0;34m\u001b[0m\u001b[0m\n\u001b[0;32m----> 3\u001b[0;31m \u001b[0;32mwith\u001b[0m \u001b[0mopen\u001b[0m\u001b[0;34m(\u001b[0m\u001b[0;34m\"/home/denis/sensitive_data.py\"\u001b[0m\u001b[0;34m,\u001b[0m \u001b[0;34m\"r\"\u001b[0m\u001b[0;34m)\u001b[0m \u001b[0;32mas\u001b[0m \u001b[0mf\u001b[0m\u001b[0;34m:\u001b[0m\u001b[0;34m\u001b[0m\u001b[0m\n\u001b[0m\u001b[1;32m      4\u001b[0m     \u001b[0mGCkey\u001b[0m \u001b[0;34m=\u001b[0m \u001b[0mjson\u001b[0m\u001b[0;34m.\u001b[0m\u001b[0mloads\u001b[0m\u001b[0;34m(\u001b[0m\u001b[0mf\u001b[0m\u001b[0;34m.\u001b[0m\u001b[0mread\u001b[0m\u001b[0;34m(\u001b[0m\u001b[0;34m)\u001b[0m\u001b[0;34m)\u001b[0m\u001b[0;34m[\u001b[0m\u001b[0;34m'GEOCODINGAPI'\u001b[0m\u001b[0;34m]\u001b[0m\u001b[0;34m\u001b[0m\u001b[0m\n\u001b[1;32m      5\u001b[0m     \u001b[0mf\u001b[0m\u001b[0;34m.\u001b[0m\u001b[0mclose\u001b[0m\u001b[0;34m(\u001b[0m\u001b[0;34m)\u001b[0m\u001b[0;34m\u001b[0m\u001b[0m\n",
      "\u001b[0;31mFileNotFoundError\u001b[0m: [Errno 2] No such file or directory: '/home/denis/sensitive_data.py'"
     ]
    }
   ],
   "source": [
    "import requests\n",
    "\n",
    "with open(\"/home/denis/sensitive_data.py\", \"r\") as f:\n",
    "    GCkey = json.loads(f.read())['GEOCODINGAPI']\n",
    "    f.close()\n",
    "lat = 55.57684638\n",
    "lon = 38.2220405\n"
   ]
  },
  {
   "cell_type": "code",
   "execution_count": null,
   "metadata": {},
   "outputs": [],
   "source": [
    "def get_place(lat, lon):\n",
    "    req = \"https://maps.googleapis.com/maps/api/geocode/json?latlng={},{}&key={}\".format(lat, lon, GCkey)\n",
    "    ans = json.loads(requests.get(req).text)\n",
    "    return (ans['results'][0]['formatted_address'])"
   ]
  },
  {
   "cell_type": "code",
   "execution_count": null,
   "metadata": {},
   "outputs": [],
   "source": [
    "my_places"
   ]
  },
  {
   "cell_type": "markdown",
   "metadata": {},
   "source": [
    "## Use hash_table for fast complete.  "
   ]
  },
  {
   "cell_type": "code",
   "execution_count": null,
   "metadata": {},
   "outputs": [],
   "source": [
    "k"
   ]
  },
  {
   "cell_type": "code",
   "execution_count": 11,
   "metadata": {},
   "outputs": [],
   "source": [
    "import math\n",
    "import numpy as np\n",
    "def getDistanceFromLatLonInKm(lat1,lon1,lat2,lon2):\n",
    "    R = 6371 # Radius of the earth in km\n",
    "    dlat = deg2rad(lat2-lat1)\n",
    "    dlon = deg2rad(lon2-lon1)\n",
    "    a = math.sin(dlat/2) * math.sin(dlat/2) + \\\n",
    "    math.cos(deg2rad(lat1)) * math.cos(deg2rad(lat2)) * \\\n",
    "    math.sin(dlon/2) * math.sin(dlon/2)\n",
    "    c = 2 * math.atan2(math.sqrt(a), math.sqrt(1-a))\n",
    "    d = R * c # Distance in km\n",
    "    return d\n",
    "\n",
    "\n",
    "def deg2rad(deg):\n",
    "    return deg * (math.pi/180)"
   ]
  },
  {
   "cell_type": "code",
   "execution_count": 12,
   "metadata": {},
   "outputs": [],
   "source": [
    "def grad_speed(a, b):\n",
    "    S = getDistanceFromLatLonInKm(a['latitudeE7'] / 1e7, a['longitudeE7'] / 1e7,\n",
    "                                  b['latitudeE7'] / 1e7, b['longitudeE7'] / 1e7)\n",
    "    t = (int(b['timestampMs']) - int(a['timestampMs']))/3600\n",
    "    return S, t, S/t"
   ]
  },
  {
   "cell_type": "code",
   "execution_count": 21,
   "metadata": {},
   "outputs": [
    {
     "name": "stdout",
     "output_type": "stream",
     "text": [
      "327 834 1364947200.0\n"
     ]
    }
   ],
   "source": [
    "import copy\n",
    "day = take_period(bskt_data, start=\"2013-04-02 4:00:00\", end=\"2013-04-03 4:00:00\") \n",
    "    \n",
    "\n",
    "def add_vaules_to_data(data_initial): #add next day\n",
    "    data = copy.deepcopy(data_initial)\n",
    "    for i in range(len(data[:-1])):\n",
    "        distant, t, speed = grad_speed(data[i], data[i + 1])\n",
    "        data[i]['grad_speed'] = speed\n",
    "        data[i]['distant'] = distant\n",
    "        #data[i]['timestampMs'] = int(data[i]['timestampMs']) / 1e3\n",
    "        #if i + 2 >= len(data):\n",
    "        #    data[i]['move_forward'] = 0\n",
    "        #    data[i + 1]['move_forward'] = 0\n",
    "        #else:\n",
    "        #     data[i]['move_forward'] = grad_speed(data[i], data[i + 2])[0] - distant\n",
    "        data[i]['duration_s'] = data[i + 1]['timestampMs'] - data[i]['timestampMs']\n",
    "    last_ind = len(data) - 1\n",
    "    data[last_ind]['grad_speed'] = data[last_ind - 1]['grad_speed']\n",
    "    data[last_ind]['duration_s'] = 20 #last duration\n",
    "    data[last_ind]['distant'] = distant\n",
    "    return data\n",
    "        \n",
    "cd = add_vaules_to_data(day)"
   ]
  },
  {
   "cell_type": "markdown",
   "metadata": {},
   "source": [
    "Check our data"
   ]
  },
  {
   "cell_type": "code",
   "execution_count": 22,
   "metadata": {},
   "outputs": [
    {
     "data": {
      "text/plain": [
       "defaultdict(<function __main__.<lambda>>,\n",
       "            {'ALL_DISTANT': 96.06952826246827,\n",
       "             'ALL_POINTS': 507,\n",
       "             'ALL_TIME': 62360.236000061035,\n",
       "             'IN_VEHICLE': 17,\n",
       "             'Noact': 247,\n",
       "             'ON_BICYCLE': 1,\n",
       "             'ON_FOOT': 11,\n",
       "             'STILL': 231,\n",
       "             'stable_': 49375.86399936676,\n",
       "             'transport': 7371.649000644684,\n",
       "             'walk_run_b': 5612.723000049591})"
      ]
     },
     "execution_count": 22,
     "metadata": {},
     "output_type": "execute_result"
    }
   ],
   "source": [
    "from collections import defaultdict\n",
    "k = defaultdict(lambda: 0)\n",
    "#k.setdefault()\n",
    "\n",
    "action = 'stable'\n",
    "for p in cd:\n",
    "    #print(p)\n",
    "    if 'activity' in p:\n",
    "        if len(p['activity']) > 1:\n",
    "            print(p['activity'])\n",
    "        k[p['activity'][0]['activity'][0]['type']] += 1\n",
    "    else:\n",
    "        k['Noact'] += 1\n",
    "    #if p['move_forward'] < 0:\n",
    "    #    k['returns_point'] += 1\n",
    "    if p['grad_speed'] < 2:\n",
    "        k['stable_'] += p['duration_s']\n",
    "    if 2 <= p['grad_speed'] < 17:\n",
    "        k['walk_run_b'] += p['duration_s']\n",
    "    if p['grad_speed'] >= 17:\n",
    "        k['transport'] += p['duration_s']\n",
    "    k['ALL_TIME'] += p['duration_s']\n",
    "    k['ALL_DISTANT'] += p['distant']\n",
    "k['ALL_POINTS'] = len(cd)\n",
    "    \n",
    "k"
   ]
  },
  {
   "cell_type": "code",
   "execution_count": 26,
   "metadata": {},
   "outputs": [],
   "source": [
    "class Day:\n",
    "    def __init__(self, data, last_compresed_action=None):\n",
    "        #self.last_action = 'stable_'\n",
    "        #self.last_point = last_point\n",
    "        self.data = data\n",
    "        self.compressed_data = []\n",
    "        if last_compresed_action is not None:\n",
    "            self.compressed_data.append(last_compresed_action)\n",
    "        #self.activity_names = {}\n",
    "        \n",
    "    def compres_data(self):\n",
    "        for point in self.data:\n",
    "            if (len(self.compressed_data) > 0 and \n",
    "                self.get_action_type(point) == self.compressed_data[-1]['action_type']\n",
    "               ):\n",
    "                self.compressed_data[-1]['duration'] += point['duration_s']\n",
    "                self.compressed_data[-1]['finish_loc'] = (point['latitudeE7'], point['longitudeE7'])\n",
    "                self.compressed_data[-1]['distant'] += point['distant']\n",
    "                self.compressed_data[-1]['n_points'] += 1\n",
    "                #action['average_speed'] \n",
    "            else:\n",
    "                #self.compressed_data[-1]['duration'] = point['duration_s']\n",
    "                #self.compressed_data[-1]['finish_loc'] = (point['latitudeE7'], point['longitudeE7'])\n",
    "                action = {}#defaultdict(lambda: 0)\n",
    "                action['start_time'] = point['timestampMs']\n",
    "                action['start_loc'] = (point['latitudeE7'], point['longitudeE7'])\n",
    "                action['finish_loc'] = None\n",
    "                action['duration'] = point['duration_s']\n",
    "                action['action_type'] = self.get_action_type(point)\n",
    "                action['distant'] = point['distant']\n",
    "                action['n_points'] = 1\n",
    "                #action['average_speed'] = point['grad_speed']\n",
    "                self.compressed_data.append(action)\n",
    "                #self.last_point = point\n",
    "                               \n",
    "    def get_action_type(self, point):\n",
    "        if point is None:\n",
    "            return '-1'\n",
    "        #if point['move_forward'] < 0:\n",
    "        #    print (point['grad_speed'], point['timestampMs'])\n",
    "        #    k['returns_point'] += 1\n",
    "        if 0 <= point['grad_speed'] < 2:\n",
    "            return 'stable_'\n",
    "        if 2 <= point['grad_speed'] < 17:\n",
    "            return 'walk_run_b'\n",
    "        if point['grad_speed'] >= 17:\n",
    "            return 'transport'\n",
    "        #print('---', point['grad_speed'])\n",
    "\n",
    "D = Day(cd)\n",
    "D.compressed_data\n",
    "D.compres_data()"
   ]
  },
  {
   "cell_type": "code",
   "execution_count": 31,
   "metadata": {},
   "outputs": [
    {
     "name": "stdout",
     "output_type": "stream",
     "text": [
      "stable_ 0.3124570845025274\n",
      "2013-04-02 06:21:03.542000 \n",
      "\n",
      "walk_run_b 0.2633465815255785\n",
      "2013-04-02 10:36:04.099000 \n",
      "\n",
      "stable_ 0.0\n",
      "2013-04-02 10:39:04.211000 \n",
      "\n",
      "walk_run_b 0.1555852521578755\n",
      "2013-04-02 10:40:04.228000 \n",
      "\n",
      "stable_ 0.0\n",
      "2013-04-02 10:44:04.355000 \n",
      "\n",
      "walk_run_b 0.07779262604432419\n",
      "2013-04-02 10:46:04.428000 \n",
      "\n",
      "stable_ 0.0\n",
      "2013-04-02 10:47:04.834000 \n",
      "\n",
      "walk_run_b 0.45228196375850893\n",
      "2013-04-02 11:37:09.860000 \n",
      "\n",
      "transport 0.4521981033982205\n",
      "2013-04-02 11:39:10.603000 \n",
      "\n",
      "stable_ 0.07779262604432419\n",
      "2013-04-02 11:40:10.686000 \n",
      "\n",
      "walk_run_b 0.07779262604432419\n",
      "2013-04-02 12:27:12.791000 \n",
      "\n",
      "stable_ 0.0\n",
      "2013-04-02 12:28:12.839000 \n",
      "\n",
      "walk_run_b 0.15558525208864837\n",
      "2013-04-02 13:10:05.762000 \n",
      "\n",
      "stable_ 0.0\n",
      "2013-04-02 13:13:05.838000 \n",
      "\n",
      "walk_run_b 0.07779262604432419\n",
      "2013-04-02 13:48:08.925000 \n",
      "\n",
      "stable_ 0.0\n",
      "2013-04-02 13:49:09.503000 \n",
      "\n",
      "walk_run_b 0.3550503679213347\n",
      "2013-04-02 17:45:08.971000 \n",
      "\n",
      "stable_ 0.0\n",
      "2013-04-02 17:48:09.705000 \n",
      "\n",
      "walk_run_b 0.38903359096084356\n",
      "2013-04-02 17:50:09.907000 \n",
      "\n",
      "stable_ 0.0\n",
      "2013-04-02 17:53:09.995000 \n",
      "\n",
      "transport 0.3074805611282018\n",
      "2013-04-02 17:54:10.040000 \n",
      "\n",
      "walk_run_b 0.3036868858780226\n",
      "2013-04-02 17:55:11.552000 \n",
      "\n",
      "transport 3.054807426487064\n",
      "2013-04-02 17:57:10.277000 \n",
      "\n",
      "walk_run_b 1.5785395952508778\n",
      "2013-04-02 18:02:06.080000 \n",
      "\n",
      "stable_ 0.0\n",
      "2013-04-02 18:08:06.462000 \n",
      "\n",
      "transport 14.94912368871639\n",
      "2013-04-02 18:10:04.602000 \n",
      "\n",
      "walk_run_b 0.3827607156696188\n",
      "2013-04-02 18:26:24.992000 \n",
      "\n",
      "transport 13.409057704047537\n",
      "2013-04-02 18:28:11.936000 \n",
      "\n",
      "stable_ 0.0\n",
      "2013-04-02 18:51:16.474000 \n",
      "\n",
      "transport 0.5189356843008165\n",
      "2013-04-02 18:53:13.671000 \n",
      "\n",
      "stable_ 0.0\n",
      "2013-04-02 18:54:15.742000 \n",
      "\n",
      "walk_run_b 0.23926636005677684\n",
      "2013-04-02 19:02:13.949000 \n",
      "\n",
      "transport 1.9926765590751676\n",
      "2013-04-02 19:03:17.482000 \n",
      "\n",
      "stable_ 0.0\n",
      "2013-04-02 19:08:20.587000 \n",
      "\n",
      "transport 0.8678618358114623\n",
      "2013-04-02 19:13:19.746000 \n",
      "\n",
      "stable_ 0.010370449534508774\n",
      "2013-04-02 19:16:21.142000 \n",
      "\n",
      "walk_run_b 0.7384974629534543\n",
      "2013-04-02 19:18:21.767000 \n",
      "\n",
      "stable_ 0.0\n",
      "2013-04-02 19:24:21.054000 \n",
      "\n",
      "transport 0.36774833201788765\n",
      "2013-04-02 19:27:21.123000 \n",
      "\n",
      "walk_run_b 0.36774833201788765\n",
      "2013-04-02 19:28:21.127000 \n",
      "\n",
      "stable_ 0.0\n",
      "2013-04-02 19:30:41.197000 \n",
      "\n",
      "transport 2.0885724965084784\n",
      "2013-04-02 19:37:22.685000 \n",
      "\n",
      "walk_run_b 0.4938475032039366\n",
      "2013-04-02 19:43:23.885000 \n",
      "\n",
      "stable_ 0.0\n",
      "2013-04-02 19:47:24.113000 \n",
      "\n",
      "walk_run_b 0.4938378944993528\n",
      "2013-04-02 19:59:24.890000 \n",
      "\n",
      "stable_ 0.0\n",
      "2013-04-02 20:01:24.946000 \n",
      "\n",
      "walk_run_b 0.987685397859765\n",
      "2013-04-02 20:02:25.843000 \n",
      "\n",
      "stable_ 0.0\n",
      "2013-04-02 20:06:26.520000 \n",
      "\n",
      "walk_run_b 0.9876757893116566\n",
      "2013-04-02 20:07:26.558000 \n",
      "\n",
      "stable_ 0.0\n",
      "2013-04-02 20:12:27.325000 \n",
      "\n",
      "walk_run_b 0.9876757893116566\n",
      "2013-04-02 20:28:10.936000 \n",
      "\n",
      "stable_ 0.0\n",
      "2013-04-02 20:33:11.549000 \n",
      "\n",
      "transport 0.4938378944993528\n",
      "2013-04-02 20:43:11.863000 \n",
      "\n",
      "stable_ 0.0\n",
      "2013-04-02 20:44:11.896000 \n",
      "\n",
      "transport 0.4938378944993528\n",
      "2013-04-02 20:46:11.955000 \n",
      "\n",
      "stable_ 0.0\n",
      "2013-04-02 20:47:11.986000 \n",
      "\n",
      "walk_run_b 0.2469237516019683\n",
      "2013-04-02 20:48:12.571000 \n",
      "\n",
      "stable_ 0.0\n",
      "2013-04-02 20:49:12.649000 \n",
      "\n",
      "walk_run_b 0.2469237516019683\n",
      "2013-04-02 20:50:12.731000 \n",
      "\n",
      "stable_ 0.0\n",
      "2013-04-02 20:51:12.740000 \n",
      "\n",
      "transport 0.4938378944993528\n",
      "2013-04-02 20:58:13.361000 \n",
      "\n",
      "walk_run_b 0.9876661807635483\n",
      "2013-04-02 20:59:13.486000 \n",
      "\n",
      "stable_ 0.0\n",
      "2013-04-02 21:06:13.826000 \n",
      "\n",
      "walk_run_b 0.4938378944993528\n",
      "2013-04-02 21:09:13.901000 \n",
      "\n",
      "stable_ 0.0\n",
      "2013-04-02 21:12:13.980000 \n",
      "\n",
      "transport 3.2980045877339337\n",
      "2013-04-02 21:24:15.668000 \n",
      "\n",
      "walk_run_b 0.607036040944407\n",
      "2013-04-02 21:30:16.863000 \n",
      "\n",
      "stable_ 0.0\n",
      "2013-04-02 21:34:17.017000 \n",
      "\n",
      "walk_run_b 0.24691414305385997\n",
      "2013-04-02 21:35:17.723000 \n",
      "\n",
      "stable_ 0.0\n",
      "2013-04-02 21:37:17.743000 \n",
      "\n",
      "walk_run_b 0.5395028699373398\n",
      "2013-04-02 21:38:17.800000 \n",
      "\n",
      "transport 0.7119934844850139\n",
      "2013-04-02 21:40:23.134000 \n",
      "\n",
      "stable_ 0.0\n",
      "2013-04-02 21:42:18.460000 \n",
      "\n",
      "transport 4.388755947689612\n",
      "2013-04-02 21:43:18.559000 \n",
      "\n",
      "walk_run_b 0.6687370740198062\n",
      "2013-04-02 21:49:21.500000 \n",
      "\n",
      "stable_ 0.0\n",
      "2013-04-02 21:52:19.676000 \n",
      "\n",
      "transport 8.91589879162494\n",
      "2013-04-02 21:56:22.672000 \n",
      "\n",
      "walk_run_b 0.06881075082285824\n",
      "2013-04-02 22:07:24.028000 \n",
      "\n",
      "transport 3.485296994752112\n",
      "2013-04-02 22:08:24.053000 \n",
      "\n",
      "walk_run_b 0.2611546202232785\n",
      "2013-04-02 22:14:27.164000 \n",
      "\n",
      "transport 0.6944867589860702\n",
      "2013-04-02 22:15:27.917000 \n",
      "\n",
      "walk_run_b 0.4056612231310836\n",
      "2013-04-02 22:16:29.628000 \n",
      "\n",
      "transport 5.327962139677571\n",
      "2013-04-02 22:19:27.636000 \n",
      "\n",
      "stable_ 0.0\n",
      "2013-04-02 22:24:29.855000 \n",
      "\n",
      "transport 5.2315692242975125\n",
      "2013-04-02 22:25:27.827000 \n",
      "\n",
      "stable_ 0.0\n",
      "2013-04-02 22:30:31.700000 \n",
      "\n",
      "transport 2.990898448437551\n",
      "2013-04-02 22:33:29.457000 \n",
      "\n",
      "stable_ 0.0\n",
      "2013-04-02 22:39:30.864000 \n",
      "\n",
      "walk_run_b 0.14137760517912756\n",
      "2013-04-02 22:41:30.888000 \n",
      "\n",
      "stable_ 0.0\n",
      "2013-04-02 22:42:30.906000 \n",
      "\n",
      "transport 4.111782779765108\n",
      "2013-04-02 22:43:30.953000 \n",
      "\n",
      "stable_ 0.06377963873863281\n",
      "2013-04-02 22:49:32.141000 \n",
      "\n",
      "transport 0.8421934090793741\n",
      "2013-04-02 22:52:31.252000 \n",
      "\n",
      "stable_ 0.03262307480445507\n",
      "2013-04-02 22:53:33.616000 \n",
      "\n",
      "transport 0.3474846180254457\n",
      "2013-04-02 22:57:31.452000 \n",
      "\n",
      "stable_ 0.1605816000595977\n",
      "2013-04-02 22:58:31.500000 \n",
      "\n",
      "walk_run_b 0.18740034724016905\n",
      "2013-04-02 23:08:07.567000 \n",
      "\n",
      "stable_ 0.0\n",
      "2013-04-02 23:09:07.601000 \n",
      "\n",
      "transport 0.4621953489976972\n",
      "2013-04-02 23:36:03.658000 \n",
      "\n",
      "walk_run_b 0.4459963146654825\n",
      "2013-04-02 23:37:08.277000 \n",
      "\n"
     ]
    }
   ],
   "source": [
    "for d in D.compressed_data:\n",
    "    print (d['action_type'], d['distant'])\n",
    "    print (time_int_to_str(d['start_time']), '\\n' )\n",
    "# todo undartand where really stable and where  "
   ]
  },
  {
   "cell_type": "code",
   "execution_count": 34,
   "metadata": {},
   "outputs": [
    {
     "data": {
      "text/plain": [
       "(507, 100)"
      ]
     },
     "execution_count": 34,
     "metadata": {},
     "output_type": "execute_result"
    }
   ],
   "source": [
    "len(cd), len(D.compressed_data)"
   ]
  },
  {
   "cell_type": "markdown",
   "metadata": {},
   "source": [
    "# Google fit"
   ]
  },
  {
   "cell_type": "code",
   "execution_count": 38,
   "metadata": {},
   "outputs": [
    {
     "data": {
      "text/plain": [
       "0"
      ]
     },
     "execution_count": 38,
     "metadata": {},
     "output_type": "execute_result"
    }
   ],
   "source": [
    "1 // 2"
   ]
  },
  {
   "cell_type": "code",
   "execution_count": 41,
   "metadata": {},
   "outputs": [
    {
     "data": {
      "text/plain": [
       "True"
      ]
     },
     "execution_count": 41,
     "metadata": {},
     "output_type": "execute_result"
    }
   ],
   "source": [
    "def powe(a,n):\n",
    "    if n == 0:\n",
    "        return 1\n",
    "    if n == 1:\n",
    "        return a\n",
    "    return powe(a, n//2) * powe(a, n//2) * powe(a, n % 2) \n",
    "\n",
    "34 ** 5 == powe(34, 5)"
   ]
  }
 ],
 "metadata": {
  "kernelspec": {
   "display_name": "Python 3",
   "language": "python",
   "name": "python3"
  },
  "language_info": {
   "codemirror_mode": {
    "name": "ipython",
    "version": 3
   },
   "file_extension": ".py",
   "mimetype": "text/x-python",
   "name": "python",
   "nbconvert_exporter": "python",
   "pygments_lexer": "ipython3",
   "version": "3.6.4"
  }
 },
 "nbformat": 4,
 "nbformat_minor": 2
}
