{
 "cells": [
  {
   "cell_type": "code",
   "execution_count": 1,
   "metadata": {
    "collapsed": true
   },
   "outputs": [],
   "source": [
    "def write_log(file='Log_raw/Log_raw.txt', log='none'):\n",
    "    with open(file, 'a') as dt:\n",
    "        dt.write(log+ '\\n')\n",
    "        dt.close()\n",
    "\n",
    "#write_log(log='123')"
   ]
  },
  {
   "cell_type": "code",
   "execution_count": 3,
   "metadata": {},
   "outputs": [],
   "source": [
    "from sensitive_data import TELEGRAM\n",
    "from telethon import TelegramClient\n",
    "\n",
    "chat_id = '@t1e2s3t4345bot'\n",
    "api_id = TELEGRAM['api_id'] \n",
    "api_hash = TELEGRAM['api_hash']\n",
    "\n"
   ]
  },
  {
   "cell_type": "code",
   "execution_count": 4,
   "metadata": {},
   "outputs": [
    {
     "data": {
      "text/plain": [
       "<telethon.telegram_client.TelegramClient at 0x7ff986b32128>"
      ]
     },
     "execution_count": 4,
     "metadata": {},
     "output_type": "execute_result"
    }
   ],
   "source": [
    "client = TelegramClient('session_name', api_id, api_hash)\n",
    "client.start()"
   ]
  },
  {
   "cell_type": "code",
   "execution_count": 19,
   "metadata": {},
   "outputs": [],
   "source": [
    "#from telethon import utils\n",
    "#for message in client.iter_messages('@t1e2s3t4345bot', limit=10):\n",
    "#    print(utils.get_display_name(message.sender), message.message)"
   ]
  },
  {
   "cell_type": "code",
   "execution_count": 5,
   "metadata": {},
   "outputs": [],
   "source": [
    "list_mes = client.get_messages('@t1e2s3t4345bot', limit=1)"
   ]
  },
  {
   "cell_type": "code",
   "execution_count": 6,
   "metadata": {
    "collapsed": true
   },
   "outputs": [],
   "source": [
    "for mes in reversed(list_mes):\n",
    "    d = mes.to_dict()\n",
    "    log = {\"source\":chat_id, \"user_id\":d['from_id'], \n",
    "           \"date\":d['date'].timestamp(), \n",
    "           \"body\":d['message']}\n",
    "    write_log(log=str(log))"
   ]
  },
  {
   "cell_type": "code",
   "execution_count": null,
   "metadata": {
    "collapsed": true
   },
   "outputs": [],
   "source": []
  }
 ],
 "metadata": {
  "kernelspec": {
   "display_name": "Python [conda env:anaconda3]",
   "language": "python",
   "name": "conda-env-anaconda3-py"
  },
  "language_info": {
   "codemirror_mode": {
    "name": "ipython",
    "version": 3
   },
   "file_extension": ".py",
   "mimetype": "text/x-python",
   "name": "python",
   "nbconvert_exporter": "python",
   "pygments_lexer": "ipython3",
   "version": "3.5.3"
  }
 },
 "nbformat": 4,
 "nbformat_minor": 2
}
