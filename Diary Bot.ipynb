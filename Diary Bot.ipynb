{
 "cells": [
  {
   "cell_type": "markdown",
   "metadata": {},
   "source": [
    "## Bot read last message and put to folder (from chat_id)"
   ]
  },
  {
   "cell_type": "markdown",
   "metadata": {},
   "source": [
    "Load telegram client (for russia need vpn on computer)"
   ]
  },
  {
   "cell_type": "code",
   "execution_count": 15,
   "metadata": {},
   "outputs": [],
   "source": [
    "import json\n",
    "\n",
    "# load logins\n",
    "#Example\n",
    "#{\"TELEGRAM\":{\"Bot1test1\":\"11..:AA...\", \"api_id\":11.., \"api_hash\":\"4...1\"}}\n",
    "\n",
    "TELEGRAM = {}\n",
    "with open(\"/home/denis/sensitive_data.py\", \"r\") as f:\n",
    "    TELEGRAM = json.loads(f.read())['TELEGRAM']\n",
    "    f.close()"
   ]
  },
  {
   "cell_type": "code",
   "execution_count": 14,
   "metadata": {},
   "outputs": [],
   "source": [
    "from telethon import TelegramClient\n",
    "\n",
    "chat_id = '@t1e2s3t4345bot'\n",
    "api_id = TELEGRAM['api_id'] \n",
    "api_hash = TELEGRAM['api_hash']\n",
    "\n"
   ]
  },
  {
   "cell_type": "code",
   "execution_count": null,
   "metadata": {
    "collapsed": true
   },
   "outputs": [],
   "source": [
    "client = TelegramClient('session_name', api_id, api_hash)\n",
    "client.start()"
   ]
  },
  {
   "cell_type": "markdown",
   "metadata": {},
   "source": [
    "read last 100 messages and find last message in log then add older message at json format with '\\n' delimetr"
   ]
  },
  {
   "cell_type": "code",
   "execution_count": null,
   "metadata": {
    "collapsed": true
   },
   "outputs": [],
   "source": [
    "def get_mes(client=client, chat_id=chat_id, limit=100):\n",
    "    list_mes = client.get_messages(chat_id, limit=limit)\n",
    "    logs = []\n",
    "    for mes in reversed(list_mes):\n",
    "        d = mes.to_dict()\n",
    "        log = {\"source\":chat_id, \"user_id\":d['from_id'], \n",
    "               \"date\":d['date'].timestamp(), \n",
    "               \"body\":d['message']}\n",
    "        logs.append(log)\n",
    "    return logs"
   ]
  },
  {
   "cell_type": "code",
   "execution_count": null,
   "metadata": {
    "collapsed": true
   },
   "outputs": [],
   "source": [
    "def get_all_message(file='Log_raw/Diary_telebot.txt'):\n",
    "    with open(file, 'r') as dt:\n",
    "        all_mes = dt.read()\n",
    "        dt.close()\n",
    "        return all_mes\n",
    "# text = get_last_message()"
   ]
  },
  {
   "cell_type": "code",
   "execution_count": null,
   "metadata": {
    "collapsed": true
   },
   "outputs": [],
   "source": [
    "\n",
    "def get_last_date(file='Log_raw/Diary_telebot.txt'):\n",
    "    last_line = (get_all_message(file=file).split('\\n')[-2])\n",
    "    return json.loads(last_line)['date']\n",
    "\n",
    "#get_last_date()"
   ]
  },
  {
   "cell_type": "code",
   "execution_count": null,
   "metadata": {
    "collapsed": true
   },
   "outputs": [],
   "source": [
    "\n",
    "def write_log_new(file='Log_raw/Diary_telebot.txt', logs=None, new_t=0):\n",
    "    with open(file, 'a') as dt:\n",
    "        for log in logs:\n",
    "            if log['date'] > new_t:\n",
    "                dt.write(json.dumps(log, sort_keys=True) + '\\n')\n",
    "        dt.close()\n",
    "\n",
    "#write_log(log={'a':'asd', 's':1})"
   ]
  },
  {
   "cell_type": "code",
   "execution_count": null,
   "metadata": {
    "collapsed": true
   },
   "outputs": [],
   "source": [
    "write_log_new(logs=get_mes(), new_t=get_last_date())"
   ]
  },
  {
   "cell_type": "markdown",
   "metadata": {},
   "source": [
    "## Add log to git diary"
   ]
  },
  {
   "cell_type": "markdown",
   "metadata": {},
   "source": [
    "I afraid do note need it yet."
   ]
  },
  {
   "cell_type": "code",
   "execution_count": null,
   "metadata": {
    "collapsed": true
   },
   "outputs": [],
   "source": [
    "import time\n",
    "localtime = time.asctime( time.localtime(time.time()) )\n",
    "localtime"
   ]
  },
  {
   "cell_type": "code",
   "execution_count": null,
   "metadata": {
    "collapsed": true
   },
   "outputs": [],
   "source": [
    "from subprocess import call\n",
    "call([\"git\", \"add\", \"Log_raw/Diary_telebot.txt\"])\n",
    "call([\"git\", \"add\", \"Diary Bot.ipynb\"])\n",
    "call([\"git\", \"commit\", '-m', \"\"])\n",
    "\n",
    "#call([\"git\", \"status\"])"
   ]
  }
 ],
 "metadata": {
  "kernelspec": {
   "display_name": "Python [conda env:anaconda3]",
   "language": "python",
   "name": "conda-env-anaconda3-py"
  },
  "language_info": {
   "codemirror_mode": {
    "name": "ipython",
    "version": 3
   },
   "file_extension": ".py",
   "mimetype": "text/x-python",
   "name": "python",
   "nbconvert_exporter": "python",
   "pygments_lexer": "ipython3",
   "version": "3.5.3"
  }
 },
 "nbformat": 4,
 "nbformat_minor": 2
}
